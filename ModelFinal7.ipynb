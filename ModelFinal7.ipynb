{
  "cells": [
    {
      "cell_type": "markdown",
      "metadata": {
        "id": "view-in-github",
        "colab_type": "text"
      },
      "source": [
        "<a href=\"https://colab.research.google.com/github/JoanChege/CHATBOT1/blob/main/ModelFinal7.ipynb\" target=\"_parent\"><img src=\"https://colab.research.google.com/assets/colab-badge.svg\" alt=\"Open In Colab\"/></a>"
      ]
    },
    {
      "cell_type": "code",
      "execution_count": 1,
      "metadata": {
        "colab": {
          "base_uri": "https://localhost:8080/"
        },
        "id": "5nIXtA4IBWIE",
        "outputId": "d21d21b6-5852-4cdc-fe24-7d025429f143"
      },
      "outputs": [
        {
          "output_type": "stream",
          "name": "stdout",
          "text": [
            "Collecting pyspellchecker\n",
            "  Downloading pyspellchecker-0.7.3-py3-none-any.whl (6.5 MB)\n",
            "\u001b[2K     \u001b[90m━━━━━━━━━━━━━━━━━━━━━━━━━━━━━━━━━━━━━━━━\u001b[0m \u001b[32m6.5/6.5 MB\u001b[0m \u001b[31m14.5 MB/s\u001b[0m eta \u001b[36m0:00:00\u001b[0m\n",
            "\u001b[?25hInstalling collected packages: pyspellchecker\n",
            "Successfully installed pyspellchecker-0.7.3\n",
            "Collecting contractions\n",
            "  Downloading contractions-0.1.73-py2.py3-none-any.whl (8.7 kB)\n",
            "Collecting textsearch>=0.0.21 (from contractions)\n",
            "  Downloading textsearch-0.0.24-py2.py3-none-any.whl (7.6 kB)\n",
            "Collecting anyascii (from textsearch>=0.0.21->contractions)\n",
            "  Downloading anyascii-0.3.2-py3-none-any.whl (289 kB)\n",
            "\u001b[2K     \u001b[90m━━━━━━━━━━━━━━━━━━━━━━━━━━━━━━━━━━━━━━━━\u001b[0m \u001b[32m289.9/289.9 kB\u001b[0m \u001b[31m5.2 MB/s\u001b[0m eta \u001b[36m0:00:00\u001b[0m\n",
            "\u001b[?25hCollecting pyahocorasick (from textsearch>=0.0.21->contractions)\n",
            "  Downloading pyahocorasick-2.0.0-cp310-cp310-manylinux_2_5_x86_64.manylinux1_x86_64.manylinux_2_12_x86_64.manylinux2010_x86_64.whl (110 kB)\n",
            "\u001b[2K     \u001b[90m━━━━━━━━━━━━━━━━━━━━━━━━━━━━━━━━━━━━━━━━\u001b[0m \u001b[32m110.8/110.8 kB\u001b[0m \u001b[31m7.3 MB/s\u001b[0m eta \u001b[36m0:00:00\u001b[0m\n",
            "\u001b[?25hInstalling collected packages: pyahocorasick, anyascii, textsearch, contractions\n",
            "Successfully installed anyascii-0.3.2 contractions-0.1.73 pyahocorasick-2.0.0 textsearch-0.0.24\n",
            "Collecting symspellpy\n",
            "  Downloading symspellpy-6.7.7-py3-none-any.whl (2.6 MB)\n",
            "\u001b[2K     \u001b[90m━━━━━━━━━━━━━━━━━━━━━━━━━━━━━━━━━━━━━━━━\u001b[0m \u001b[32m2.6/2.6 MB\u001b[0m \u001b[31m12.0 MB/s\u001b[0m eta \u001b[36m0:00:00\u001b[0m\n",
            "\u001b[?25hCollecting editdistpy>=0.1.3 (from symspellpy)\n",
            "  Downloading editdistpy-0.1.3.tar.gz (57 kB)\n",
            "\u001b[2K     \u001b[90m━━━━━━━━━━━━━━━━━━━━━━━━━━━━━━━━━━━━━━━━\u001b[0m \u001b[32m57.2/57.2 kB\u001b[0m \u001b[31m8.3 MB/s\u001b[0m eta \u001b[36m0:00:00\u001b[0m\n",
            "\u001b[?25h  Installing build dependencies ... \u001b[?25l\u001b[?25hdone\n",
            "  Getting requirements to build wheel ... \u001b[?25l\u001b[?25hdone\n",
            "  Preparing metadata (pyproject.toml) ... \u001b[?25l\u001b[?25hdone\n",
            "Building wheels for collected packages: editdistpy\n",
            "  Building wheel for editdistpy (pyproject.toml) ... \u001b[?25l\u001b[?25hdone\n",
            "  Created wheel for editdistpy: filename=editdistpy-0.1.3-cp310-cp310-linux_x86_64.whl size=187461 sha256=ea4ce109408de23629edfd22ebba78a4f3320c3a8a9d593511d950c181107502\n",
            "  Stored in directory: /root/.cache/pip/wheels/88/6a/a6/a1283cc145323a1fb3d475bd158ee60b248ab1985230d266fc\n",
            "Successfully built editdistpy\n",
            "Installing collected packages: editdistpy, symspellpy\n",
            "Successfully installed editdistpy-0.1.3 symspellpy-6.7.7\n",
            "Requirement already satisfied: nltk in /usr/local/lib/python3.10/dist-packages (3.8.1)\n",
            "Requirement already satisfied: contractions in /usr/local/lib/python3.10/dist-packages (0.1.73)\n",
            "Collecting pyenchant\n",
            "  Downloading pyenchant-3.2.2-py3-none-any.whl (55 kB)\n",
            "\u001b[2K     \u001b[90m━━━━━━━━━━━━━━━━━━━━━━━━━━━━━━━━━━━━━━━━\u001b[0m \u001b[32m55.7/55.7 kB\u001b[0m \u001b[31m1.7 MB/s\u001b[0m eta \u001b[36m0:00:00\u001b[0m\n",
            "\u001b[?25hRequirement already satisfied: click in /usr/local/lib/python3.10/dist-packages (from nltk) (8.1.7)\n",
            "Requirement already satisfied: joblib in /usr/local/lib/python3.10/dist-packages (from nltk) (1.3.2)\n",
            "Requirement already satisfied: regex>=2021.8.3 in /usr/local/lib/python3.10/dist-packages (from nltk) (2023.6.3)\n",
            "Requirement already satisfied: tqdm in /usr/local/lib/python3.10/dist-packages (from nltk) (4.66.1)\n",
            "Requirement already satisfied: textsearch>=0.0.21 in /usr/local/lib/python3.10/dist-packages (from contractions) (0.0.24)\n",
            "Requirement already satisfied: anyascii in /usr/local/lib/python3.10/dist-packages (from textsearch>=0.0.21->contractions) (0.3.2)\n",
            "Requirement already satisfied: pyahocorasick in /usr/local/lib/python3.10/dist-packages (from textsearch>=0.0.21->contractions) (2.0.0)\n",
            "Installing collected packages: pyenchant\n",
            "Successfully installed pyenchant-3.2.2\n",
            "Requirement already satisfied: gensim in /usr/local/lib/python3.10/dist-packages (4.3.2)\n",
            "Requirement already satisfied: numpy>=1.18.5 in /usr/local/lib/python3.10/dist-packages (from gensim) (1.23.5)\n",
            "Requirement already satisfied: scipy>=1.7.0 in /usr/local/lib/python3.10/dist-packages (from gensim) (1.11.4)\n",
            "Requirement already satisfied: smart-open>=1.8.1 in /usr/local/lib/python3.10/dist-packages (from gensim) (6.4.0)\n"
          ]
        }
      ],
      "source": [
        "!pip install pyspellchecker\n",
        "!pip install contractions\n",
        "!pip install symspellpy\n",
        "!pip install nltk contractions pyenchant\n",
        "!pip install gensim"
      ]
    },
    {
      "cell_type": "code",
      "execution_count": 2,
      "metadata": {
        "colab": {
          "base_uri": "https://localhost:8080/"
        },
        "id": "j9Wn6vG6DTvo",
        "outputId": "e0a94226-b7f1-4fe1-9fdc-4ecd6072de23"
      },
      "outputs": [
        {
          "output_type": "stream",
          "name": "stderr",
          "text": [
            "[nltk_data] Downloading package stopwords to /root/nltk_data...\n",
            "[nltk_data]   Unzipping corpora/stopwords.zip.\n",
            "[nltk_data] Downloading package punkt to /root/nltk_data...\n",
            "[nltk_data]   Unzipping tokenizers/punkt.zip.\n",
            "[nltk_data] Downloading package wordnet to /root/nltk_data...\n"
          ]
        },
        {
          "output_type": "execute_result",
          "data": {
            "text/plain": [
              "43"
            ]
          },
          "metadata": {},
          "execution_count": 2
        }
      ],
      "source": [
        "#import\n",
        "import json\n",
        "import pickle\n",
        "import numpy as np\n",
        "import pandas as pd\n",
        "import contractions\n",
        "from contractions import contractions_dict\n",
        "from collections import OrderedDict\n",
        "import re\n",
        "from spellchecker import SpellChecker\n",
        "from symspellpy import SymSpell, Verbosity\n",
        "from wordcloud import STOPWORDS\n",
        "\n",
        "from sklearn.feature_extraction.text import CountVectorizer\n",
        "from sklearn.feature_extraction.text import TfidfVectorizer\n",
        "from sklearn.model_selection import train_test_split\n",
        "from sklearn.preprocessing import LabelEncoder\n",
        "from sklearn.utils import shuffle\n",
        "from sklearn.model_selection import train_test_split\n",
        "from sklearn.metrics import accuracy_score, precision_score, recall_score, f1_score\n",
        "\n",
        "from gensim.models import Word2Vec\n",
        "\n",
        "\n",
        "import matplotlib.pyplot as plt\n",
        "\n",
        "import nltk\n",
        "from nltk.corpus import stopwords\n",
        "from nltk.stem import WordNetLemmatizer\n",
        "from nltk.tokenize import word_tokenize\n",
        "from nltk.translate.bleu_score import sentence_bleu, SmoothingFunction, corpus_bleu\n",
        "\n",
        "import tensorflow as tf\n",
        "from keras.models import Sequential\n",
        "from keras.layers import Embedding\n",
        "from keras.preprocessing.text import Tokenizer\n",
        "#from keras.preprocessing.sequence import pad_sequences\n",
        "from tensorflow.keras.preprocessing.sequence import pad_sequences\n",
        "from keras.utils import to_categorical\n",
        "from keras.models import Sequential\n",
        "from keras.layers import Bidirectional, LSTM, Dense, Dropout\n",
        "from keras.regularizers import l2\n",
        "from keras.optimizers import Adam\n",
        "from keras.callbacks import EarlyStopping\n",
        "from keras.models import load_model\n",
        "from keras.preprocessing.text import tokenizer_from_json\n",
        "\n",
        "nltk.download('stopwords')\n",
        "nltk.download('punkt')\n",
        "nltk.download('wordnet')\n",
        "\n",
        "import gc\n",
        "gc.collect()\n"
      ]
    },
    {
      "cell_type": "code",
      "execution_count": 3,
      "metadata": {
        "id": "rhI3dUOFDdvw"
      },
      "outputs": [],
      "source": [
        "#import data\n",
        "with open('/content/dataset3.json') as file:\n",
        "   intents = json.load(file)"
      ]
    },
    {
      "cell_type": "code",
      "execution_count": 4,
      "metadata": {
        "id": "qGfBtPNxDpb4"
      },
      "outputs": [],
      "source": [
        "# Instantiate spell checker\n",
        "spell = SpellChecker()\n",
        "\n",
        "# Stopwords\n",
        "stop_words = set(stopwords.words('english'))\n",
        "\n",
        "# Instantiate lemmatizer\n",
        "lemmatizer = WordNetLemmatizer()\n",
        "\n",
        "words, documents = [], []\n",
        "\n",
        "# Extract tags\n",
        "tags = [intent['tag'] for intent in intents['intents']]\n",
        "tags = list(set(tags))\n",
        "tags = sorted(tags)\n",
        "\n",
        "for intent in intents['intents']:\n",
        "    for pattern in intent['patterns']:\n",
        "        # Preprocess text\n",
        "        pattern = re.sub(r'[^\\w\\s]', '', pattern)\n",
        "        pattern = contractions.fix(pattern)\n",
        "        pattern = pattern.lower()\n",
        "\n",
        "        # Tokenization\n",
        "        w_tokens = word_tokenize(pattern)\n",
        "\n",
        "        # Spell correction\n",
        "        corrected_words = [spell.correction(word) for word in w_tokens]\n",
        "\n",
        "        # Filter nones\n",
        "        corrected_words = [word for word in corrected_words if word]\n",
        "\n",
        "        # Lemmatization\n",
        "        lemmed = [lemmatizer.lemmatize(word) for word in corrected_words]\n",
        "\n",
        "        # Additional preprocessing steps\n",
        "        lemmed = \" \".join([word for word in lemmed if word.lower() not in stop_words])\n",
        "        lemmed = \" \".join([lemmatizer.lemmatize(word) for word in lemmed.split()])\n",
        "        lemmed = re.sub(r'\\d+', '', lemmed)\n",
        "\n",
        "        words.append(lemmed.split())\n",
        "        documents.append((lemmed, intent['tag']))\n",
        "\n",
        "# Create a DataFrame from the documents\n",
        "df = pd.DataFrame(documents, columns=['processed_text', 'tag'])\n",
        "\n",
        "# Replace NaN values with the mean of each column\n",
        "df.fillna(df.mean(numeric_only=True), inplace=True)\n",
        "\n",
        "# Remove duplicates\n",
        "words = list(set(word for sublist in words for word in sublist))\n",
        "\n",
        "# Sort and save the words and tags\n",
        "# words = sorted(words)\n",
        "# tags = sorted(tags)\n",
        "\n",
        "# Save to pickle files\n",
        "pickle.dump(words, open('words.pkl', 'wb'))\n",
        "pickle.dump(tags, open('tags.pkl', 'wb'))"
      ]
    },
    {
      "cell_type": "code",
      "execution_count": 5,
      "metadata": {
        "colab": {
          "base_uri": "https://localhost:8080/",
          "height": 423
        },
        "id": "WNQkUAP088Yy",
        "outputId": "012f1b96-f5ea-4bd2-bf98-6bf3874246cf"
      },
      "outputs": [
        {
          "output_type": "execute_result",
          "data": {
            "text/plain": [
              "                                         processed_text       tag\n",
              "0                                                    hi  greeting\n",
              "1                                                   hey  greeting\n",
              "2                                                anyone  greeting\n",
              "3                                                    hi  greeting\n",
              "4                                                 hello  greeting\n",
              "...                                                 ...       ...\n",
              "5986  think absolutely need think realized therapy w...          \n",
              "5987  supposed get head depressed sometimes suicidal...          \n",
              "5988                              med counseling sorted          \n",
              "5989                                            deleted          \n",
              "5990                      mind like house made wet clay          \n",
              "\n",
              "[5991 rows x 2 columns]"
            ],
            "text/html": [
              "\n",
              "  <div id=\"df-22db6d61-9c5f-4ba6-9c05-ab72b07b6213\" class=\"colab-df-container\">\n",
              "    <div>\n",
              "<style scoped>\n",
              "    .dataframe tbody tr th:only-of-type {\n",
              "        vertical-align: middle;\n",
              "    }\n",
              "\n",
              "    .dataframe tbody tr th {\n",
              "        vertical-align: top;\n",
              "    }\n",
              "\n",
              "    .dataframe thead th {\n",
              "        text-align: right;\n",
              "    }\n",
              "</style>\n",
              "<table border=\"1\" class=\"dataframe\">\n",
              "  <thead>\n",
              "    <tr style=\"text-align: right;\">\n",
              "      <th></th>\n",
              "      <th>processed_text</th>\n",
              "      <th>tag</th>\n",
              "    </tr>\n",
              "  </thead>\n",
              "  <tbody>\n",
              "    <tr>\n",
              "      <th>0</th>\n",
              "      <td>hi</td>\n",
              "      <td>greeting</td>\n",
              "    </tr>\n",
              "    <tr>\n",
              "      <th>1</th>\n",
              "      <td>hey</td>\n",
              "      <td>greeting</td>\n",
              "    </tr>\n",
              "    <tr>\n",
              "      <th>2</th>\n",
              "      <td>anyone</td>\n",
              "      <td>greeting</td>\n",
              "    </tr>\n",
              "    <tr>\n",
              "      <th>3</th>\n",
              "      <td>hi</td>\n",
              "      <td>greeting</td>\n",
              "    </tr>\n",
              "    <tr>\n",
              "      <th>4</th>\n",
              "      <td>hello</td>\n",
              "      <td>greeting</td>\n",
              "    </tr>\n",
              "    <tr>\n",
              "      <th>...</th>\n",
              "      <td>...</td>\n",
              "      <td>...</td>\n",
              "    </tr>\n",
              "    <tr>\n",
              "      <th>5986</th>\n",
              "      <td>think absolutely need think realized therapy w...</td>\n",
              "      <td></td>\n",
              "    </tr>\n",
              "    <tr>\n",
              "      <th>5987</th>\n",
              "      <td>supposed get head depressed sometimes suicidal...</td>\n",
              "      <td></td>\n",
              "    </tr>\n",
              "    <tr>\n",
              "      <th>5988</th>\n",
              "      <td>med counseling sorted</td>\n",
              "      <td></td>\n",
              "    </tr>\n",
              "    <tr>\n",
              "      <th>5989</th>\n",
              "      <td>deleted</td>\n",
              "      <td></td>\n",
              "    </tr>\n",
              "    <tr>\n",
              "      <th>5990</th>\n",
              "      <td>mind like house made wet clay</td>\n",
              "      <td></td>\n",
              "    </tr>\n",
              "  </tbody>\n",
              "</table>\n",
              "<p>5991 rows × 2 columns</p>\n",
              "</div>\n",
              "    <div class=\"colab-df-buttons\">\n",
              "\n",
              "  <div class=\"colab-df-container\">\n",
              "    <button class=\"colab-df-convert\" onclick=\"convertToInteractive('df-22db6d61-9c5f-4ba6-9c05-ab72b07b6213')\"\n",
              "            title=\"Convert this dataframe to an interactive table.\"\n",
              "            style=\"display:none;\">\n",
              "\n",
              "  <svg xmlns=\"http://www.w3.org/2000/svg\" height=\"24px\" viewBox=\"0 -960 960 960\">\n",
              "    <path d=\"M120-120v-720h720v720H120Zm60-500h600v-160H180v160Zm220 220h160v-160H400v160Zm0 220h160v-160H400v160ZM180-400h160v-160H180v160Zm440 0h160v-160H620v160ZM180-180h160v-160H180v160Zm440 0h160v-160H620v160Z\"/>\n",
              "  </svg>\n",
              "    </button>\n",
              "\n",
              "  <style>\n",
              "    .colab-df-container {\n",
              "      display:flex;\n",
              "      gap: 12px;\n",
              "    }\n",
              "\n",
              "    .colab-df-convert {\n",
              "      background-color: #E8F0FE;\n",
              "      border: none;\n",
              "      border-radius: 50%;\n",
              "      cursor: pointer;\n",
              "      display: none;\n",
              "      fill: #1967D2;\n",
              "      height: 32px;\n",
              "      padding: 0 0 0 0;\n",
              "      width: 32px;\n",
              "    }\n",
              "\n",
              "    .colab-df-convert:hover {\n",
              "      background-color: #E2EBFA;\n",
              "      box-shadow: 0px 1px 2px rgba(60, 64, 67, 0.3), 0px 1px 3px 1px rgba(60, 64, 67, 0.15);\n",
              "      fill: #174EA6;\n",
              "    }\n",
              "\n",
              "    .colab-df-buttons div {\n",
              "      margin-bottom: 4px;\n",
              "    }\n",
              "\n",
              "    [theme=dark] .colab-df-convert {\n",
              "      background-color: #3B4455;\n",
              "      fill: #D2E3FC;\n",
              "    }\n",
              "\n",
              "    [theme=dark] .colab-df-convert:hover {\n",
              "      background-color: #434B5C;\n",
              "      box-shadow: 0px 1px 3px 1px rgba(0, 0, 0, 0.15);\n",
              "      filter: drop-shadow(0px 1px 2px rgba(0, 0, 0, 0.3));\n",
              "      fill: #FFFFFF;\n",
              "    }\n",
              "  </style>\n",
              "\n",
              "    <script>\n",
              "      const buttonEl =\n",
              "        document.querySelector('#df-22db6d61-9c5f-4ba6-9c05-ab72b07b6213 button.colab-df-convert');\n",
              "      buttonEl.style.display =\n",
              "        google.colab.kernel.accessAllowed ? 'block' : 'none';\n",
              "\n",
              "      async function convertToInteractive(key) {\n",
              "        const element = document.querySelector('#df-22db6d61-9c5f-4ba6-9c05-ab72b07b6213');\n",
              "        const dataTable =\n",
              "          await google.colab.kernel.invokeFunction('convertToInteractive',\n",
              "                                                    [key], {});\n",
              "        if (!dataTable) return;\n",
              "\n",
              "        const docLinkHtml = 'Like what you see? Visit the ' +\n",
              "          '<a target=\"_blank\" href=https://colab.research.google.com/notebooks/data_table.ipynb>data table notebook</a>'\n",
              "          + ' to learn more about interactive tables.';\n",
              "        element.innerHTML = '';\n",
              "        dataTable['output_type'] = 'display_data';\n",
              "        await google.colab.output.renderOutput(dataTable, element);\n",
              "        const docLink = document.createElement('div');\n",
              "        docLink.innerHTML = docLinkHtml;\n",
              "        element.appendChild(docLink);\n",
              "      }\n",
              "    </script>\n",
              "  </div>\n",
              "\n",
              "\n",
              "<div id=\"df-23ca6cb6-83be-4177-a756-95c1bc5ef168\">\n",
              "  <button class=\"colab-df-quickchart\" onclick=\"quickchart('df-23ca6cb6-83be-4177-a756-95c1bc5ef168')\"\n",
              "            title=\"Suggest charts\"\n",
              "            style=\"display:none;\">\n",
              "\n",
              "<svg xmlns=\"http://www.w3.org/2000/svg\" height=\"24px\"viewBox=\"0 0 24 24\"\n",
              "     width=\"24px\">\n",
              "    <g>\n",
              "        <path d=\"M19 3H5c-1.1 0-2 .9-2 2v14c0 1.1.9 2 2 2h14c1.1 0 2-.9 2-2V5c0-1.1-.9-2-2-2zM9 17H7v-7h2v7zm4 0h-2V7h2v10zm4 0h-2v-4h2v4z\"/>\n",
              "    </g>\n",
              "</svg>\n",
              "  </button>\n",
              "\n",
              "<style>\n",
              "  .colab-df-quickchart {\n",
              "      --bg-color: #E8F0FE;\n",
              "      --fill-color: #1967D2;\n",
              "      --hover-bg-color: #E2EBFA;\n",
              "      --hover-fill-color: #174EA6;\n",
              "      --disabled-fill-color: #AAA;\n",
              "      --disabled-bg-color: #DDD;\n",
              "  }\n",
              "\n",
              "  [theme=dark] .colab-df-quickchart {\n",
              "      --bg-color: #3B4455;\n",
              "      --fill-color: #D2E3FC;\n",
              "      --hover-bg-color: #434B5C;\n",
              "      --hover-fill-color: #FFFFFF;\n",
              "      --disabled-bg-color: #3B4455;\n",
              "      --disabled-fill-color: #666;\n",
              "  }\n",
              "\n",
              "  .colab-df-quickchart {\n",
              "    background-color: var(--bg-color);\n",
              "    border: none;\n",
              "    border-radius: 50%;\n",
              "    cursor: pointer;\n",
              "    display: none;\n",
              "    fill: var(--fill-color);\n",
              "    height: 32px;\n",
              "    padding: 0;\n",
              "    width: 32px;\n",
              "  }\n",
              "\n",
              "  .colab-df-quickchart:hover {\n",
              "    background-color: var(--hover-bg-color);\n",
              "    box-shadow: 0 1px 2px rgba(60, 64, 67, 0.3), 0 1px 3px 1px rgba(60, 64, 67, 0.15);\n",
              "    fill: var(--button-hover-fill-color);\n",
              "  }\n",
              "\n",
              "  .colab-df-quickchart-complete:disabled,\n",
              "  .colab-df-quickchart-complete:disabled:hover {\n",
              "    background-color: var(--disabled-bg-color);\n",
              "    fill: var(--disabled-fill-color);\n",
              "    box-shadow: none;\n",
              "  }\n",
              "\n",
              "  .colab-df-spinner {\n",
              "    border: 2px solid var(--fill-color);\n",
              "    border-color: transparent;\n",
              "    border-bottom-color: var(--fill-color);\n",
              "    animation:\n",
              "      spin 1s steps(1) infinite;\n",
              "  }\n",
              "\n",
              "  @keyframes spin {\n",
              "    0% {\n",
              "      border-color: transparent;\n",
              "      border-bottom-color: var(--fill-color);\n",
              "      border-left-color: var(--fill-color);\n",
              "    }\n",
              "    20% {\n",
              "      border-color: transparent;\n",
              "      border-left-color: var(--fill-color);\n",
              "      border-top-color: var(--fill-color);\n",
              "    }\n",
              "    30% {\n",
              "      border-color: transparent;\n",
              "      border-left-color: var(--fill-color);\n",
              "      border-top-color: var(--fill-color);\n",
              "      border-right-color: var(--fill-color);\n",
              "    }\n",
              "    40% {\n",
              "      border-color: transparent;\n",
              "      border-right-color: var(--fill-color);\n",
              "      border-top-color: var(--fill-color);\n",
              "    }\n",
              "    60% {\n",
              "      border-color: transparent;\n",
              "      border-right-color: var(--fill-color);\n",
              "    }\n",
              "    80% {\n",
              "      border-color: transparent;\n",
              "      border-right-color: var(--fill-color);\n",
              "      border-bottom-color: var(--fill-color);\n",
              "    }\n",
              "    90% {\n",
              "      border-color: transparent;\n",
              "      border-bottom-color: var(--fill-color);\n",
              "    }\n",
              "  }\n",
              "</style>\n",
              "\n",
              "  <script>\n",
              "    async function quickchart(key) {\n",
              "      const quickchartButtonEl =\n",
              "        document.querySelector('#' + key + ' button');\n",
              "      quickchartButtonEl.disabled = true;  // To prevent multiple clicks.\n",
              "      quickchartButtonEl.classList.add('colab-df-spinner');\n",
              "      try {\n",
              "        const charts = await google.colab.kernel.invokeFunction(\n",
              "            'suggestCharts', [key], {});\n",
              "      } catch (error) {\n",
              "        console.error('Error during call to suggestCharts:', error);\n",
              "      }\n",
              "      quickchartButtonEl.classList.remove('colab-df-spinner');\n",
              "      quickchartButtonEl.classList.add('colab-df-quickchart-complete');\n",
              "    }\n",
              "    (() => {\n",
              "      let quickchartButtonEl =\n",
              "        document.querySelector('#df-23ca6cb6-83be-4177-a756-95c1bc5ef168 button');\n",
              "      quickchartButtonEl.style.display =\n",
              "        google.colab.kernel.accessAllowed ? 'block' : 'none';\n",
              "    })();\n",
              "  </script>\n",
              "</div>\n",
              "\n",
              "  <div id=\"id_5728d262-dd9d-4320-8f7c-4889e05f403e\">\n",
              "    <style>\n",
              "      .colab-df-generate {\n",
              "        background-color: #E8F0FE;\n",
              "        border: none;\n",
              "        border-radius: 50%;\n",
              "        cursor: pointer;\n",
              "        display: none;\n",
              "        fill: #1967D2;\n",
              "        height: 32px;\n",
              "        padding: 0 0 0 0;\n",
              "        width: 32px;\n",
              "      }\n",
              "\n",
              "      .colab-df-generate:hover {\n",
              "        background-color: #E2EBFA;\n",
              "        box-shadow: 0px 1px 2px rgba(60, 64, 67, 0.3), 0px 1px 3px 1px rgba(60, 64, 67, 0.15);\n",
              "        fill: #174EA6;\n",
              "      }\n",
              "\n",
              "      [theme=dark] .colab-df-generate {\n",
              "        background-color: #3B4455;\n",
              "        fill: #D2E3FC;\n",
              "      }\n",
              "\n",
              "      [theme=dark] .colab-df-generate:hover {\n",
              "        background-color: #434B5C;\n",
              "        box-shadow: 0px 1px 3px 1px rgba(0, 0, 0, 0.15);\n",
              "        filter: drop-shadow(0px 1px 2px rgba(0, 0, 0, 0.3));\n",
              "        fill: #FFFFFF;\n",
              "      }\n",
              "    </style>\n",
              "    <button class=\"colab-df-generate\" onclick=\"generateWithVariable('df')\"\n",
              "            title=\"Generate code using this dataframe.\"\n",
              "            style=\"display:none;\">\n",
              "\n",
              "  <svg xmlns=\"http://www.w3.org/2000/svg\" height=\"24px\"viewBox=\"0 0 24 24\"\n",
              "       width=\"24px\">\n",
              "    <path d=\"M7,19H8.4L18.45,9,17,7.55,7,17.6ZM5,21V16.75L18.45,3.32a2,2,0,0,1,2.83,0l1.4,1.43a1.91,1.91,0,0,1,.58,1.4,1.91,1.91,0,0,1-.58,1.4L9.25,21ZM18.45,9,17,7.55Zm-12,3A5.31,5.31,0,0,0,4.9,8.1,5.31,5.31,0,0,0,1,6.5,5.31,5.31,0,0,0,4.9,4.9,5.31,5.31,0,0,0,6.5,1,5.31,5.31,0,0,0,8.1,4.9,5.31,5.31,0,0,0,12,6.5,5.46,5.46,0,0,0,6.5,12Z\"/>\n",
              "  </svg>\n",
              "    </button>\n",
              "    <script>\n",
              "      (() => {\n",
              "      const buttonEl =\n",
              "        document.querySelector('#id_5728d262-dd9d-4320-8f7c-4889e05f403e button.colab-df-generate');\n",
              "      buttonEl.style.display =\n",
              "        google.colab.kernel.accessAllowed ? 'block' : 'none';\n",
              "\n",
              "      buttonEl.onclick = () => {\n",
              "        google.colab.notebook.generateWithVariable('df');\n",
              "      }\n",
              "      })();\n",
              "    </script>\n",
              "  </div>\n",
              "\n",
              "    </div>\n",
              "  </div>\n"
            ]
          },
          "metadata": {},
          "execution_count": 5
        }
      ],
      "source": [
        "df"
      ]
    },
    {
      "cell_type": "code",
      "execution_count": 76,
      "metadata": {
        "colab": {
          "base_uri": "https://localhost:8080/"
        },
        "id": "iYPC0_YvFJaf",
        "outputId": "6be86d84-1eaf-4da6-fc64-4a44606729b2"
      },
      "outputs": [
        {
          "output_type": "stream",
          "name": "stdout",
          "text": [
            "   abandon  abandoned  abandoning  abandonment  abdomen  abduction  abductor  \\\n",
            "0      0.0        0.0         0.0          0.0      0.0        0.0       0.0   \n",
            "1      0.0        0.0         0.0          0.0      0.0        0.0       0.0   \n",
            "2      0.0        0.0         0.0          0.0      0.0        0.0       0.0   \n",
            "3      0.0        0.0         0.0          0.0      0.0        0.0       0.0   \n",
            "4      0.0        0.0         0.0          0.0      0.0        0.0       0.0   \n",
            "\n",
            "   abide  ability  able  ...  zelda  zen  zeppelin  zero  zhang  zhou  zip  \\\n",
            "0    0.0      0.0   0.0  ...    0.0  0.0       0.0   0.0    0.0   0.0  0.0   \n",
            "1    0.0      0.0   0.0  ...    0.0  0.0       0.0   0.0    0.0   0.0  0.0   \n",
            "2    0.0      0.0   0.0  ...    0.0  0.0       0.0   0.0    0.0   0.0  0.0   \n",
            "3    0.0      0.0   0.0  ...    0.0  0.0       0.0   0.0    0.0   0.0  0.0   \n",
            "4    0.0      0.0   0.0  ...    0.0  0.0       0.0   0.0    0.0   0.0  0.0   \n",
            "\n",
            "   zombie  zone  zoomed  \n",
            "0     0.0   0.0     0.0  \n",
            "1     0.0   0.0     0.0  \n",
            "2     0.0   0.0     0.0  \n",
            "3     0.0   0.0     0.0  \n",
            "4     0.0   0.0     0.0  \n",
            "\n",
            "[5 rows x 9401 columns]\n"
          ]
        }
      ],
      "source": [
        "# Initialize the TfidfVectorizer\n",
        "vectorizer = TfidfVectorizer(max_features=9401)\n",
        "\n",
        "# Fit and transform the data to get the TF-IDF matrix\n",
        "tfidf_matrix = vectorizer.fit_transform(df['processed_text'])\n",
        "\n",
        "# Convert the TF-IDF matrix to a DataFrame\n",
        "tfidf_df = pd.DataFrame(tfidf_matrix.toarray(), columns=vectorizer.get_feature_names_out())\n",
        "\n",
        "# Remove rows with empty strings or whitespaces in the 'target' column\n",
        "tfidf_df = tfidf_df[tfidf_df['target'].astype(str).str.strip() != '']\n",
        "\n",
        "# Convert the 'target' column to categorical\n",
        "tfidf_df['target'] = tfidf_df['target'].astype('category')\n",
        "\n",
        "# Display the final dataframe\n",
        "print(tfidf_df.head())"
      ]
    },
    {
      "cell_type": "code",
      "source": [
        "# Serialize the fitted vectorizer to disk\n",
        "with open('vectorized.pkl', 'wb') as f:\n",
        "    pickle.dump(tfidf_df, f)"
      ],
      "metadata": {
        "id": "M7STfbuqicIz"
      },
      "execution_count": 60,
      "outputs": []
    },
    {
      "cell_type": "code",
      "source": [
        "# Remove rows with empty strings or whitespaces in the 'target' column\n",
        "tfidf_df = tfidf_df[tfidf_df['target'].astype(str).str.strip() != '']\n",
        "\n",
        "# Convert the 'target' column to categorical\n",
        "tfidf_df['target'] = tfidf_df['target'].astype('category')\n",
        "\n",
        "# Features (X) and Target (y)\n",
        "X = tfidf_df.drop('target', axis=1)  # Features\n",
        "y = tfidf_df['target']  # Target"
      ],
      "metadata": {
        "id": "9YEoXyPfZIBG"
      },
      "execution_count": 74,
      "outputs": []
    },
    {
      "cell_type": "code",
      "source": [
        "# Print X and y\n",
        "print(\"Features (X):\")\n",
        "print(X.head())\n",
        "print(\"\\nTarget (y):\")\n",
        "print(y.head())"
      ],
      "metadata": {
        "colab": {
          "base_uri": "https://localhost:8080/"
        },
        "id": "Wstu7jSgZKe1",
        "outputId": "5274b7bd-8e08-4a8f-dfa7-74acbcee4660"
      },
      "execution_count": 75,
      "outputs": [
        {
          "output_type": "stream",
          "name": "stdout",
          "text": [
            "Features (X):\n",
            "   abandon  abandoned  abandoning  abandonment  abdomen  abduction  abductor  \\\n",
            "0      0.0        0.0         0.0          0.0      0.0        0.0       0.0   \n",
            "1      0.0        0.0         0.0          0.0      0.0        0.0       0.0   \n",
            "2      0.0        0.0         0.0          0.0      0.0        0.0       0.0   \n",
            "3      0.0        0.0         0.0          0.0      0.0        0.0       0.0   \n",
            "4      0.0        0.0         0.0          0.0      0.0        0.0       0.0   \n",
            "\n",
            "   abide  ability  able  ...  zelda  zen  zeppelin  zero  zhang  zhou  zip  \\\n",
            "0    0.0      0.0   0.0  ...    0.0  0.0       0.0   0.0    0.0   0.0  0.0   \n",
            "1    0.0      0.0   0.0  ...    0.0  0.0       0.0   0.0    0.0   0.0  0.0   \n",
            "2    0.0      0.0   0.0  ...    0.0  0.0       0.0   0.0    0.0   0.0  0.0   \n",
            "3    0.0      0.0   0.0  ...    0.0  0.0       0.0   0.0    0.0   0.0  0.0   \n",
            "4    0.0      0.0   0.0  ...    0.0  0.0       0.0   0.0    0.0   0.0  0.0   \n",
            "\n",
            "   zombie  zone  zoomed  \n",
            "0     0.0   0.0     0.0  \n",
            "1     0.0   0.0     0.0  \n",
            "2     0.0   0.0     0.0  \n",
            "3     0.0   0.0     0.0  \n",
            "4     0.0   0.0     0.0  \n",
            "\n",
            "[5 rows x 9399 columns]\n",
            "\n",
            "Target (y):\n",
            "0    0.0\n",
            "1    0.0\n",
            "2    0.0\n",
            "3    0.0\n",
            "4    0.0\n",
            "Name: target, dtype: category\n",
            "Categories (4, float64): [0.000000, 0.177180, 0.191091, 0.531579]\n"
          ]
        },
        {
          "output_type": "stream",
          "name": "stderr",
          "text": [
            "<ipython-input-75-4b5144eecba6>:5: FutureWarning: Index.ravel returning ndarray is deprecated; in a future version this will return a view on self.\n",
            "  print(y.head())\n"
          ]
        }
      ]
    },
    {
      "cell_type": "code",
      "execution_count": 58,
      "metadata": {
        "colab": {
          "base_uri": "https://localhost:8080/"
        },
        "id": "bocyX8vyLXyc",
        "outputId": "ada20c61-8898-461b-a8cf-cd56a11adf50"
      },
      "outputs": [
        {
          "output_type": "stream",
          "name": "stdout",
          "text": [
            "Training set: (4792, 9400) (4792,)\n",
            "Validation set: (599, 9400) (599,)\n",
            "Testing set: (600, 9400) (600,)\n"
          ]
        }
      ],
      "source": [
        "# Split the data into training, validation, and test sets\n",
        "X_train, X_temp, y_train, y_temp = train_test_split(X, y, test_size=0.2, random_state=42)\n",
        "X_val, X_test, y_val, y_test = train_test_split(X_temp, y_temp, test_size=0.5, random_state=42)\n",
        "\n",
        "# Display the shapes of the sets\n",
        "print(\"Training set:\", X_train.shape, y_train.shape)\n",
        "print(\"Validation set:\", X_val.shape, y_val.shape)\n",
        "print(\"Testing set:\", X_test.shape, y_test.shape)\n"
      ]
    },
    {
      "cell_type": "code",
      "execution_count": 50,
      "metadata": {
        "id": "quQygnGzUwJA"
      },
      "outputs": [],
      "source": [
        "# Get the vocab_size and input_length\n",
        "vocab_size_tfidf = X_train.shape[1]\n",
        "input_length = vocab_size_tfidf\n",
        "\n",
        "# Get the number of classes\n",
        "num_classes = len(np.unique(y_train))"
      ]
    },
    {
      "cell_type": "code",
      "execution_count": 51,
      "metadata": {
        "id": "6sKrcdWzL6yz"
      },
      "outputs": [],
      "source": [
        "# Create the model architecture\n",
        "model = Sequential()\n",
        "model.add(Embedding(input_dim=vocab_size_tfidf, output_dim=100, input_length=input_length))\n",
        "model.add(LSTM(units=256, activation='tanh', kernel_regularizer=l2(0.01), return_sequences=True))\n",
        "model.add(Dropout(0.5))\n",
        "model.add(LSTM(units=128, activation='tanh', kernel_regularizer=l2(0.01), return_sequences=False))\n",
        "model.add(Dropout(0.5))\n",
        "model.add(Dense(64, activation='relu', kernel_regularizer=l2(0.01)))\n",
        "model.add(Dropout(0.5))\n",
        "model.add(Dense(num_classes, activation='softmax'))"
      ]
    },
    {
      "cell_type": "code",
      "execution_count": 52,
      "metadata": {
        "colab": {
          "base_uri": "https://localhost:8080/"
        },
        "id": "UEHgi_eCbqYM",
        "outputId": "08dcfd5f-28e0-4058-8ae5-5db2088f4d13"
      },
      "outputs": [
        {
          "output_type": "stream",
          "name": "stdout",
          "text": [
            "Model: \"sequential_2\"\n",
            "_________________________________________________________________\n",
            " Layer (type)                Output Shape              Param #   \n",
            "=================================================================\n",
            " embedding_2 (Embedding)     (None, 9399, 100)         939900    \n",
            "                                                                 \n",
            " lstm_4 (LSTM)               (None, 9399, 256)         365568    \n",
            "                                                                 \n",
            " dropout_6 (Dropout)         (None, 9399, 256)         0         \n",
            "                                                                 \n",
            " lstm_5 (LSTM)               (None, 128)               197120    \n",
            "                                                                 \n",
            " dropout_7 (Dropout)         (None, 128)               0         \n",
            "                                                                 \n",
            " dense_4 (Dense)             (None, 64)                8256      \n",
            "                                                                 \n",
            " dropout_8 (Dropout)         (None, 64)                0         \n",
            "                                                                 \n",
            " dense_5 (Dense)             (None, 4)                 260       \n",
            "                                                                 \n",
            "=================================================================\n",
            "Total params: 1511104 (5.76 MB)\n",
            "Trainable params: 1511104 (5.76 MB)\n",
            "Non-trainable params: 0 (0.00 Byte)\n",
            "_________________________________________________________________\n"
          ]
        }
      ],
      "source": [
        "model.summary()"
      ]
    },
    {
      "cell_type": "code",
      "execution_count": 21,
      "metadata": {
        "id": "NJLFIrOCbt55"
      },
      "outputs": [],
      "source": [
        "# Compile the model\n",
        "model.compile(optimizer='adam', loss='categorical_crossentropy', metrics=['accuracy'])"
      ]
    },
    {
      "cell_type": "code",
      "execution_count": 22,
      "metadata": {
        "id": "tEOlKTvocFiU"
      },
      "outputs": [],
      "source": [
        "# Training with early stopping callback\n",
        "early_stop = EarlyStopping(monitor='val_loss', mode='min', verbose=1, patience=3)"
      ]
    },
    {
      "cell_type": "code",
      "execution_count": 23,
      "metadata": {
        "id": "DJj0mg6_SMU3"
      },
      "outputs": [],
      "source": [
        "# Initialize LabelEncoder\n",
        "label_encoder = LabelEncoder()\n",
        "\n",
        "# Fit and transform the labels for training set\n",
        "y_train_encoded = label_encoder.fit_transform(y_train)\n",
        "\n",
        "# Apply the same transformation to validation and test sets\n",
        "y_val_encoded = label_encoder.transform(y_val)\n",
        "y_test_encoded = label_encoder.transform(y_test)\n",
        "\n",
        "# Convert target variables to categorical format\n",
        "from keras.utils import to_categorical\n",
        "\n",
        "# Convert the encoded labels to categorical\n",
        "y_train_categorical = to_categorical(y_train_encoded, num_classes=num_classes)\n",
        "y_val_categorical = to_categorical(y_val_encoded, num_classes=num_classes)\n",
        "y_test_categorical = to_categorical(y_test_encoded, num_classes=num_classes)\n"
      ]
    },
    {
      "cell_type": "code",
      "execution_count": 24,
      "metadata": {
        "colab": {
          "base_uri": "https://localhost:8080/"
        },
        "id": "vnSj3we6b8kB",
        "outputId": "d4b379f0-4f15-4854-adf1-ad066f327e1a"
      },
      "outputs": [
        {
          "output_type": "stream",
          "name": "stdout",
          "text": [
            "Epoch 1/50\n",
            "75/75 [==============================] - 92s 1s/step - loss: 2.3765 - accuracy: 0.9898 - val_loss: 0.4764 - val_accuracy: 1.0000\n",
            "Epoch 2/50\n",
            "75/75 [==============================] - 87s 1s/step - loss: 0.2189 - accuracy: 0.9994 - val_loss: 0.0796 - val_accuracy: 1.0000\n",
            "Epoch 3/50\n",
            "75/75 [==============================] - 87s 1s/step - loss: 0.0549 - accuracy: 0.9994 - val_loss: 0.0235 - val_accuracy: 1.0000\n",
            "Epoch 4/50\n",
            "75/75 [==============================] - 87s 1s/step - loss: 0.0236 - accuracy: 0.9994 - val_loss: 0.0094 - val_accuracy: 1.0000\n",
            "Epoch 5/50\n",
            "75/75 [==============================] - 87s 1s/step - loss: 0.0144 - accuracy: 0.9994 - val_loss: 0.0068 - val_accuracy: 1.0000\n",
            "Epoch 6/50\n",
            "75/75 [==============================] - 87s 1s/step - loss: 0.0124 - accuracy: 0.9994 - val_loss: 0.0039 - val_accuracy: 1.0000\n",
            "Epoch 7/50\n",
            "75/75 [==============================] - 86s 1s/step - loss: 0.0116 - accuracy: 0.9994 - val_loss: 0.0036 - val_accuracy: 1.0000\n",
            "Epoch 8/50\n",
            "75/75 [==============================] - 87s 1s/step - loss: 0.0129 - accuracy: 0.9994 - val_loss: 0.0041 - val_accuracy: 1.0000\n",
            "Epoch 9/50\n",
            "75/75 [==============================] - 86s 1s/step - loss: 0.0111 - accuracy: 0.9994 - val_loss: 0.0041 - val_accuracy: 1.0000\n",
            "Epoch 10/50\n",
            "75/75 [==============================] - 87s 1s/step - loss: 0.0111 - accuracy: 0.9994 - val_loss: 0.0032 - val_accuracy: 1.0000\n",
            "Epoch 11/50\n",
            "75/75 [==============================] - 86s 1s/step - loss: 0.0129 - accuracy: 0.9994 - val_loss: 0.0032 - val_accuracy: 1.0000\n",
            "Epoch 12/50\n",
            "75/75 [==============================] - 87s 1s/step - loss: 0.0124 - accuracy: 0.9994 - val_loss: 0.0041 - val_accuracy: 1.0000\n",
            "Epoch 13/50\n",
            "75/75 [==============================] - 87s 1s/step - loss: 0.0120 - accuracy: 0.9994 - val_loss: 0.0042 - val_accuracy: 1.0000\n",
            "Epoch 14/50\n",
            "75/75 [==============================] - 87s 1s/step - loss: 0.0100 - accuracy: 0.9994 - val_loss: 0.0034 - val_accuracy: 1.0000\n",
            "Epoch 14: early stopping\n"
          ]
        }
      ],
      "source": [
        "# Convert X_train to NumPy array\n",
        "X_train_array = X_train.values\n",
        "\n",
        "# Ensure y_train_categorical is a NumPy array\n",
        "y_train_categorical = np.array(y_train_categorical)\n",
        "\n",
        "# fit the model\n",
        "model_hist = model.fit(\n",
        "    X_train_array, y_train_categorical,\n",
        "    epochs=50,\n",
        "    batch_size=64,\n",
        "    validation_data=(X_val.values, np.array(y_val_categorical)),\n",
        "    callbacks=[early_stop]\n",
        ")\n"
      ]
    },
    {
      "cell_type": "code",
      "execution_count": 25,
      "metadata": {
        "id": "aPfb5D8VcLxT",
        "colab": {
          "base_uri": "https://localhost:8080/"
        },
        "outputId": "0c911e91-6ecd-4a78-ee7f-5a0c3f1cb995"
      },
      "outputs": [
        {
          "output_type": "stream",
          "name": "stderr",
          "text": [
            "/usr/local/lib/python3.10/dist-packages/keras/src/engine/training.py:3103: UserWarning: You are saving your model as an HDF5 file via `model.save()`. This file format is considered legacy. We recommend using instead the native Keras format, e.g. `model.save('my_model.keras')`.\n",
            "  saving_api.save_model(\n"
          ]
        },
        {
          "output_type": "stream",
          "name": "stdout",
          "text": [
            "Done\n"
          ]
        }
      ],
      "source": [
        "model.save(\"chatbot_model.h5\")\n",
        "print('Done')"
      ]
    },
    {
      "cell_type": "code",
      "execution_count": 26,
      "metadata": {
        "id": "a1ZaHwZEcOTk",
        "colab": {
          "base_uri": "https://localhost:8080/",
          "height": 927
        },
        "outputId": "4e90f225-58f6-4d2c-a685-9bc67c628fb3"
      },
      "outputs": [
        {
          "output_type": "display_data",
          "data": {
            "text/plain": [
              "<Figure size 640x480 with 1 Axes>"
            ],
            "image/png": "[encoded data removed]"
          },
          "metadata": {}
        },
        {
          "output_type": "display_data",
          "data": {
            "text/plain": [
              "<Figure size 640x480 with 1 Axes>"
            ],
            "image/png": "[encoded data removed]"
          },
          "metadata": {}
        }
      ],
      "source": [
        "def plot(history):\n",
        "    #Plot accuracy\n",
        "    plt.plot(history.history['accuracy'])\n",
        "    plt.plot(history.history['val_accuracy'])\n",
        "    plt.title('Model Accuracy')\n",
        "    plt.ylabel('Accuracy')\n",
        "    plt.xlabel('epochs')\n",
        "    plt.legend(['Train', 'Val'], loc='upper left')\n",
        "    plt.show()\n",
        "\n",
        "    # Plot loss\n",
        "    plt.plot(history.history['loss'])\n",
        "    plt.plot(history.history['val_loss'])\n",
        "    plt.title('Model Loss')\n",
        "    plt.ylabel('Loss')\n",
        "    plt.xlabel('Epoch')\n",
        "    plt.legend(['Train', 'Val'], loc='upper left')\n",
        "    plt.show()\n",
        "\n",
        "plot(model_hist)"
      ]
    },
    {
      "cell_type": "code",
      "execution_count": 28,
      "metadata": {
        "id": "GIXbnkhvcRRq",
        "colab": {
          "base_uri": "https://localhost:8080/"
        },
        "outputId": "2c6cd82c-f078-4344-8aef-18c540c5862b"
      },
      "outputs": [
        {
          "output_type": "stream",
          "name": "stdout",
          "text": [
            "19/19 [==============================] - 9s 468ms/step - loss: 0.0034 - accuracy: 1.0000\n"
          ]
        },
        {
          "output_type": "execute_result",
          "data": {
            "text/plain": [
              "[0.0034386254847049713, 1.0]"
            ]
          },
          "metadata": {},
          "execution_count": 28
        }
      ],
      "source": [
        "model.evaluate(X_val.values, y_val_categorical)"
      ]
    },
    {
      "cell_type": "code",
      "execution_count": 30,
      "metadata": {
        "id": "5RR2OtgCdTwI",
        "colab": {
          "base_uri": "https://localhost:8080/"
        },
        "outputId": "07d2a818-676e-48cd-aa99-f6bfe8e291fd"
      },
      "outputs": [
        {
          "output_type": "stream",
          "name": "stdout",
          "text": [
            "19/19 [==============================] - 8s 417ms/step - loss: 0.0034 - accuracy: 1.0000\n",
            "Test Loss: 0.003438625717535615\n",
            "Test Accuracy: 1.0\n"
          ]
        }
      ],
      "source": [
        "# Convert target variables to categorical format for the test set\n",
        "y_test_categorical = to_categorical(y_test, num_classes=num_classes)\n",
        "\n",
        "# Evaluate the model on the test set\n",
        "test_metrics = model.evaluate(X_test.values, y_test_categorical)\n",
        "\n",
        "# Print the test metrics\n",
        "print(\"Test Loss:\", test_metrics[0])\n",
        "print(\"Test Accuracy:\", test_metrics[1])\n",
        "\n"
      ]
    },
    {
      "cell_type": "code",
      "execution_count": 31,
      "metadata": {
        "id": "OsDweJGRdtS5",
        "colab": {
          "base_uri": "https://localhost:8080/"
        },
        "outputId": "0b0ba87e-72a1-4b1f-f485-ed1c8997d805"
      },
      "outputs": [
        {
          "output_type": "stream",
          "name": "stdout",
          "text": [
            "19/19 [==============================] - 6s 276ms/step\n",
            "Accuracy: 1.0000\n",
            "Precision: 1.0000\n",
            "Recall: 1.0000\n",
            "F1-Score: 1.0000\n",
            "Confusion Matrix:\n",
            "[[599]]\n",
            "Classification Report:\n",
            "              precision    recall  f1-score   support\n",
            "\n",
            "           0       1.00      1.00      1.00       599\n",
            "\n",
            "    accuracy                           1.00       599\n",
            "   macro avg       1.00      1.00      1.00       599\n",
            "weighted avg       1.00      1.00      1.00       599\n",
            "\n"
          ]
        }
      ],
      "source": [
        "from sklearn.metrics import accuracy_score, precision_score, recall_score, f1_score, confusion_matrix, classification_report\n",
        "\n",
        "# Assuming you have predicted probabilities from your model\n",
        "y_pred_probs = model.predict(X_val.values)\n",
        "\n",
        "# Convert predicted probabilities to class labels\n",
        "y_pred_classes = np.argmax(y_pred_probs, axis=1)\n",
        "\n",
        "# Assuming y_val_classes is the true class labels\n",
        "y_val_classes = np.argmax(y_val_categorical, axis=1)\n",
        "\n",
        "# Calculate metrics\n",
        "acc = accuracy_score(y_val_classes, y_pred_classes)\n",
        "precision = precision_score(y_val_classes, y_pred_classes, average='weighted')\n",
        "recall = recall_score(y_val_classes, y_pred_classes, average='weighted')\n",
        "f1 = f1_score(y_val_classes, y_pred_classes, average='weighted')\n",
        "confusion_mat = confusion_matrix(y_val_classes, y_pred_classes)\n",
        "\n",
        "print(f'Accuracy: {acc:.4f}')\n",
        "print(f'Precision: {precision:.4f}')\n",
        "print(f'Recall: {recall:.4f}')\n",
        "print(f'F1-Score: {f1:.4f}')\n",
        "print('Confusion Matrix:')\n",
        "print(confusion_mat)\n",
        "\n",
        "# Classification report\n",
        "print('Classification Report:')\n",
        "print(classification_report(y_val_classes, y_pred_classes))\n"
      ]
    },
    {
      "cell_type": "code",
      "execution_count": 33,
      "metadata": {
        "id": "ntAwe9Ryin5-",
        "colab": {
          "base_uri": "https://localhost:8080/"
        },
        "outputId": "e675e075-4b90-4485-8e87-cd7023ac3ec9"
      },
      "outputs": [
        {
          "output_type": "stream",
          "name": "stdout",
          "text": [
            "19/19 [==============================] - 6s 319ms/step\n",
            "BLEU Score: 0.0015\n"
          ]
        }
      ],
      "source": [
        "from nltk.translate.bleu_score import corpus_bleu, SmoothingFunction\n",
        "\n",
        "# Assuming you have predicted probabilities from your model\n",
        "y_pred_probs = model.predict(X_val.values)\n",
        "\n",
        "# Convert predicted probabilities to class labels\n",
        "y_pred_classes = np.argmax(y_pred_probs, axis=1)\n",
        "\n",
        "# Assuming y_val_classes is the true class labels\n",
        "y_val_classes = np.argmax(y_val_categorical, axis=1)\n",
        "\n",
        "# Convert class labels to text sequences\n",
        "reference_sequences = [[str(seq)] for seq in y_val_classes]\n",
        "predicted_sequences = [str(seq) for seq in y_pred_classes]\n",
        "\n",
        "# Calculate BLEU score with brevity penalty\n",
        "bleu_score = corpus_bleu(reference_sequences, predicted_sequences, smoothing_function=SmoothingFunction().method1)\n",
        "\n",
        "print(f'BLEU Score: {bleu_score:.4f}')\n"
      ]
    },
    {
      "cell_type": "code",
      "execution_count": 41,
      "metadata": {
        "id": "encq4z3GjYj0",
        "colab": {
          "base_uri": "https://localhost:8080/"
        },
        "outputId": "b26f0325-aab6-4255-b4bc-1e7b0ceadff5"
      },
      "outputs": [
        {
          "name": "stdout",
          "output_type": "stream",
          "text": [
            "Ask me anything! [Type QUIT to exit]\n",
            "> hello\n",
            "Ask me another question!\n",
            "> hi\n",
            "Ask me another question!\n",
            "> quit\n"
          ]
        }
      ],
      "source": [
        "# Load preprocessor dependencies\n",
        "lemmatizer = WordNetLemmatizer()\n",
        "spell = SpellChecker()\n",
        "stop_words = set(stopwords.words('english'))\n",
        "\n",
        "# Load pretrained vectorizer\n",
        "vectorizer = pickle.load(open('vectorizer.pkl', 'rb'))\n",
        "\n",
        "# Preprocess function\n",
        "def preprocess_user_input(user_input):\n",
        "\n",
        "    # Preprocess text\n",
        "    user_input = re.sub(r'[^\\w\\s]', '', user_input)\n",
        "    user_input = user_input.lower()\n",
        "\n",
        "    # Tokenize\n",
        "    tokens = word_tokenize(user_input)\n",
        "\n",
        "    # Further preprocessing\n",
        "    preprocessed = \" \".join([lemmatizer.lemmatize(token) for token in tokens if token not in stop_words])\n",
        "\n",
        "    return preprocessed\n",
        "\n",
        "# Vectorize input text\n",
        "def vectorize_input(text):\n",
        "    vectorized = vectorizer.transform([text])\n",
        "    return pd.DataFrame(vectorized.toarray(), columns=vectorizer.get_feature_names_out())\n",
        "\n",
        "\n",
        "print(\"Ask me anything! [Type QUIT to exit]\")\n",
        "\n",
        "while True:\n",
        "    user_input = input(\"> \")\n",
        "\n",
        "    if user_input.lower() == \"quit\":\n",
        "        break\n",
        "\n",
        "    # Preprocess input\n",
        "    processed = preprocess_user_input(user_input)\n",
        "\n",
        "    # Vectorize\n",
        "    vectorized = vectorize_input(processed)\n",
        "\n",
        "    # Make prediction, get response, etc.\n",
        "\n",
        "    print(\"Ask me another question!\")"
      ]
    },
    {
      "cell_type": "code",
      "source": [
        "# Check the shape of your vectorized input\n",
        "print(tfidf_df.shape)\n"
      ],
      "metadata": {
        "colab": {
          "base_uri": "https://localhost:8080/"
        },
        "id": "NPMnjZ5Rl-Mk",
        "outputId": "1112635f-7d6d-4a46-b461-84e492bae219"
      },
      "execution_count": 44,
      "outputs": [
        {
          "output_type": "stream",
          "name": "stdout",
          "text": [
            "(5991, 9401)\n"
          ]
        }
      ]
    },
    {
      "cell_type": "code",
      "source": [],
      "metadata": {
        "id": "moa-nHOXmIco"
      },
      "execution_count": null,
      "outputs": []
    },
    {
      "cell_type": "code",
      "source": [
        "# Load vectorizer\n",
        "with open('vectorizer.pkl', 'rb') as f:\n",
        "    vectorizer = pickle.load(f)\n",
        "\n",
        "# Load model\n",
        "model = load_model('chatbot_model.h5')\n",
        "\n",
        "# Response strings\n",
        "responses = [\"Thanks for your feedback\", \"I'm glad I could help!\", \"Good talking to you!\"]\n",
        "\n",
        "def chat():\n",
        "\n",
        "    while True:\n",
        "        input_text = input(\"> \")\n",
        "\n",
        "        if input_text.lower() == \"quit\":\n",
        "            break\n",
        "\n",
        "        # Vectorize input\n",
        "        vectorized = vectorizer.transform([input_text])\n",
        "\n",
        "        # Predict class\n",
        "        pred = model.predict(vectorized).argmax(axis=1)[0]\n",
        "\n",
        "        # Print response\n",
        "        print(responses[pred])\n",
        "\n",
        "chat()"
      ],
      "metadata": {
        "colab": {
          "base_uri": "https://localhost:8080/",
          "height": 790
        },
        "id": "R5CYBDE3kC3r",
        "outputId": "691a432f-5b35-4d41-9567-3416263ef0f1"
      },
      "execution_count": 53,
      "outputs": [
        {
          "name": "stdout",
          "output_type": "stream",
          "text": [
            "> hi\n"
          ]
        },
        {
          "output_type": "error",
          "ename": "ValueError",
          "evalue": "in user code:\n\n    File \"/usr/local/lib/python3.10/dist-packages/keras/src/engine/training.py\", line 2440, in predict_function  *\n        return step_function(self, iterator)\n    File \"/usr/local/lib/python3.10/dist-packages/keras/src/engine/training.py\", line 2425, in step_function  **\n        outputs = model.distribute_strategy.run(run_step, args=(data,))\n    File \"/usr/local/lib/python3.10/dist-packages/keras/src/engine/training.py\", line 2413, in run_step  **\n        outputs = model.predict_step(data)\n    File \"/usr/local/lib/python3.10/dist-packages/keras/src/engine/training.py\", line 2381, in predict_step\n        return self(x, training=False)\n    File \"/usr/local/lib/python3.10/dist-packages/keras/src/utils/traceback_utils.py\", line 70, in error_handler\n        raise e.with_traceback(filtered_tb) from None\n    File \"/usr/local/lib/python3.10/dist-packages/keras/src/engine/input_spec.py\", line 298, in assert_input_compatibility\n        raise ValueError(\n\n    ValueError: Input 0 of layer \"sequential_1\" is incompatible with the layer: expected shape=(None, 9400), found shape=(None, 9401)\n",
          "traceback": [
            "\u001b[0;31m---------------------------------------------------------------------------\u001b[0m",
            "\u001b[0;31mValueError\u001b[0m                                Traceback (most recent call last)",
            "\u001b[0;32m<ipython-input-53-e8e5bd0201ed>\u001b[0m in \u001b[0;36m<cell line: 28>\u001b[0;34m()\u001b[0m\n\u001b[1;32m     26\u001b[0m         \u001b[0mprint\u001b[0m\u001b[0;34m(\u001b[0m\u001b[0mresponses\u001b[0m\u001b[0;34m[\u001b[0m\u001b[0mpred\u001b[0m\u001b[0;34m]\u001b[0m\u001b[0;34m)\u001b[0m\u001b[0;34m\u001b[0m\u001b[0;34m\u001b[0m\u001b[0m\n\u001b[1;32m     27\u001b[0m \u001b[0;34m\u001b[0m\u001b[0m\n\u001b[0;32m---> 28\u001b[0;31m \u001b[0mchat\u001b[0m\u001b[0;34m(\u001b[0m\u001b[0;34m)\u001b[0m\u001b[0;34m\u001b[0m\u001b[0;34m\u001b[0m\u001b[0m\n\u001b[0m",
            "\u001b[0;32m<ipython-input-53-e8e5bd0201ed>\u001b[0m in \u001b[0;36mchat\u001b[0;34m()\u001b[0m\n\u001b[1;32m     21\u001b[0m \u001b[0;34m\u001b[0m\u001b[0m\n\u001b[1;32m     22\u001b[0m         \u001b[0;31m# Predict class\u001b[0m\u001b[0;34m\u001b[0m\u001b[0;34m\u001b[0m\u001b[0m\n\u001b[0;32m---> 23\u001b[0;31m         \u001b[0mpred\u001b[0m \u001b[0;34m=\u001b[0m \u001b[0mmodel\u001b[0m\u001b[0;34m.\u001b[0m\u001b[0mpredict\u001b[0m\u001b[0;34m(\u001b[0m\u001b[0mvectorized\u001b[0m\u001b[0;34m)\u001b[0m\u001b[0;34m.\u001b[0m\u001b[0margmax\u001b[0m\u001b[0;34m(\u001b[0m\u001b[0maxis\u001b[0m\u001b[0;34m=\u001b[0m\u001b[0;36m1\u001b[0m\u001b[0;34m)\u001b[0m\u001b[0;34m[\u001b[0m\u001b[0;36m0\u001b[0m\u001b[0;34m]\u001b[0m\u001b[0;34m\u001b[0m\u001b[0;34m\u001b[0m\u001b[0m\n\u001b[0m\u001b[1;32m     24\u001b[0m \u001b[0;34m\u001b[0m\u001b[0m\n\u001b[1;32m     25\u001b[0m         \u001b[0;31m# Print response\u001b[0m\u001b[0;34m\u001b[0m\u001b[0;34m\u001b[0m\u001b[0m\n",
            "\u001b[0;32m/usr/local/lib/python3.10/dist-packages/keras/src/utils/traceback_utils.py\u001b[0m in \u001b[0;36merror_handler\u001b[0;34m(*args, **kwargs)\u001b[0m\n\u001b[1;32m     68\u001b[0m             \u001b[0;31m# To get the full stack trace, call:\u001b[0m\u001b[0;34m\u001b[0m\u001b[0;34m\u001b[0m\u001b[0m\n\u001b[1;32m     69\u001b[0m             \u001b[0;31m# `tf.debugging.disable_traceback_filtering()`\u001b[0m\u001b[0;34m\u001b[0m\u001b[0;34m\u001b[0m\u001b[0m\n\u001b[0;32m---> 70\u001b[0;31m             \u001b[0;32mraise\u001b[0m \u001b[0me\u001b[0m\u001b[0;34m.\u001b[0m\u001b[0mwith_traceback\u001b[0m\u001b[0;34m(\u001b[0m\u001b[0mfiltered_tb\u001b[0m\u001b[0;34m)\u001b[0m \u001b[0;32mfrom\u001b[0m \u001b[0;32mNone\u001b[0m\u001b[0;34m\u001b[0m\u001b[0;34m\u001b[0m\u001b[0m\n\u001b[0m\u001b[1;32m     71\u001b[0m         \u001b[0;32mfinally\u001b[0m\u001b[0;34m:\u001b[0m\u001b[0;34m\u001b[0m\u001b[0;34m\u001b[0m\u001b[0m\n\u001b[1;32m     72\u001b[0m             \u001b[0;32mdel\u001b[0m \u001b[0mfiltered_tb\u001b[0m\u001b[0;34m\u001b[0m\u001b[0;34m\u001b[0m\u001b[0m\n",
            "\u001b[0;32m/usr/local/lib/python3.10/dist-packages/keras/src/engine/training.py\u001b[0m in \u001b[0;36mtf__predict_function\u001b[0;34m(iterator)\u001b[0m\n\u001b[1;32m     13\u001b[0m                 \u001b[0;32mtry\u001b[0m\u001b[0;34m:\u001b[0m\u001b[0;34m\u001b[0m\u001b[0;34m\u001b[0m\u001b[0m\n\u001b[1;32m     14\u001b[0m                     \u001b[0mdo_return\u001b[0m \u001b[0;34m=\u001b[0m \u001b[0;32mTrue\u001b[0m\u001b[0;34m\u001b[0m\u001b[0;34m\u001b[0m\u001b[0m\n\u001b[0;32m---> 15\u001b[0;31m                     \u001b[0mretval_\u001b[0m \u001b[0;34m=\u001b[0m \u001b[0mag__\u001b[0m\u001b[0;34m.\u001b[0m\u001b[0mconverted_call\u001b[0m\u001b[0;34m(\u001b[0m\u001b[0mag__\u001b[0m\u001b[0;34m.\u001b[0m\u001b[0mld\u001b[0m\u001b[0;34m(\u001b[0m\u001b[0mstep_function\u001b[0m\u001b[0;34m)\u001b[0m\u001b[0;34m,\u001b[0m \u001b[0;34m(\u001b[0m\u001b[0mag__\u001b[0m\u001b[0;34m.\u001b[0m\u001b[0mld\u001b[0m\u001b[0;34m(\u001b[0m\u001b[0mself\u001b[0m\u001b[0;34m)\u001b[0m\u001b[0;34m,\u001b[0m \u001b[0mag__\u001b[0m\u001b[0;34m.\u001b[0m\u001b[0mld\u001b[0m\u001b[0;34m(\u001b[0m\u001b[0miterator\u001b[0m\u001b[0;34m)\u001b[0m\u001b[0;34m)\u001b[0m\u001b[0;34m,\u001b[0m \u001b[0;32mNone\u001b[0m\u001b[0;34m,\u001b[0m \u001b[0mfscope\u001b[0m\u001b[0;34m)\u001b[0m\u001b[0;34m\u001b[0m\u001b[0;34m\u001b[0m\u001b[0m\n\u001b[0m\u001b[1;32m     16\u001b[0m                 \u001b[0;32mexcept\u001b[0m\u001b[0;34m:\u001b[0m\u001b[0;34m\u001b[0m\u001b[0;34m\u001b[0m\u001b[0m\n\u001b[1;32m     17\u001b[0m                     \u001b[0mdo_return\u001b[0m \u001b[0;34m=\u001b[0m \u001b[0;32mFalse\u001b[0m\u001b[0;34m\u001b[0m\u001b[0;34m\u001b[0m\u001b[0m\n",
            "\u001b[0;31mValueError\u001b[0m: in user code:\n\n    File \"/usr/local/lib/python3.10/dist-packages/keras/src/engine/training.py\", line 2440, in predict_function  *\n        return step_function(self, iterator)\n    File \"/usr/local/lib/python3.10/dist-packages/keras/src/engine/training.py\", line 2425, in step_function  **\n        outputs = model.distribute_strategy.run(run_step, args=(data,))\n    File \"/usr/local/lib/python3.10/dist-packages/keras/src/engine/training.py\", line 2413, in run_step  **\n        outputs = model.predict_step(data)\n    File \"/usr/local/lib/python3.10/dist-packages/keras/src/engine/training.py\", line 2381, in predict_step\n        return self(x, training=False)\n    File \"/usr/local/lib/python3.10/dist-packages/keras/src/utils/traceback_utils.py\", line 70, in error_handler\n        raise e.with_traceback(filtered_tb) from None\n    File \"/usr/local/lib/python3.10/dist-packages/keras/src/engine/input_spec.py\", line 298, in assert_input_compatibility\n        raise ValueError(\n\n    ValueError: Input 0 of layer \"sequential_1\" is incompatible with the layer: expected shape=(None, 9400), found shape=(None, 9401)\n"
          ]
        }
      ]
    }
  ],
  "metadata": {
    "accelerator": "GPU",
    "colab": {
      "provenance": [],
      "include_colab_link": true
    },
    "kernelspec": {
      "display_name": "Python 3",
      "name": "python3"
    },
    "language_info": {
      "name": "python"
    }
  },
  "nbformat": 4,
  "nbformat_minor": 0
}