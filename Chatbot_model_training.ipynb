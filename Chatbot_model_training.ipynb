{
  "cells": [
    {
      "cell_type": "markdown",
      "metadata": {
        "id": "view-in-github",
        "colab_type": "text"
      },
      "source": [
        "<a href=\"https://colab.research.google.com/github/JoanChege/CHATBOT1/blob/main/Chatbot_model_training.ipynb\" target=\"_parent\"><img src=\"https://colab.research.google.com/assets/colab-badge.svg\" alt=\"Open In Colab\"/></a>"
      ]
    },
    {
      "cell_type": "markdown",
      "metadata": {
        "id": "DaLSxf8GA57E"
      },
      "source": [
        "1. IMPORT EVERYTHING\n",
        "2.   SET JSON FILE AS PANDAS DATAFRAME\n",
        "3.   PREPROCESS THE DATA\n",
        "4.   SPLIT DATA INTO TRAINING AND TESTING DATA\n",
        "\n",
        "\n",
        "\n"
      ]
    },
    {
      "cell_type": "code",
      "execution_count": null,
      "metadata": {
        "id": "iUCualcA_aSo"
      },
      "outputs": [],
      "source": [
        "import pandas as pd\n",
        "import numpy as np\n",
        "import tensorflow as tf\n",
        "from tensorflow.keras.models import Sequential\n",
        "from tensorflow.keras.layers import Embedding, Bidirectional, LSTM, Dense, Dropout\n",
        "from tensorflow.keras.optimizers import SGD\n",
        "from tensorflow.keras.optimizers import Adam\n",
        "from sklearn.model_selection import train_test_split\n",
        "from sklearn.preprocessing import LabelEncoder\n",
        "from tensorflow.keras.utils import to_categorical\n",
        "import re\n",
        "import nltk\n",
        "import json\n",
        "from nltk.corpus import stopwords\n",
        "from nltk.stem import WordNetLemmatizer\n",
        "nltk.download('stopwords')\n",
        "nltk.download('punkt')\n",
        "nltk.download('wordnet')"
      ]
    },
    {
      "cell_type": "code",
      "execution_count": null,
      "metadata": {
        "id": "Tmg98bzNAMFK"
      },
      "outputs": [],
      "source": [
        "#import the dataset\n",
        "with open('/content/dataset3.json') as f:\n",
        "    intents = json.load(f)\n",
        "\n",
        "\n",
        "\n",
        "\n",
        "# Preprocess Data-remove stopwords\n",
        "stop_words = set(stopwords.words('english'))\n",
        "\n",
        "data = []\n",
        "labels = []\n",
        "\n",
        "#perform tokenization, filtering, lemmatizatiopn\n",
        "if intents is not None:\n",
        "  for intent in intents['intents']:\n",
        "    for pattern in intent['patterns']:\n",
        "        pattern = pattern.strip() # Remove leading/trailing whitespace\n",
        "        tokenized_pattern = nltk.word_tokenize(pattern)\n",
        "        filtered_pattern = [word.lower() for word in tokenized_pattern if word.isalnum() and not word in stop_words]\n",
        "        lemmatizer = WordNetLemmatizer()\n",
        "        lemmatized_pattern = lemmatized_pattern = [lemmatizer.lemmatize(word) for word in filtered_pattern]\n",
        "        data.append(' '.join(lemmatized_pattern))\n",
        "        labels.append(intent['tag'])\n",
        "#The data list contains all the patterns, and the labels list contains all the corresponding intent tags.\n",
        "# Create a Pandas DataFrame\n",
        "df = pd.DataFrame({'Patterns': data, 'Tags': labels})\n",
        "\n",
        "# Encode the Labels by converting tags into numerical form\n",
        "encoder = LabelEncoder()\n",
        "df['Tags'] = encoder.fit_transform(df['Tags'])\n",
        "df['Tags'] = to_categorical(df['Tags'])"
      ]
    },
    {
      "cell_type": "markdown",
      "metadata": {
        "id": "KfsUijHyIi0K"
      },
      "source": [
        "The encoding of the labels: The output of this code will be a DataFrame where the 'Tags' column has been converted into one-hot encoded binary values. This is useful for feeding the data into a neural network for text classification, where each class of text can be represented as a one-hot encoded vector.\n",
        "\n",
        "\n"
      ]
    },
    {
      "cell_type": "code",
      "execution_count": null,
      "metadata": {
        "colab": {
          "base_uri": "https://localhost:8080/",
          "height": 423
        },
        "id": "2hS4TDCxc2IK",
        "outputId": "db50d750-b177-4cfe-9b86-9d62e31e506b"
      },
      "outputs": [
        {
          "data": {
            "text/html": [
              "\n",
              "  <div id=\"df-2e1ee347-dd64-4c0b-b20c-6317e28acfb0\" class=\"colab-df-container\">\n",
              "    <div>\n",
              "<style scoped>\n",
              "    .dataframe tbody tr th:only-of-type {\n",
              "        vertical-align: middle;\n",
              "    }\n",
              "\n",
              "    .dataframe tbody tr th {\n",
              "        vertical-align: top;\n",
              "    }\n",
              "\n",
              "    .dataframe thead th {\n",
              "        text-align: right;\n",
              "    }\n",
              "</style>\n",
              "<table border=\"1\" class=\"dataframe\">\n",
              "  <thead>\n",
              "    <tr style=\"text-align: right;\">\n",
              "      <th></th>\n",
              "      <th>Patterns</th>\n",
              "      <th>Tags</th>\n",
              "    </tr>\n",
              "  </thead>\n",
              "  <tbody>\n",
              "    <tr>\n",
              "      <th>0</th>\n",
              "      <td>hi</td>\n",
              "      <td>0.0</td>\n",
              "    </tr>\n",
              "    <tr>\n",
              "      <th>1</th>\n",
              "      <td>hey</td>\n",
              "      <td>0.0</td>\n",
              "    </tr>\n",
              "    <tr>\n",
              "      <th>2</th>\n",
              "      <td>is anyone</td>\n",
              "      <td>0.0</td>\n",
              "    </tr>\n",
              "    <tr>\n",
              "      <th>3</th>\n",
              "      <td>hi</td>\n",
              "      <td>0.0</td>\n",
              "    </tr>\n",
              "    <tr>\n",
              "      <th>4</th>\n",
              "      <td>hello</td>\n",
              "      <td>0.0</td>\n",
              "    </tr>\n",
              "    <tr>\n",
              "      <th>...</th>\n",
              "      <td>...</td>\n",
              "      <td>...</td>\n",
              "    </tr>\n",
              "    <tr>\n",
              "      <th>5986</th>\n",
              "      <td>i think absolutely i need i think i realized t...</td>\n",
              "      <td>0.0</td>\n",
              "    </tr>\n",
              "    <tr>\n",
              "      <th>5987</th>\n",
              "      <td>what i supposed i ca get head i depressed some...</td>\n",
              "      <td>0.0</td>\n",
              "    </tr>\n",
              "    <tr>\n",
              "      <th>5988</th>\n",
              "      <td>med counseling sorted</td>\n",
              "      <td>0.0</td>\n",
              "    </tr>\n",
              "    <tr>\n",
              "      <th>5989</th>\n",
              "      <td>deleted</td>\n",
              "      <td>0.0</td>\n",
              "    </tr>\n",
              "    <tr>\n",
              "      <th>5990</th>\n",
              "      <td>your mind like house made wet clay</td>\n",
              "      <td>0.0</td>\n",
              "    </tr>\n",
              "  </tbody>\n",
              "</table>\n",
              "<p>5991 rows × 2 columns</p>\n",
              "</div>\n",
              "    <div class=\"colab-df-buttons\">\n",
              "\n",
              "  <div class=\"colab-df-container\">\n",
              "    <button class=\"colab-df-convert\" onclick=\"convertToInteractive('df-2e1ee347-dd64-4c0b-b20c-6317e28acfb0')\"\n",
              "            title=\"Convert this dataframe to an interactive table.\"\n",
              "            style=\"display:none;\">\n",
              "\n",
              "  <svg xmlns=\"http://www.w3.org/2000/svg\" height=\"24px\" viewBox=\"0 -960 960 960\">\n",
              "    <path d=\"M120-120v-720h720v720H120Zm60-500h600v-160H180v160Zm220 220h160v-160H400v160Zm0 220h160v-160H400v160ZM180-400h160v-160H180v160Zm440 0h160v-160H620v160ZM180-180h160v-160H180v160Zm440 0h160v-160H620v160Z\"/>\n",
              "  </svg>\n",
              "    </button>\n",
              "\n",
              "  <style>\n",
              "    .colab-df-container {\n",
              "      display:flex;\n",
              "      gap: 12px;\n",
              "    }\n",
              "\n",
              "    .colab-df-convert {\n",
              "      background-color: #E8F0FE;\n",
              "      border: none;\n",
              "      border-radius: 50%;\n",
              "      cursor: pointer;\n",
              "      display: none;\n",
              "      fill: #1967D2;\n",
              "      height: 32px;\n",
              "      padding: 0 0 0 0;\n",
              "      width: 32px;\n",
              "    }\n",
              "\n",
              "    .colab-df-convert:hover {\n",
              "      background-color: #E2EBFA;\n",
              "      box-shadow: 0px 1px 2px rgba(60, 64, 67, 0.3), 0px 1px 3px 1px rgba(60, 64, 67, 0.15);\n",
              "      fill: #174EA6;\n",
              "    }\n",
              "\n",
              "    .colab-df-buttons div {\n",
              "      margin-bottom: 4px;\n",
              "    }\n",
              "\n",
              "    [theme=dark] .colab-df-convert {\n",
              "      background-color: #3B4455;\n",
              "      fill: #D2E3FC;\n",
              "    }\n",
              "\n",
              "    [theme=dark] .colab-df-convert:hover {\n",
              "      background-color: #434B5C;\n",
              "      box-shadow: 0px 1px 3px 1px rgba(0, 0, 0, 0.15);\n",
              "      filter: drop-shadow(0px 1px 2px rgba(0, 0, 0, 0.3));\n",
              "      fill: #FFFFFF;\n",
              "    }\n",
              "  </style>\n",
              "\n",
              "    <script>\n",
              "      const buttonEl =\n",
              "        document.querySelector('#df-2e1ee347-dd64-4c0b-b20c-6317e28acfb0 button.colab-df-convert');\n",
              "      buttonEl.style.display =\n",
              "        google.colab.kernel.accessAllowed ? 'block' : 'none';\n",
              "\n",
              "      async function convertToInteractive(key) {\n",
              "        const element = document.querySelector('#df-2e1ee347-dd64-4c0b-b20c-6317e28acfb0');\n",
              "        const dataTable =\n",
              "          await google.colab.kernel.invokeFunction('convertToInteractive',\n",
              "                                                    [key], {});\n",
              "        if (!dataTable) return;\n",
              "\n",
              "        const docLinkHtml = 'Like what you see? Visit the ' +\n",
              "          '<a target=\"_blank\" href=https://colab.research.google.com/notebooks/data_table.ipynb>data table notebook</a>'\n",
              "          + ' to learn more about interactive tables.';\n",
              "        element.innerHTML = '';\n",
              "        dataTable['output_type'] = 'display_data';\n",
              "        await google.colab.output.renderOutput(dataTable, element);\n",
              "        const docLink = document.createElement('div');\n",
              "        docLink.innerHTML = docLinkHtml;\n",
              "        element.appendChild(docLink);\n",
              "      }\n",
              "    </script>\n",
              "  </div>\n",
              "\n",
              "\n",
              "<div id=\"df-fdd7bb69-5436-41e5-9adb-811721817352\">\n",
              "  <button class=\"colab-df-quickchart\" onclick=\"quickchart('df-fdd7bb69-5436-41e5-9adb-811721817352')\"\n",
              "            title=\"Suggest charts\"\n",
              "            style=\"display:none;\">\n",
              "\n",
              "<svg xmlns=\"http://www.w3.org/2000/svg\" height=\"24px\"viewBox=\"0 0 24 24\"\n",
              "     width=\"24px\">\n",
              "    <g>\n",
              "        <path d=\"M19 3H5c-1.1 0-2 .9-2 2v14c0 1.1.9 2 2 2h14c1.1 0 2-.9 2-2V5c0-1.1-.9-2-2-2zM9 17H7v-7h2v7zm4 0h-2V7h2v10zm4 0h-2v-4h2v4z\"/>\n",
              "    </g>\n",
              "</svg>\n",
              "  </button>\n",
              "\n",
              "<style>\n",
              "  .colab-df-quickchart {\n",
              "      --bg-color: #E8F0FE;\n",
              "      --fill-color: #1967D2;\n",
              "      --hover-bg-color: #E2EBFA;\n",
              "      --hover-fill-color: #174EA6;\n",
              "      --disabled-fill-color: #AAA;\n",
              "      --disabled-bg-color: #DDD;\n",
              "  }\n",
              "\n",
              "  [theme=dark] .colab-df-quickchart {\n",
              "      --bg-color: #3B4455;\n",
              "      --fill-color: #D2E3FC;\n",
              "      --hover-bg-color: #434B5C;\n",
              "      --hover-fill-color: #FFFFFF;\n",
              "      --disabled-bg-color: #3B4455;\n",
              "      --disabled-fill-color: #666;\n",
              "  }\n",
              "\n",
              "  .colab-df-quickchart {\n",
              "    background-color: var(--bg-color);\n",
              "    border: none;\n",
              "    border-radius: 50%;\n",
              "    cursor: pointer;\n",
              "    display: none;\n",
              "    fill: var(--fill-color);\n",
              "    height: 32px;\n",
              "    padding: 0;\n",
              "    width: 32px;\n",
              "  }\n",
              "\n",
              "  .colab-df-quickchart:hover {\n",
              "    background-color: var(--hover-bg-color);\n",
              "    box-shadow: 0 1px 2px rgba(60, 64, 67, 0.3), 0 1px 3px 1px rgba(60, 64, 67, 0.15);\n",
              "    fill: var(--button-hover-fill-color);\n",
              "  }\n",
              "\n",
              "  .colab-df-quickchart-complete:disabled,\n",
              "  .colab-df-quickchart-complete:disabled:hover {\n",
              "    background-color: var(--disabled-bg-color);\n",
              "    fill: var(--disabled-fill-color);\n",
              "    box-shadow: none;\n",
              "  }\n",
              "\n",
              "  .colab-df-spinner {\n",
              "    border: 2px solid var(--fill-color);\n",
              "    border-color: transparent;\n",
              "    border-bottom-color: var(--fill-color);\n",
              "    animation:\n",
              "      spin 1s steps(1) infinite;\n",
              "  }\n",
              "\n",
              "  @keyframes spin {\n",
              "    0% {\n",
              "      border-color: transparent;\n",
              "      border-bottom-color: var(--fill-color);\n",
              "      border-left-color: var(--fill-color);\n",
              "    }\n",
              "    20% {\n",
              "      border-color: transparent;\n",
              "      border-left-color: var(--fill-color);\n",
              "      border-top-color: var(--fill-color);\n",
              "    }\n",
              "    30% {\n",
              "      border-color: transparent;\n",
              "      border-left-color: var(--fill-color);\n",
              "      border-top-color: var(--fill-color);\n",
              "      border-right-color: var(--fill-color);\n",
              "    }\n",
              "    40% {\n",
              "      border-color: transparent;\n",
              "      border-right-color: var(--fill-color);\n",
              "      border-top-color: var(--fill-color);\n",
              "    }\n",
              "    60% {\n",
              "      border-color: transparent;\n",
              "      border-right-color: var(--fill-color);\n",
              "    }\n",
              "    80% {\n",
              "      border-color: transparent;\n",
              "      border-right-color: var(--fill-color);\n",
              "      border-bottom-color: var(--fill-color);\n",
              "    }\n",
              "    90% {\n",
              "      border-color: transparent;\n",
              "      border-bottom-color: var(--fill-color);\n",
              "    }\n",
              "  }\n",
              "</style>\n",
              "\n",
              "  <script>\n",
              "    async function quickchart(key) {\n",
              "      const quickchartButtonEl =\n",
              "        document.querySelector('#' + key + ' button');\n",
              "      quickchartButtonEl.disabled = true;  // To prevent multiple clicks.\n",
              "      quickchartButtonEl.classList.add('colab-df-spinner');\n",
              "      try {\n",
              "        const charts = await google.colab.kernel.invokeFunction(\n",
              "            'suggestCharts', [key], {});\n",
              "      } catch (error) {\n",
              "        console.error('Error during call to suggestCharts:', error);\n",
              "      }\n",
              "      quickchartButtonEl.classList.remove('colab-df-spinner');\n",
              "      quickchartButtonEl.classList.add('colab-df-quickchart-complete');\n",
              "    }\n",
              "    (() => {\n",
              "      let quickchartButtonEl =\n",
              "        document.querySelector('#df-fdd7bb69-5436-41e5-9adb-811721817352 button');\n",
              "      quickchartButtonEl.style.display =\n",
              "        google.colab.kernel.accessAllowed ? 'block' : 'none';\n",
              "    })();\n",
              "  </script>\n",
              "</div>\n",
              "    </div>\n",
              "  </div>\n"
            ],
            "text/plain": [
              "                                               Patterns  Tags\n",
              "0                                                    hi   0.0\n",
              "1                                                   hey   0.0\n",
              "2                                             is anyone   0.0\n",
              "3                                                    hi   0.0\n",
              "4                                                 hello   0.0\n",
              "...                                                 ...   ...\n",
              "5986  i think absolutely i need i think i realized t...   0.0\n",
              "5987  what i supposed i ca get head i depressed some...   0.0\n",
              "5988                              med counseling sorted   0.0\n",
              "5989                                            deleted   0.0\n",
              "5990                 your mind like house made wet clay   0.0\n",
              "\n",
              "[5991 rows x 2 columns]"
            ]
          },
          "execution_count": 3,
          "metadata": {},
          "output_type": "execute_result"
        }
      ],
      "source": [
        "df"
      ]
    },
    {
      "cell_type": "code",
      "execution_count": null,
      "metadata": {
        "colab": {
          "base_uri": "https://localhost:8080/"
        },
        "id": "H4IFNI90Ho4R",
        "outputId": "b7d30f52-86cb-4d5e-ac1d-5da58c9f94f4"
      },
      "outputs": [
        {
          "name": "stdout",
          "output_type": "stream",
          "text": [
            "The number of unique words in the vocabulary is 5789\n"
          ]
        }
      ],
      "source": [
        "import collections\n",
        "word_counts = collections.Counter(data)\n",
        "num_words = len(word_counts)\n",
        "\n",
        "print(f\"The number of unique words in the vocabulary is {num_words}\")"
      ]
    },
    {
      "cell_type": "markdown",
      "metadata": {
        "id": "8KW-2TKSLHPw"
      },
      "source": [
        "PERFORM FEATURE EXTRACTION USING TDIF"
      ]
    },
    {
      "cell_type": "code",
      "execution_count": null,
      "metadata": {
        "colab": {
          "base_uri": "https://localhost:8080/",
          "height": 74
        },
        "id": "uo7N5qzCPChs",
        "outputId": "87b31931-5a7d-450b-878f-d55c7a568f46"
      },
      "outputs": [
        {
          "data": {
            "text/html": [
              "<style>#sk-container-id-1 {color: black;background-color: white;}#sk-container-id-1 pre{padding: 0;}#sk-container-id-1 div.sk-toggleable {background-color: white;}#sk-container-id-1 label.sk-toggleable__label {cursor: pointer;display: block;width: 100%;margin-bottom: 0;padding: 0.3em;box-sizing: border-box;text-align: center;}#sk-container-id-1 label.sk-toggleable__label-arrow:before {content: \"▸\";float: left;margin-right: 0.25em;color: #696969;}#sk-container-id-1 label.sk-toggleable__label-arrow:hover:before {color: black;}#sk-container-id-1 div.sk-estimator:hover label.sk-toggleable__label-arrow:before {color: black;}#sk-container-id-1 div.sk-toggleable__content {max-height: 0;max-width: 0;overflow: hidden;text-align: left;background-color: #f0f8ff;}#sk-container-id-1 div.sk-toggleable__content pre {margin: 0.2em;color: black;border-radius: 0.25em;background-color: #f0f8ff;}#sk-container-id-1 input.sk-toggleable__control:checked~div.sk-toggleable__content {max-height: 200px;max-width: 100%;overflow: auto;}#sk-container-id-1 input.sk-toggleable__control:checked~label.sk-toggleable__label-arrow:before {content: \"▾\";}#sk-container-id-1 div.sk-estimator input.sk-toggleable__control:checked~label.sk-toggleable__label {background-color: #d4ebff;}#sk-container-id-1 div.sk-label input.sk-toggleable__control:checked~label.sk-toggleable__label {background-color: #d4ebff;}#sk-container-id-1 input.sk-hidden--visually {border: 0;clip: rect(1px 1px 1px 1px);clip: rect(1px, 1px, 1px, 1px);height: 1px;margin: -1px;overflow: hidden;padding: 0;position: absolute;width: 1px;}#sk-container-id-1 div.sk-estimator {font-family: monospace;background-color: #f0f8ff;border: 1px dotted black;border-radius: 0.25em;box-sizing: border-box;margin-bottom: 0.5em;}#sk-container-id-1 div.sk-estimator:hover {background-color: #d4ebff;}#sk-container-id-1 div.sk-parallel-item::after {content: \"\";width: 100%;border-bottom: 1px solid gray;flex-grow: 1;}#sk-container-id-1 div.sk-label:hover label.sk-toggleable__label {background-color: #d4ebff;}#sk-container-id-1 div.sk-serial::before {content: \"\";position: absolute;border-left: 1px solid gray;box-sizing: border-box;top: 0;bottom: 0;left: 50%;z-index: 0;}#sk-container-id-1 div.sk-serial {display: flex;flex-direction: column;align-items: center;background-color: white;padding-right: 0.2em;padding-left: 0.2em;position: relative;}#sk-container-id-1 div.sk-item {position: relative;z-index: 1;}#sk-container-id-1 div.sk-parallel {display: flex;align-items: stretch;justify-content: center;background-color: white;position: relative;}#sk-container-id-1 div.sk-item::before, #sk-container-id-1 div.sk-parallel-item::before {content: \"\";position: absolute;border-left: 1px solid gray;box-sizing: border-box;top: 0;bottom: 0;left: 50%;z-index: -1;}#sk-container-id-1 div.sk-parallel-item {display: flex;flex-direction: column;z-index: 1;position: relative;background-color: white;}#sk-container-id-1 div.sk-parallel-item:first-child::after {align-self: flex-end;width: 50%;}#sk-container-id-1 div.sk-parallel-item:last-child::after {align-self: flex-start;width: 50%;}#sk-container-id-1 div.sk-parallel-item:only-child::after {width: 0;}#sk-container-id-1 div.sk-dashed-wrapped {border: 1px dashed gray;margin: 0 0.4em 0.5em 0.4em;box-sizing: border-box;padding-bottom: 0.4em;background-color: white;}#sk-container-id-1 div.sk-label label {font-family: monospace;font-weight: bold;display: inline-block;line-height: 1.2em;}#sk-container-id-1 div.sk-label-container {text-align: center;}#sk-container-id-1 div.sk-container {/* jupyter's `normalize.less` sets `[hidden] { display: none; }` but bootstrap.min.css set `[hidden] { display: none !important; }` so we also need the `!important` here to be able to override the default hidden behavior on the sphinx rendered scikit-learn.org. See: https://github.com/scikit-learn/scikit-learn/issues/21755 */display: inline-block !important;position: relative;}#sk-container-id-1 div.sk-text-repr-fallback {display: none;}</style><div id=\"sk-container-id-1\" class=\"sk-top-container\"><div class=\"sk-text-repr-fallback\"><pre>CountVectorizer()</pre><b>In a Jupyter environment, please rerun this cell to show the HTML representation or trust the notebook. <br />On GitHub, the HTML representation is unable to render, please try loading this page with nbviewer.org.</b></div><div class=\"sk-container\" hidden><div class=\"sk-item\"><div class=\"sk-estimator sk-toggleable\"><input class=\"sk-toggleable__control sk-hidden--visually\" id=\"sk-estimator-id-1\" type=\"checkbox\" checked><label for=\"sk-estimator-id-1\" class=\"sk-toggleable__label sk-toggleable__label-arrow\">CountVectorizer</label><div class=\"sk-toggleable__content\"><pre>CountVectorizer()</pre></div></div></div></div></div>"
            ],
            "text/plain": [
              "CountVectorizer()"
            ]
          },
          "execution_count": 4,
          "metadata": {},
          "output_type": "execute_result"
        }
      ],
      "source": [
        "from sklearn.feature_extraction.text import CountVectorizer\n",
        "#The CountVectorizer converts the text data into numerical vectors by counting the occurrence of each word in the text\n",
        "vectorizer = CountVectorizer()\n",
        "vectorizer.fit(data)"
      ]
    },
    {
      "cell_type": "code",
      "execution_count": null,
      "metadata": {
        "id": "rdU3y6TFS1cf"
      },
      "outputs": [],
      "source": [
        "X = vectorizer.transform(data) # transform text to feature vectors"
      ]
    },
    {
      "cell_type": "code",
      "execution_count": null,
      "metadata": {
        "id": "lBTWC_hbY4xw"
      },
      "outputs": [],
      "source": [
        "y = df['Tags']"
      ]
    },
    {
      "cell_type": "code",
      "execution_count": null,
      "metadata": {
        "id": "Z_sIJY6bvDdM"
      },
      "outputs": [],
      "source": [
        "train_ratio = 0.8 #80%\n",
        "val_ratio = 0.1 #10%\n",
        "test_ratio = 0.1 #10%"
      ]
    },
    {
      "cell_type": "code",
      "execution_count": null,
      "metadata": {
        "id": "d6kd0yYlvHeU"
      },
      "outputs": [],
      "source": [
        "from sklearn.utils import shuffle\n",
        "X, y = shuffle(X, y)"
      ]
    },
    {
      "cell_type": "code",
      "execution_count": null,
      "metadata": {
        "id": "IQs2Xvb13i-h"
      },
      "outputs": [],
      "source": [
        "total = X.shape[0]\n",
        "\n",
        "train_size = int(train_ratio * total)\n",
        "val_size = int(val_ratio * total)\n",
        "test_size = int(test_ratio * total)"
      ]
    },
    {
      "cell_type": "code",
      "execution_count": null,
      "metadata": {
        "id": "dgHJ4DrTTk3p"
      },
      "outputs": [],
      "source": [
        "# Encode labels as unique intergers\n",
        "from sklearn.preprocessing import LabelEncoder\n",
        "le = LabelEncoder()\n",
        "y = le.fit_transform(labels)\n",
        "#y_train = np.array(labels)\n"
      ]
    },
    {
      "cell_type": "code",
      "execution_count": null,
      "metadata": {
        "colab": {
          "base_uri": "https://localhost:8080/"
        },
        "id": "n06cZsPsXGUw",
        "outputId": "fc8c5522-4ae3-4332-a3e6-11172ce568b1"
      },
      "outputs": [
        {
          "name": "stdout",
          "output_type": "stream",
          "text": [
            "5991\n",
            "5991\n"
          ]
        }
      ],
      "source": [
        "print(X.shape[0])\n",
        "print(len(y))"
      ]
    },
    {
      "cell_type": "code",
      "execution_count": null,
      "metadata": {
        "id": "zOcz0r3xvKzf"
      },
      "outputs": [],
      "source": [
        "# Split into train/test\n",
        "X_train, X_test, y_train, y_test = train_test_split(X, y, test_size=0.2)\n",
        "\n",
        "# Split train into train/validation\n",
        "X_train, X_val, y_train, y_val = train_test_split(X_train, y_train, test_size=0.2)"
      ]
    },
    {
      "cell_type": "code",
      "execution_count": null,
      "metadata": {
        "id": "ukl-kyfIdKKD"
      },
      "outputs": [],
      "source": [
        "print(X_train)"
      ]
    },
    {
      "cell_type": "code",
      "execution_count": null,
      "metadata": {
        "colab": {
          "base_uri": "https://localhost:8080/"
        },
        "id": "dZgag4NjWpsE",
        "outputId": "b15a5311-312e-4cfe-b8df-b66cd6254d89"
      },
      "outputs": [
        {
          "name": "stdout",
          "output_type": "stream",
          "text": [
            "3833\n",
            "3833\n"
          ]
        }
      ],
      "source": [
        "print(X_train.shape[0])\n",
        "print(len(y_train))"
      ]
    },
    {
      "cell_type": "code",
      "execution_count": null,
      "metadata": {
        "id": "7-B7V27udOyz"
      },
      "outputs": [],
      "source": [
        "print(X_test)"
      ]
    },
    {
      "cell_type": "code",
      "execution_count": null,
      "metadata": {
        "colab": {
          "base_uri": "https://localhost:8080/"
        },
        "id": "_jyGkR5th9yn",
        "outputId": "7dcf4390-9a37-4ca5-f753-f9ed2e137717"
      },
      "outputs": [
        {
          "name": "stdout",
          "output_type": "stream",
          "text": [
            "[1 1 1 ... 1 1 1]\n"
          ]
        }
      ],
      "source": [
        "print(y_train)"
      ]
    },
    {
      "cell_type": "code",
      "execution_count": null,
      "metadata": {
        "colab": {
          "base_uri": "https://localhost:8080/"
        },
        "id": "WTaA-Ua0h_M6",
        "outputId": "bd4e1755-d702-449f-e013-49f6a592f280"
      },
      "outputs": [
        {
          "name": "stdout",
          "output_type": "stream",
          "text": [
            "[1 1 1 ... 1 1 1]\n"
          ]
        }
      ],
      "source": [
        "print(y_test)"
      ]
    },
    {
      "cell_type": "code",
      "execution_count": null,
      "metadata": {
        "id": "sYAIIbeT3wl6"
      },
      "outputs": [],
      "source": [
        "num_classes = len(le.classes_)\n",
        "y_train = np.reshape(y_train, (-1,1))"
      ]
    },
    {
      "cell_type": "code",
      "execution_count": null,
      "metadata": {
        "id": "qtHqsKalgD4y"
      },
      "outputs": [],
      "source": [
        "model = Sequential()\n",
        "model.add(Embedding(len(vectorizer.vocabulary_), 200, input_length=X_train.shape[1]))\n",
        "#model.add(Bidirectional(LSTM(128, return_sequences=True)))\n",
        "# Add 2 LSTM layers instead of 1\n",
        "model.add(LSTM(256, return_sequences=True))\n",
        "model.add(LSTM(256, kernel_regularizer='l2'))\n",
        "model.add(Dropout(0.8))\n",
        "model.add(Dense(64, activation='relu'))\n",
        "model.add(Dropout(0.8))\n",
        "model.add(Dense(num_classes, activation='softmax'))"
      ]
    },
    {
      "cell_type": "code",
      "execution_count": null,
      "metadata": {
        "colab": {
          "base_uri": "https://localhost:8080/"
        },
        "id": "N3CjZfWIYiIO",
        "outputId": "5ebd2470-0317-473c-9f1b-9761581e04d0"
      },
      "outputs": [
        {
          "name": "stdout",
          "output_type": "stream",
          "text": [
            "(3833, 1)\n",
            "120/120 [==============================] - 50s 395ms/step\n",
            "(3833, 318)\n"
          ]
        }
      ],
      "source": [
        "print(y_train.shape)\n",
        "print(model.predict(X_train).shape)"
      ]
    },
    {
      "cell_type": "code",
      "execution_count": null,
      "metadata": {
        "colab": {
          "base_uri": "https://localhost:8080/"
        },
        "id": "yl00VLvGif-h",
        "outputId": "2e9569f9-4eba-4c1f-8a1f-2af1385c7a8c"
      },
      "outputs": [
        {
          "name": "stdout",
          "output_type": "stream",
          "text": [
            "Model: \"sequential\"\n",
            "_________________________________________________________________\n",
            " Layer (type)                Output Shape              Param #   \n",
            "=================================================================\n",
            " embedding (Embedding)       (None, 10412, 200)        2082400   \n",
            "                                                                 \n",
            " lstm (LSTM)                 (None, 10412, 256)        467968    \n",
            "                                                                 \n",
            " lstm_1 (LSTM)               (None, 256)               525312    \n",
            "                                                                 \n",
            " dropout (Dropout)           (None, 256)               0         \n",
            "                                                                 \n",
            " dense (Dense)               (None, 64)                16448     \n",
            "                                                                 \n",
            " dropout_1 (Dropout)         (None, 64)                0         \n",
            "                                                                 \n",
            " dense_1 (Dense)             (None, 318)               20670     \n",
            "                                                                 \n",
            "=================================================================\n",
            "Total params: 3112798 (11.87 MB)\n",
            "Trainable params: 3112798 (11.87 MB)\n",
            "Non-trainable params: 0 (0.00 Byte)\n",
            "_________________________________________________________________\n"
          ]
        }
      ],
      "source": [
        "model.summary()"
      ]
    },
    {
      "cell_type": "code",
      "execution_count": null,
      "metadata": {
        "id": "8eBs2sbyZHkq"
      },
      "outputs": [],
      "source": [
        "y_train = y_train.reshape(-1, 1)"
      ]
    },
    {
      "cell_type": "code",
      "execution_count": null,
      "metadata": {
        "id": "qNGtbNZGZKkA"
      },
      "outputs": [],
      "source": [
        "num_classes = len(np.unique(y_train))"
      ]
    },
    {
      "cell_type": "code",
      "execution_count": null,
      "metadata": {
        "id": "DrHc9wJFZMdM"
      },
      "outputs": [],
      "source": [
        "y_train = np.resize(y_train, (num_classes,))"
      ]
    },
    {
      "cell_type": "code",
      "execution_count": null,
      "metadata": {
        "id": "UNG1TU-TUnS5"
      },
      "outputs": [],
      "source": [
        "model.compile(loss='sparse_categorical_crossentropy',\n",
        "              optimizer = Adam(learning_rate=0.001), metrics=['accuracy'])"
      ]
    },
    {
      "cell_type": "code",
      "execution_count": null,
      "metadata": {
        "id": "aPbnpkJcaotJ"
      },
      "outputs": [],
      "source": [
        "num_classes = model.layers[-1].units"
      ]
    },
    {
      "cell_type": "code",
      "execution_count": null,
      "metadata": {
        "id": "HRWA9PQyZjzm"
      },
      "outputs": [],
      "source": [
        "y_train = np.resize(y_train, (X_train.shape[0],))"
      ]
    },
    {
      "cell_type": "code",
      "execution_count": null,
      "metadata": {
        "colab": {
          "base_uri": "https://localhost:8080/"
        },
        "id": "7Dv15OdPZZDj",
        "outputId": "b06c52d6-deaa-464f-bf6e-e266891ba760"
      },
      "outputs": [
        {
          "name": "stdout",
          "output_type": "stream",
          "text": [
            "(3833, 10412)\n",
            "(3833,)\n"
          ]
        }
      ],
      "source": [
        "print(X_train.shape)\n",
        "print(y_train.shape)"
      ]
    },
    {
      "cell_type": "code",
      "execution_count": null,
      "metadata": {
        "colab": {
          "background_save": true,
          "base_uri": "https://localhost:8080/"
        },
        "id": "mJzpl2nrG7Le",
        "outputId": "078b4247-2d8b-4d8d-ee15-479d2b07bd9e"
      },
      "outputs": [
        {
          "name": "stdout",
          "output_type": "stream",
          "text": [
            "Epoch 1/20\n",
            "120/120 - 158s - loss: 3.1773 - accuracy: 0.7224 - val_loss: 1.2404 - val_accuracy: 0.8957 - 158s/epoch - 1s/step\n",
            "Epoch 2/20\n",
            "120/120 - 151s - loss: 1.2226 - accuracy: 0.9022 - val_loss: 1.2084 - val_accuracy: 0.8957 - 151s/epoch - 1s/step\n",
            "Epoch 3/20\n",
            "120/120 - 159s - loss: 1.0048 - accuracy: 0.9092 - val_loss: 1.4679 - val_accuracy: 0.8957 - 159s/epoch - 1s/step\n",
            "Epoch 4/20\n",
            "120/120 - 159s - loss: 0.9536 - accuracy: 0.9097 - val_loss: 1.3435 - val_accuracy: 0.8957 - 159s/epoch - 1s/step\n",
            "Epoch 5/20\n",
            "120/120 - 151s - loss: 0.8762 - accuracy: 0.9097 - val_loss: 1.5078 - val_accuracy: 0.8957 - 151s/epoch - 1s/step\n",
            "Epoch 6/20\n",
            "120/120 - 159s - loss: 0.8078 - accuracy: 0.9097 - val_loss: 1.5015 - val_accuracy: 0.8957 - 159s/epoch - 1s/step\n",
            "Epoch 7/20\n",
            "120/120 - 151s - loss: 0.8184 - accuracy: 0.9100 - val_loss: 1.5922 - val_accuracy: 0.8957 - 151s/epoch - 1s/step\n",
            "Epoch 8/20\n",
            "120/120 - 150s - loss: 0.7708 - accuracy: 0.9100 - val_loss: 1.7064 - val_accuracy: 0.8957 - 150s/epoch - 1s/step\n",
            "Epoch 9/20\n",
            "120/120 - 150s - loss: 0.7266 - accuracy: 0.9100 - val_loss: 1.7598 - val_accuracy: 0.8957 - 150s/epoch - 1s/step\n",
            "Epoch 10/20\n",
            "120/120 - 150s - loss: 0.7426 - accuracy: 0.9100 - val_loss: 1.7002 - val_accuracy: 0.8957 - 150s/epoch - 1s/step\n",
            "Epoch 11/20\n",
            "120/120 - 150s - loss: 0.7224 - accuracy: 0.9100 - val_loss: 1.7381 - val_accuracy: 0.8957 - 150s/epoch - 1s/step\n",
            "Epoch 12/20\n",
            "120/120 - 150s - loss: 0.7340 - accuracy: 0.9100 - val_loss: 1.7324 - val_accuracy: 0.8957 - 150s/epoch - 1s/step\n",
            "Epoch 13/20\n",
            "120/120 - 150s - loss: 0.7111 - accuracy: 0.9100 - val_loss: 1.7703 - val_accuracy: 0.8957 - 150s/epoch - 1s/step\n",
            "Epoch 14/20\n",
            "120/120 - 151s - loss: 0.7017 - accuracy: 0.9100 - val_loss: 1.7839 - val_accuracy: 0.8957 - 151s/epoch - 1s/step\n",
            "Epoch 15/20\n",
            "120/120 - 150s - loss: 0.6996 - accuracy: 0.9100 - val_loss: 1.7980 - val_accuracy: 0.8957 - 150s/epoch - 1s/step\n",
            "Epoch 16/20\n",
            "120/120 - 150s - loss: 0.6885 - accuracy: 0.9100 - val_loss: 1.8869 - val_accuracy: 0.8957 - 150s/epoch - 1s/step\n",
            "Epoch 17/20\n",
            "120/120 - 150s - loss: 0.6784 - accuracy: 0.9100 - val_loss: 1.8839 - val_accuracy: 0.8957 - 150s/epoch - 1s/step\n",
            "Epoch 18/20\n",
            "120/120 - 150s - loss: 0.6812 - accuracy: 0.9100 - val_loss: 1.8706 - val_accuracy: 0.8957 - 150s/epoch - 1s/step\n",
            "Epoch 19/20\n",
            "120/120 - 150s - loss: 0.6985 - accuracy: 0.9100 - val_loss: 1.8563 - val_accuracy: 0.8957 - 150s/epoch - 1s/step\n",
            "Epoch 20/20\n",
            "120/120 - 150s - loss: 0.6634 - accuracy: 0.9100 - val_loss: 1.9665 - val_accuracy: 0.8957 - 150s/epoch - 1s/step\n"
          ]
        }
      ],
      "source": [
        "hist = model.fit(X_train, y_train, epochs=20, validation_data=(X_val, y_val), verbose = 2)"
      ]
    },
    {
      "cell_type": "code",
      "execution_count": 43,
      "metadata": {
        "id": "Y9TLrC5I2m7r"
      },
      "outputs": [],
      "source": [
        "import matplotlib.pyplot as plt\n",
        "def plot(history):\n",
        "    plt.plot(history.history['accuracy'])\n",
        "    plt.plot(history.history['val_accuracy'])\n",
        "    plt.title('Model Accuracy')\n",
        "    plt.ylabel('Accuracy')\n",
        "    plt.xlabel('epochs')\n",
        "    plt.legend(['Train', 'Val'], loc='upper left')\n",
        "    plt.show()\n",
        "\n",
        "    # Plot loss\n",
        "    plt.plot(history.history['loss'])\n",
        "    plt.plot(history.history['val_loss'])\n",
        "    plt.title('Model Loss')\n",
        "    plt.ylabel('Loss')\n",
        "    plt.xlabel('Epoch')\n",
        "    plt.legend(['Train', 'Val'], loc='upper left')\n",
        "    plt.show()"
      ]
    },
    {
      "cell_type": "code",
      "source": [
        "plot(hist)"
      ],
      "metadata": {
        "colab": {
          "base_uri": "https://localhost:8080/",
          "height": 927
        },
        "id": "5RoN5COzdzIN",
        "outputId": "035c9698-9cd2-4802-9af3-0ba291cda6eb"
      },
      "execution_count": 48,
      "outputs": [
        {
          "output_type": "display_data",
          "data": {
            "text/plain": [
              "<Figure size 640x480 with 1 Axes>"
            ],
            "image/png": "[encoded data removed]"
          },
          "metadata": {}
        },
        {
          "output_type": "display_data",
          "data": {
            "text/plain": [
              "<Figure size 640x480 with 1 Axes>"
            ],
            "image/png": "[encoded data removed]"
          },
          "metadata": {}
        }
      ]
    },
    {
      "cell_type": "markdown",
      "metadata": {
        "id": "zeGIq2xUetLA"
      },
      "source": [
        "EVALUATE THE MODEL"
      ]
    },
    {
      "cell_type": "code",
      "execution_count": 37,
      "metadata": {
        "id": "1c-7sg49edl9"
      },
      "outputs": [],
      "source": [
        "from nltk.translate.bleu_score import sentence_bleu, SmoothingFunction\n",
        "import math\n",
        "\n",
        "#convert the X_test and y_test into actual sentences\n",
        "sentences = X_test.toarray()\n",
        "references = y_test\n",
        "\n",
        "# Take first sentence as example\n",
        "reference = references[0]\n",
        "candidate = sentences[0]\n",
        "\n",
        "# Convert to strings\n",
        "reference = [str(reference)]\n",
        "candidate = str(candidate)"
      ]
    },
    {
      "cell_type": "code",
      "execution_count": 38,
      "metadata": {
        "colab": {
          "base_uri": "https://localhost:8080/"
        },
        "id": "yimFzlZIexB5",
        "outputId": "9b1e54b7-fdc9-45d8-cff4-6ac37954092f"
      },
      "outputs": [
        {
          "output_type": "stream",
          "name": "stdout",
          "text": [
            "BLEU score is:  0\n",
            "Brevity Penalty is:  1\n",
            "BLEU score with Brevity Penalty is:  0\n"
          ]
        }
      ],
      "source": [
        "#calculate the BLEU score\n",
        "cc = SmoothingFunction()\n",
        "bleu = sentence_bleu(reference, candidate, smoothing_function = cc.method1)\n",
        "print(\"BLEU score is: \", bleu)\n",
        "\n",
        "\n",
        "#calculate the brevity penalty\n",
        "def brevity_penalty(candidate, reference):\n",
        "  c = len(candidate.split())\n",
        "  r = len(reference[0].split())\n",
        "  penalty = min(1, math.exp(1 - r/c))\n",
        "  return penalty\n",
        "\n",
        "bp = brevity_penalty(candidate, reference)\n",
        "print(\"Brevity Penalty is: \", bp)\n",
        "\n",
        "#adjust the bleu score with brevity penalty\n",
        "bleu_bp = bleu * bp\n",
        "print(\"BLEU score with Brevity Penalty is: \", bleu_bp)"
      ]
    },
    {
      "cell_type": "code",
      "execution_count": 39,
      "metadata": {
        "colab": {
          "base_uri": "https://localhost:8080/"
        },
        "id": "0Gf5b3kAjBTB",
        "outputId": "b2b6242d-0795-4321-c664-a3768def0520"
      },
      "outputs": [
        {
          "output_type": "stream",
          "name": "stdout",
          "text": [
            "Done\n"
          ]
        },
        {
          "output_type": "stream",
          "name": "stderr",
          "text": [
            "/usr/local/lib/python3.10/dist-packages/keras/src/engine/training.py:3079: UserWarning: You are saving your model as an HDF5 file via `model.save()`. This file format is considered legacy. We recommend using instead the native Keras format, e.g. `model.save('my_model.keras')`.\n",
            "  saving_api.save_model(\n"
          ]
        }
      ],
      "source": [
        "model.save('chatbot_model.h5')\n",
        "print('Done')"
      ]
    }
  ],
  "metadata": {
    "accelerator": "GPU",
    "colab": {
      "provenance": [],
      "authorship_tag": "ABX9TyNfEgPnKZiKQAA4blmLMZUF",
      "include_colab_link": true
    },
    "kernelspec": {
      "display_name": "Python 3",
      "name": "python3"
    },
    "language_info": {
      "name": "python"
    }
  },
  "nbformat": 4,
  "nbformat_minor": 0
}