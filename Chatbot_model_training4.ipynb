{
  "cells": [
    {
      "cell_type": "markdown",
      "metadata": {
        "id": "view-in-github",
        "colab_type": "text"
      },
      "source": [
        "<a href=\"https://colab.research.google.com/github/JoanChege/CHATBOT1/blob/main/Chatbot_model_training4.ipynb\" target=\"_parent\"><img src=\"https://colab.research.google.com/assets/colab-badge.svg\" alt=\"Open In Colab\"/></a>"
      ]
    },
    {
      "cell_type": "markdown",
      "metadata": {
        "id": "DaLSxf8GA57E"
      },
      "source": [
        "1. IMPORT EVERYTHING\n",
        "2.   SET JSON FILE AS PANDAS DATAFRAME\n",
        "3.   PREPROCESS THE DATA\n",
        "4.   SPLIT DATA INTO TRAINING AND TESTING DATA\n",
        "\n",
        "\n",
        "\n"
      ]
    },
    {
      "cell_type": "code",
      "execution_count": 4,
      "metadata": {
        "colab": {
          "base_uri": "https://localhost:8080/"
        },
        "id": "iUCualcA_aSo",
        "outputId": "7e3e1004-5765-4c30-9cc4-6a4514415018"
      },
      "outputs": [
        {
          "output_type": "stream",
          "name": "stderr",
          "text": [
            "[nltk_data] Downloading package stopwords to /root/nltk_data...\n",
            "[nltk_data]   Unzipping corpora/stopwords.zip.\n",
            "[nltk_data] Downloading package punkt to /root/nltk_data...\n",
            "[nltk_data]   Unzipping tokenizers/punkt.zip.\n",
            "[nltk_data] Downloading package wordnet to /root/nltk_data...\n"
          ]
        },
        {
          "output_type": "execute_result",
          "data": {
            "text/plain": [
              "True"
            ]
          },
          "metadata": {},
          "execution_count": 4
        }
      ],
      "source": [
        "import pandas as pd\n",
        "import numpy as np\n",
        "import tensorflow as tf\n",
        "from tensorflow.keras.models import Sequential\n",
        "from tensorflow.keras.layers import Embedding, Bidirectional, LSTM, Dense, Dropout\n",
        "from tensorflow.keras.optimizers import SGD\n",
        "from tensorflow.keras.optimizers import Adam\n",
        "from sklearn.model_selection import train_test_split\n",
        "from sklearn.preprocessing import LabelEncoder\n",
        "from tensorflow.keras.utils import to_categorical\n",
        "import re\n",
        "import nltk\n",
        "import json\n",
        "from nltk.corpus import stopwords\n",
        "from nltk.stem import WordNetLemmatizer\n",
        "nltk.download('stopwords')\n",
        "nltk.download('punkt')\n",
        "nltk.download('wordnet')"
      ]
    },
    {
      "cell_type": "code",
      "execution_count": 5,
      "metadata": {
        "id": "Tmg98bzNAMFK"
      },
      "outputs": [],
      "source": [
        "#import the dataset\n",
        "with open('/content/dataset3.json') as f:\n",
        "    intents = json.load(f)\n",
        "\n",
        "\n",
        "\n",
        "\n",
        "# Preprocess Data-remove stopwords\n",
        "stop_words = set(stopwords.words('english'))\n",
        "\n",
        "data = []\n",
        "labels = []\n",
        "\n",
        "#perform tokenization, filtering, lemmatizatiopn\n",
        "if intents is not None:\n",
        "  for intent in intents['intents']:\n",
        "    for pattern in intent['patterns']:\n",
        "        pattern = pattern.strip() # Remove leading/trailing whitespace\n",
        "        tokenized_pattern = nltk.word_tokenize(pattern)\n",
        "        filtered_pattern = [word.lower() for word in tokenized_pattern if word.isalnum() and not word in stop_words]\n",
        "        lemmatizer = WordNetLemmatizer()\n",
        "        lemmatized_pattern = lemmatized_pattern = [lemmatizer.lemmatize(word) for word in filtered_pattern]\n",
        "        data.append(' '.join(lemmatized_pattern))\n",
        "        labels.append(intent['tag'])\n",
        "#The data list contains all the patterns, and the labels list contains all the corresponding intent tags.\n",
        "# Create a Pandas DataFrame\n",
        "df = pd.DataFrame({'Patterns': data, 'Tags': labels})\n",
        "\n",
        "# Encode the Labels by converting tags into numerical form\n",
        "encoder = LabelEncoder()\n",
        "df['Tags'] = encoder.fit_transform(df['Tags'])\n",
        "df['Tags'] = to_categorical(df['Tags'])"
      ]
    },
    {
      "cell_type": "markdown",
      "metadata": {
        "id": "KfsUijHyIi0K"
      },
      "source": [
        "The encoding of the labels: The output of this code will be a DataFrame where the 'Tags' column has been converted into one-hot encoded binary values. This is useful for feeding the data into a neural network for text classification, where each class of text can be represented as a one-hot encoded vector.\n",
        "\n",
        "\n"
      ]
    },
    {
      "cell_type": "code",
      "execution_count": 6,
      "metadata": {
        "id": "eTYMehJmvxhg"
      },
      "outputs": [],
      "source": [
        "import pickle\n",
        "pickle.dump(data, open('data.pkl', 'wb'))\n",
        "pickle.dump(labels, open('labels.pkl', 'wb'))"
      ]
    },
    {
      "cell_type": "code",
      "execution_count": 7,
      "metadata": {
        "colab": {
          "base_uri": "https://localhost:8080/",
          "height": 423
        },
        "id": "2hS4TDCxc2IK",
        "outputId": "34fdc113-e10d-4c49-fd9c-23660edad85f"
      },
      "outputs": [
        {
          "output_type": "execute_result",
          "data": {
            "text/plain": [
              "                                               Patterns  Tags\n",
              "0                                                    hi   0.0\n",
              "1                                                   hey   0.0\n",
              "2                                             is anyone   0.0\n",
              "3                                                    hi   0.0\n",
              "4                                                 hello   0.0\n",
              "...                                                 ...   ...\n",
              "5986  i think absolutely i need i think i realized t...   0.0\n",
              "5987  what i supposed i ca get head i depressed some...   0.0\n",
              "5988                              med counseling sorted   0.0\n",
              "5989                                            deleted   0.0\n",
              "5990                 your mind like house made wet clay   0.0\n",
              "\n",
              "[5991 rows x 2 columns]"
            ],
            "text/html": [
              "\n",
              "  <div id=\"df-116f2664-1615-422e-a2c0-8f6f4b114e67\" class=\"colab-df-container\">\n",
              "    <div>\n",
              "<style scoped>\n",
              "    .dataframe tbody tr th:only-of-type {\n",
              "        vertical-align: middle;\n",
              "    }\n",
              "\n",
              "    .dataframe tbody tr th {\n",
              "        vertical-align: top;\n",
              "    }\n",
              "\n",
              "    .dataframe thead th {\n",
              "        text-align: right;\n",
              "    }\n",
              "</style>\n",
              "<table border=\"1\" class=\"dataframe\">\n",
              "  <thead>\n",
              "    <tr style=\"text-align: right;\">\n",
              "      <th></th>\n",
              "      <th>Patterns</th>\n",
              "      <th>Tags</th>\n",
              "    </tr>\n",
              "  </thead>\n",
              "  <tbody>\n",
              "    <tr>\n",
              "      <th>0</th>\n",
              "      <td>hi</td>\n",
              "      <td>0.0</td>\n",
              "    </tr>\n",
              "    <tr>\n",
              "      <th>1</th>\n",
              "      <td>hey</td>\n",
              "      <td>0.0</td>\n",
              "    </tr>\n",
              "    <tr>\n",
              "      <th>2</th>\n",
              "      <td>is anyone</td>\n",
              "      <td>0.0</td>\n",
              "    </tr>\n",
              "    <tr>\n",
              "      <th>3</th>\n",
              "      <td>hi</td>\n",
              "      <td>0.0</td>\n",
              "    </tr>\n",
              "    <tr>\n",
              "      <th>4</th>\n",
              "      <td>hello</td>\n",
              "      <td>0.0</td>\n",
              "    </tr>\n",
              "    <tr>\n",
              "      <th>...</th>\n",
              "      <td>...</td>\n",
              "      <td>...</td>\n",
              "    </tr>\n",
              "    <tr>\n",
              "      <th>5986</th>\n",
              "      <td>i think absolutely i need i think i realized t...</td>\n",
              "      <td>0.0</td>\n",
              "    </tr>\n",
              "    <tr>\n",
              "      <th>5987</th>\n",
              "      <td>what i supposed i ca get head i depressed some...</td>\n",
              "      <td>0.0</td>\n",
              "    </tr>\n",
              "    <tr>\n",
              "      <th>5988</th>\n",
              "      <td>med counseling sorted</td>\n",
              "      <td>0.0</td>\n",
              "    </tr>\n",
              "    <tr>\n",
              "      <th>5989</th>\n",
              "      <td>deleted</td>\n",
              "      <td>0.0</td>\n",
              "    </tr>\n",
              "    <tr>\n",
              "      <th>5990</th>\n",
              "      <td>your mind like house made wet clay</td>\n",
              "      <td>0.0</td>\n",
              "    </tr>\n",
              "  </tbody>\n",
              "</table>\n",
              "<p>5991 rows × 2 columns</p>\n",
              "</div>\n",
              "    <div class=\"colab-df-buttons\">\n",
              "\n",
              "  <div class=\"colab-df-container\">\n",
              "    <button class=\"colab-df-convert\" onclick=\"convertToInteractive('df-116f2664-1615-422e-a2c0-8f6f4b114e67')\"\n",
              "            title=\"Convert this dataframe to an interactive table.\"\n",
              "            style=\"display:none;\">\n",
              "\n",
              "  <svg xmlns=\"http://www.w3.org/2000/svg\" height=\"24px\" viewBox=\"0 -960 960 960\">\n",
              "    <path d=\"M120-120v-720h720v720H120Zm60-500h600v-160H180v160Zm220 220h160v-160H400v160Zm0 220h160v-160H400v160ZM180-400h160v-160H180v160Zm440 0h160v-160H620v160ZM180-180h160v-160H180v160Zm440 0h160v-160H620v160Z\"/>\n",
              "  </svg>\n",
              "    </button>\n",
              "\n",
              "  <style>\n",
              "    .colab-df-container {\n",
              "      display:flex;\n",
              "      gap: 12px;\n",
              "    }\n",
              "\n",
              "    .colab-df-convert {\n",
              "      background-color: #E8F0FE;\n",
              "      border: none;\n",
              "      border-radius: 50%;\n",
              "      cursor: pointer;\n",
              "      display: none;\n",
              "      fill: #1967D2;\n",
              "      height: 32px;\n",
              "      padding: 0 0 0 0;\n",
              "      width: 32px;\n",
              "    }\n",
              "\n",
              "    .colab-df-convert:hover {\n",
              "      background-color: #E2EBFA;\n",
              "      box-shadow: 0px 1px 2px rgba(60, 64, 67, 0.3), 0px 1px 3px 1px rgba(60, 64, 67, 0.15);\n",
              "      fill: #174EA6;\n",
              "    }\n",
              "\n",
              "    .colab-df-buttons div {\n",
              "      margin-bottom: 4px;\n",
              "    }\n",
              "\n",
              "    [theme=dark] .colab-df-convert {\n",
              "      background-color: #3B4455;\n",
              "      fill: #D2E3FC;\n",
              "    }\n",
              "\n",
              "    [theme=dark] .colab-df-convert:hover {\n",
              "      background-color: #434B5C;\n",
              "      box-shadow: 0px 1px 3px 1px rgba(0, 0, 0, 0.15);\n",
              "      filter: drop-shadow(0px 1px 2px rgba(0, 0, 0, 0.3));\n",
              "      fill: #FFFFFF;\n",
              "    }\n",
              "  </style>\n",
              "\n",
              "    <script>\n",
              "      const buttonEl =\n",
              "        document.querySelector('#df-116f2664-1615-422e-a2c0-8f6f4b114e67 button.colab-df-convert');\n",
              "      buttonEl.style.display =\n",
              "        google.colab.kernel.accessAllowed ? 'block' : 'none';\n",
              "\n",
              "      async function convertToInteractive(key) {\n",
              "        const element = document.querySelector('#df-116f2664-1615-422e-a2c0-8f6f4b114e67');\n",
              "        const dataTable =\n",
              "          await google.colab.kernel.invokeFunction('convertToInteractive',\n",
              "                                                    [key], {});\n",
              "        if (!dataTable) return;\n",
              "\n",
              "        const docLinkHtml = 'Like what you see? Visit the ' +\n",
              "          '<a target=\"_blank\" href=https://colab.research.google.com/notebooks/data_table.ipynb>data table notebook</a>'\n",
              "          + ' to learn more about interactive tables.';\n",
              "        element.innerHTML = '';\n",
              "        dataTable['output_type'] = 'display_data';\n",
              "        await google.colab.output.renderOutput(dataTable, element);\n",
              "        const docLink = document.createElement('div');\n",
              "        docLink.innerHTML = docLinkHtml;\n",
              "        element.appendChild(docLink);\n",
              "      }\n",
              "    </script>\n",
              "  </div>\n",
              "\n",
              "\n",
              "<div id=\"df-19bcfcb9-bb83-4eb7-b415-438a475a1b7c\">\n",
              "  <button class=\"colab-df-quickchart\" onclick=\"quickchart('df-19bcfcb9-bb83-4eb7-b415-438a475a1b7c')\"\n",
              "            title=\"Suggest charts\"\n",
              "            style=\"display:none;\">\n",
              "\n",
              "<svg xmlns=\"http://www.w3.org/2000/svg\" height=\"24px\"viewBox=\"0 0 24 24\"\n",
              "     width=\"24px\">\n",
              "    <g>\n",
              "        <path d=\"M19 3H5c-1.1 0-2 .9-2 2v14c0 1.1.9 2 2 2h14c1.1 0 2-.9 2-2V5c0-1.1-.9-2-2-2zM9 17H7v-7h2v7zm4 0h-2V7h2v10zm4 0h-2v-4h2v4z\"/>\n",
              "    </g>\n",
              "</svg>\n",
              "  </button>\n",
              "\n",
              "<style>\n",
              "  .colab-df-quickchart {\n",
              "      --bg-color: #E8F0FE;\n",
              "      --fill-color: #1967D2;\n",
              "      --hover-bg-color: #E2EBFA;\n",
              "      --hover-fill-color: #174EA6;\n",
              "      --disabled-fill-color: #AAA;\n",
              "      --disabled-bg-color: #DDD;\n",
              "  }\n",
              "\n",
              "  [theme=dark] .colab-df-quickchart {\n",
              "      --bg-color: #3B4455;\n",
              "      --fill-color: #D2E3FC;\n",
              "      --hover-bg-color: #434B5C;\n",
              "      --hover-fill-color: #FFFFFF;\n",
              "      --disabled-bg-color: #3B4455;\n",
              "      --disabled-fill-color: #666;\n",
              "  }\n",
              "\n",
              "  .colab-df-quickchart {\n",
              "    background-color: var(--bg-color);\n",
              "    border: none;\n",
              "    border-radius: 50%;\n",
              "    cursor: pointer;\n",
              "    display: none;\n",
              "    fill: var(--fill-color);\n",
              "    height: 32px;\n",
              "    padding: 0;\n",
              "    width: 32px;\n",
              "  }\n",
              "\n",
              "  .colab-df-quickchart:hover {\n",
              "    background-color: var(--hover-bg-color);\n",
              "    box-shadow: 0 1px 2px rgba(60, 64, 67, 0.3), 0 1px 3px 1px rgba(60, 64, 67, 0.15);\n",
              "    fill: var(--button-hover-fill-color);\n",
              "  }\n",
              "\n",
              "  .colab-df-quickchart-complete:disabled,\n",
              "  .colab-df-quickchart-complete:disabled:hover {\n",
              "    background-color: var(--disabled-bg-color);\n",
              "    fill: var(--disabled-fill-color);\n",
              "    box-shadow: none;\n",
              "  }\n",
              "\n",
              "  .colab-df-spinner {\n",
              "    border: 2px solid var(--fill-color);\n",
              "    border-color: transparent;\n",
              "    border-bottom-color: var(--fill-color);\n",
              "    animation:\n",
              "      spin 1s steps(1) infinite;\n",
              "  }\n",
              "\n",
              "  @keyframes spin {\n",
              "    0% {\n",
              "      border-color: transparent;\n",
              "      border-bottom-color: var(--fill-color);\n",
              "      border-left-color: var(--fill-color);\n",
              "    }\n",
              "    20% {\n",
              "      border-color: transparent;\n",
              "      border-left-color: var(--fill-color);\n",
              "      border-top-color: var(--fill-color);\n",
              "    }\n",
              "    30% {\n",
              "      border-color: transparent;\n",
              "      border-left-color: var(--fill-color);\n",
              "      border-top-color: var(--fill-color);\n",
              "      border-right-color: var(--fill-color);\n",
              "    }\n",
              "    40% {\n",
              "      border-color: transparent;\n",
              "      border-right-color: var(--fill-color);\n",
              "      border-top-color: var(--fill-color);\n",
              "    }\n",
              "    60% {\n",
              "      border-color: transparent;\n",
              "      border-right-color: var(--fill-color);\n",
              "    }\n",
              "    80% {\n",
              "      border-color: transparent;\n",
              "      border-right-color: var(--fill-color);\n",
              "      border-bottom-color: var(--fill-color);\n",
              "    }\n",
              "    90% {\n",
              "      border-color: transparent;\n",
              "      border-bottom-color: var(--fill-color);\n",
              "    }\n",
              "  }\n",
              "</style>\n",
              "\n",
              "  <script>\n",
              "    async function quickchart(key) {\n",
              "      const quickchartButtonEl =\n",
              "        document.querySelector('#' + key + ' button');\n",
              "      quickchartButtonEl.disabled = true;  // To prevent multiple clicks.\n",
              "      quickchartButtonEl.classList.add('colab-df-spinner');\n",
              "      try {\n",
              "        const charts = await google.colab.kernel.invokeFunction(\n",
              "            'suggestCharts', [key], {});\n",
              "      } catch (error) {\n",
              "        console.error('Error during call to suggestCharts:', error);\n",
              "      }\n",
              "      quickchartButtonEl.classList.remove('colab-df-spinner');\n",
              "      quickchartButtonEl.classList.add('colab-df-quickchart-complete');\n",
              "    }\n",
              "    (() => {\n",
              "      let quickchartButtonEl =\n",
              "        document.querySelector('#df-19bcfcb9-bb83-4eb7-b415-438a475a1b7c button');\n",
              "      quickchartButtonEl.style.display =\n",
              "        google.colab.kernel.accessAllowed ? 'block' : 'none';\n",
              "    })();\n",
              "  </script>\n",
              "</div>\n",
              "\n",
              "  <div id=\"id_594d9f47-37c5-40a9-95da-8e7263a10ee8\">\n",
              "    <style>\n",
              "      .colab-df-generate {\n",
              "        background-color: #E8F0FE;\n",
              "        border: none;\n",
              "        border-radius: 50%;\n",
              "        cursor: pointer;\n",
              "        display: none;\n",
              "        fill: #1967D2;\n",
              "        height: 32px;\n",
              "        padding: 0 0 0 0;\n",
              "        width: 32px;\n",
              "      }\n",
              "\n",
              "      .colab-df-generate:hover {\n",
              "        background-color: #E2EBFA;\n",
              "        box-shadow: 0px 1px 2px rgba(60, 64, 67, 0.3), 0px 1px 3px 1px rgba(60, 64, 67, 0.15);\n",
              "        fill: #174EA6;\n",
              "      }\n",
              "\n",
              "      [theme=dark] .colab-df-generate {\n",
              "        background-color: #3B4455;\n",
              "        fill: #D2E3FC;\n",
              "      }\n",
              "\n",
              "      [theme=dark] .colab-df-generate:hover {\n",
              "        background-color: #434B5C;\n",
              "        box-shadow: 0px 1px 3px 1px rgba(0, 0, 0, 0.15);\n",
              "        filter: drop-shadow(0px 1px 2px rgba(0, 0, 0, 0.3));\n",
              "        fill: #FFFFFF;\n",
              "      }\n",
              "    </style>\n",
              "    <button class=\"colab-df-generate\" onclick=\"generateWithVariable('df')\"\n",
              "            title=\"Generate code using this dataframe.\"\n",
              "            style=\"display:none;\">\n",
              "\n",
              "  <svg xmlns=\"http://www.w3.org/2000/svg\" height=\"24px\"viewBox=\"0 0 24 24\"\n",
              "       width=\"24px\">\n",
              "    <path d=\"M7,19H8.4L18.45,9,17,7.55,7,17.6ZM5,21V16.75L18.45,3.32a2,2,0,0,1,2.83,0l1.4,1.43a1.91,1.91,0,0,1,.58,1.4,1.91,1.91,0,0,1-.58,1.4L9.25,21ZM18.45,9,17,7.55Zm-12,3A5.31,5.31,0,0,0,4.9,8.1,5.31,5.31,0,0,0,1,6.5,5.31,5.31,0,0,0,4.9,4.9,5.31,5.31,0,0,0,6.5,1,5.31,5.31,0,0,0,8.1,4.9,5.31,5.31,0,0,0,12,6.5,5.46,5.46,0,0,0,6.5,12Z\"/>\n",
              "  </svg>\n",
              "    </button>\n",
              "    <script>\n",
              "      (() => {\n",
              "      const buttonEl =\n",
              "        document.querySelector('#id_594d9f47-37c5-40a9-95da-8e7263a10ee8 button.colab-df-generate');\n",
              "      buttonEl.style.display =\n",
              "        google.colab.kernel.accessAllowed ? 'block' : 'none';\n",
              "\n",
              "      buttonEl.onclick = () => {\n",
              "        google.colab.notebook.generateWithVariable('df');\n",
              "      }\n",
              "      })();\n",
              "    </script>\n",
              "  </div>\n",
              "\n",
              "    </div>\n",
              "  </div>\n"
            ]
          },
          "metadata": {},
          "execution_count": 7
        }
      ],
      "source": [
        "df"
      ]
    },
    {
      "cell_type": "code",
      "execution_count": 8,
      "metadata": {
        "colab": {
          "base_uri": "https://localhost:8080/"
        },
        "id": "H4IFNI90Ho4R",
        "outputId": "1aeab46e-30fc-4899-ec85-b33a5a1ca1dc"
      },
      "outputs": [
        {
          "output_type": "stream",
          "name": "stdout",
          "text": [
            "The number of unique words in the vocabulary is 5789\n"
          ]
        }
      ],
      "source": [
        "import collections\n",
        "word_counts = collections.Counter(data)\n",
        "num_words = len(word_counts)\n",
        "\n",
        "print(f\"The number of unique words in the vocabulary is {num_words}\")"
      ]
    },
    {
      "cell_type": "code",
      "execution_count": 9,
      "metadata": {
        "colab": {
          "base_uri": "https://localhost:8080/",
          "height": 74
        },
        "id": "uo7N5qzCPChs",
        "outputId": "052edcb1-d7fa-4892-ded0-e64f4a614c62"
      },
      "outputs": [
        {
          "output_type": "execute_result",
          "data": {
            "text/plain": [
              "CountVectorizer()"
            ],
            "text/html": [
              "<style>#sk-container-id-1 {color: black;background-color: white;}#sk-container-id-1 pre{padding: 0;}#sk-container-id-1 div.sk-toggleable {background-color: white;}#sk-container-id-1 label.sk-toggleable__label {cursor: pointer;display: block;width: 100%;margin-bottom: 0;padding: 0.3em;box-sizing: border-box;text-align: center;}#sk-container-id-1 label.sk-toggleable__label-arrow:before {content: \"▸\";float: left;margin-right: 0.25em;color: #696969;}#sk-container-id-1 label.sk-toggleable__label-arrow:hover:before {color: black;}#sk-container-id-1 div.sk-estimator:hover label.sk-toggleable__label-arrow:before {color: black;}#sk-container-id-1 div.sk-toggleable__content {max-height: 0;max-width: 0;overflow: hidden;text-align: left;background-color: #f0f8ff;}#sk-container-id-1 div.sk-toggleable__content pre {margin: 0.2em;color: black;border-radius: 0.25em;background-color: #f0f8ff;}#sk-container-id-1 input.sk-toggleable__control:checked~div.sk-toggleable__content {max-height: 200px;max-width: 100%;overflow: auto;}#sk-container-id-1 input.sk-toggleable__control:checked~label.sk-toggleable__label-arrow:before {content: \"▾\";}#sk-container-id-1 div.sk-estimator input.sk-toggleable__control:checked~label.sk-toggleable__label {background-color: #d4ebff;}#sk-container-id-1 div.sk-label input.sk-toggleable__control:checked~label.sk-toggleable__label {background-color: #d4ebff;}#sk-container-id-1 input.sk-hidden--visually {border: 0;clip: rect(1px 1px 1px 1px);clip: rect(1px, 1px, 1px, 1px);height: 1px;margin: -1px;overflow: hidden;padding: 0;position: absolute;width: 1px;}#sk-container-id-1 div.sk-estimator {font-family: monospace;background-color: #f0f8ff;border: 1px dotted black;border-radius: 0.25em;box-sizing: border-box;margin-bottom: 0.5em;}#sk-container-id-1 div.sk-estimator:hover {background-color: #d4ebff;}#sk-container-id-1 div.sk-parallel-item::after {content: \"\";width: 100%;border-bottom: 1px solid gray;flex-grow: 1;}#sk-container-id-1 div.sk-label:hover label.sk-toggleable__label {background-color: #d4ebff;}#sk-container-id-1 div.sk-serial::before {content: \"\";position: absolute;border-left: 1px solid gray;box-sizing: border-box;top: 0;bottom: 0;left: 50%;z-index: 0;}#sk-container-id-1 div.sk-serial {display: flex;flex-direction: column;align-items: center;background-color: white;padding-right: 0.2em;padding-left: 0.2em;position: relative;}#sk-container-id-1 div.sk-item {position: relative;z-index: 1;}#sk-container-id-1 div.sk-parallel {display: flex;align-items: stretch;justify-content: center;background-color: white;position: relative;}#sk-container-id-1 div.sk-item::before, #sk-container-id-1 div.sk-parallel-item::before {content: \"\";position: absolute;border-left: 1px solid gray;box-sizing: border-box;top: 0;bottom: 0;left: 50%;z-index: -1;}#sk-container-id-1 div.sk-parallel-item {display: flex;flex-direction: column;z-index: 1;position: relative;background-color: white;}#sk-container-id-1 div.sk-parallel-item:first-child::after {align-self: flex-end;width: 50%;}#sk-container-id-1 div.sk-parallel-item:last-child::after {align-self: flex-start;width: 50%;}#sk-container-id-1 div.sk-parallel-item:only-child::after {width: 0;}#sk-container-id-1 div.sk-dashed-wrapped {border: 1px dashed gray;margin: 0 0.4em 0.5em 0.4em;box-sizing: border-box;padding-bottom: 0.4em;background-color: white;}#sk-container-id-1 div.sk-label label {font-family: monospace;font-weight: bold;display: inline-block;line-height: 1.2em;}#sk-container-id-1 div.sk-label-container {text-align: center;}#sk-container-id-1 div.sk-container {/* jupyter's `normalize.less` sets `[hidden] { display: none; }` but bootstrap.min.css set `[hidden] { display: none !important; }` so we also need the `!important` here to be able to override the default hidden behavior on the sphinx rendered scikit-learn.org. See: https://github.com/scikit-learn/scikit-learn/issues/21755 */display: inline-block !important;position: relative;}#sk-container-id-1 div.sk-text-repr-fallback {display: none;}</style><div id=\"sk-container-id-1\" class=\"sk-top-container\"><div class=\"sk-text-repr-fallback\"><pre>CountVectorizer()</pre><b>In a Jupyter environment, please rerun this cell to show the HTML representation or trust the notebook. <br />On GitHub, the HTML representation is unable to render, please try loading this page with nbviewer.org.</b></div><div class=\"sk-container\" hidden><div class=\"sk-item\"><div class=\"sk-estimator sk-toggleable\"><input class=\"sk-toggleable__control sk-hidden--visually\" id=\"sk-estimator-id-1\" type=\"checkbox\" checked><label for=\"sk-estimator-id-1\" class=\"sk-toggleable__label sk-toggleable__label-arrow\">CountVectorizer</label><div class=\"sk-toggleable__content\"><pre>CountVectorizer()</pre></div></div></div></div></div>"
            ]
          },
          "metadata": {},
          "execution_count": 9
        }
      ],
      "source": [
        "from sklearn.feature_extraction.text import CountVectorizer\n",
        "#The CountVectorizer converts the text data into numerical vectors by counting the occurrence of each word in the text\n",
        "vectorizer = CountVectorizer()\n",
        "vectorizer.fit(data)"
      ]
    },
    {
      "cell_type": "code",
      "execution_count": 10,
      "metadata": {
        "id": "rdU3y6TFS1cf"
      },
      "outputs": [],
      "source": [
        "X = vectorizer.transform(data) # transform text to feature vectors"
      ]
    },
    {
      "cell_type": "code",
      "execution_count": 11,
      "metadata": {
        "id": "lBTWC_hbY4xw"
      },
      "outputs": [],
      "source": [
        "y = df['Tags']"
      ]
    },
    {
      "cell_type": "code",
      "execution_count": 12,
      "metadata": {
        "id": "Z_sIJY6bvDdM"
      },
      "outputs": [],
      "source": [
        "train_ratio = 0.8 #80%\n",
        "val_ratio = 0.1 #10%\n",
        "test_ratio = 0.1 #10%"
      ]
    },
    {
      "cell_type": "code",
      "execution_count": 13,
      "metadata": {
        "id": "d6kd0yYlvHeU"
      },
      "outputs": [],
      "source": [
        "from sklearn.utils import shuffle\n",
        "X, y = shuffle(X, y)"
      ]
    },
    {
      "cell_type": "code",
      "execution_count": 14,
      "metadata": {
        "id": "IQs2Xvb13i-h"
      },
      "outputs": [],
      "source": [
        "total = X.shape[0]\n",
        "\n",
        "train_size = int(train_ratio * total)\n",
        "val_size = int(val_ratio * total)\n",
        "test_size = int(test_ratio * total)"
      ]
    },
    {
      "cell_type": "code",
      "execution_count": 15,
      "metadata": {
        "id": "dgHJ4DrTTk3p"
      },
      "outputs": [],
      "source": [
        "# Encode labels as unique intergers\n",
        "from sklearn.preprocessing import LabelEncoder\n",
        "le = LabelEncoder()\n",
        "y = le.fit_transform(labels)\n",
        "#y_train = np.array(labels)\n"
      ]
    },
    {
      "cell_type": "code",
      "execution_count": 16,
      "metadata": {
        "colab": {
          "base_uri": "https://localhost:8080/"
        },
        "id": "n06cZsPsXGUw",
        "outputId": "0a63033d-2533-4054-ed52-762adcaa8189"
      },
      "outputs": [
        {
          "output_type": "stream",
          "name": "stdout",
          "text": [
            "5991\n",
            "5991\n"
          ]
        }
      ],
      "source": [
        "print(X.shape[0])\n",
        "print(len(y))"
      ]
    },
    {
      "cell_type": "code",
      "execution_count": 17,
      "metadata": {
        "id": "zOcz0r3xvKzf"
      },
      "outputs": [],
      "source": [
        "# Split into train/test\n",
        "X_train, X_test, y_train, y_test = train_test_split(X, y, test_size=0.2)\n",
        "\n",
        "# Split train into train/validation\n",
        "X_train, X_val, y_train, y_val = train_test_split(X_train, y_train, test_size=0.2)"
      ]
    },
    {
      "cell_type": "code",
      "execution_count": 18,
      "metadata": {
        "colab": {
          "base_uri": "https://localhost:8080/"
        },
        "id": "ukl-kyfIdKKD",
        "outputId": "60a55a84-4059-41f2-adf6-3aa0972b6ebc"
      },
      "outputs": [
        {
          "output_type": "stream",
          "name": "stdout",
          "text": [
            "  (0, 487)\t1\n",
            "  (0, 614)\t1\n",
            "  (0, 651)\t1\n",
            "  (0, 794)\t2\n",
            "  (0, 893)\t1\n",
            "  (0, 1024)\t1\n",
            "  (0, 1059)\t1\n",
            "  (0, 1215)\t1\n",
            "  (0, 2138)\t1\n",
            "  (0, 2352)\t1\n",
            "  (0, 2519)\t1\n",
            "  (0, 2644)\t1\n",
            "  (0, 3004)\t1\n",
            "  (0, 3148)\t1\n",
            "  (0, 3224)\t1\n",
            "  (0, 3541)\t1\n",
            "  (0, 3593)\t1\n",
            "  (0, 3657)\t1\n",
            "  (0, 3845)\t1\n",
            "  (0, 4043)\t2\n",
            "  (0, 4160)\t1\n",
            "  (0, 4195)\t1\n",
            "  (0, 4346)\t1\n",
            "  (0, 4568)\t1\n",
            "  (0, 5089)\t1\n",
            "  :\t:\n",
            "  (3831, 6623)\t1\n",
            "  (3831, 7671)\t1\n",
            "  (3831, 7673)\t1\n",
            "  (3831, 8144)\t1\n",
            "  (3831, 8227)\t1\n",
            "  (3831, 8643)\t1\n",
            "  (3831, 8644)\t1\n",
            "  (3831, 9024)\t1\n",
            "  (3831, 9212)\t1\n",
            "  (3831, 9234)\t1\n",
            "  (3831, 9279)\t1\n",
            "  (3831, 9287)\t1\n",
            "  (3831, 9357)\t1\n",
            "  (3831, 9745)\t1\n",
            "  (3831, 9858)\t1\n",
            "  (3831, 9975)\t2\n",
            "  (3831, 10051)\t1\n",
            "  (3831, 10053)\t1\n",
            "  (3832, 1386)\t1\n",
            "  (3832, 3244)\t1\n",
            "  (3832, 3593)\t1\n",
            "  (3832, 6098)\t1\n",
            "  (3832, 7289)\t1\n",
            "  (3832, 10140)\t1\n",
            "  (3832, 10276)\t1\n"
          ]
        }
      ],
      "source": [
        "print(X_train)"
      ]
    },
    {
      "cell_type": "code",
      "execution_count": 19,
      "metadata": {
        "colab": {
          "base_uri": "https://localhost:8080/"
        },
        "id": "dZgag4NjWpsE",
        "outputId": "121a1aa4-45ec-457d-d35c-83047c9e2cad"
      },
      "outputs": [
        {
          "output_type": "stream",
          "name": "stdout",
          "text": [
            "3833\n",
            "3833\n"
          ]
        }
      ],
      "source": [
        "print(X_train.shape[0])\n",
        "print(len(y_train))"
      ]
    },
    {
      "cell_type": "code",
      "execution_count": 20,
      "metadata": {
        "colab": {
          "base_uri": "https://localhost:8080/"
        },
        "id": "7-B7V27udOyz",
        "outputId": "7c36d8ae-a4c7-4816-e59a-14057111a406"
      },
      "outputs": [
        {
          "output_type": "stream",
          "name": "stdout",
          "text": [
            "  (0, 678)\t1\n",
            "  (0, 3845)\t1\n",
            "  (0, 4014)\t1\n",
            "  (0, 4043)\t1\n",
            "  (0, 4179)\t1\n",
            "  (0, 4307)\t1\n",
            "  (1, 6080)\t1\n",
            "  (2, 2909)\t1\n",
            "  (2, 2911)\t1\n",
            "  (2, 3103)\t1\n",
            "  (2, 3595)\t1\n",
            "  (2, 4111)\t1\n",
            "  (2, 4238)\t1\n",
            "  (2, 4343)\t1\n",
            "  (2, 5424)\t2\n",
            "  (2, 5700)\t1\n",
            "  (2, 8208)\t1\n",
            "  (2, 8546)\t1\n",
            "  (2, 8555)\t1\n",
            "  (2, 9394)\t1\n",
            "  (2, 9535)\t1\n",
            "  (2, 9937)\t1\n",
            "  (2, 10067)\t1\n",
            "  (3, 841)\t1\n",
            "  (3, 1019)\t1\n",
            "  :\t:\n",
            "  (1195, 3991)\t1\n",
            "  (1195, 4487)\t1\n",
            "  (1196, 286)\t1\n",
            "  (1196, 2450)\t1\n",
            "  (1196, 6058)\t1\n",
            "  (1196, 6408)\t1\n",
            "  (1196, 6614)\t1\n",
            "  (1196, 7796)\t1\n",
            "  (1196, 8033)\t1\n",
            "  (1196, 8254)\t1\n",
            "  (1196, 8927)\t1\n",
            "  (1196, 9238)\t1\n",
            "  (1196, 9400)\t1\n",
            "  (1196, 10140)\t1\n",
            "  (1196, 10191)\t1\n",
            "  (1196, 10320)\t1\n",
            "  (1197, 5530)\t1\n",
            "  (1198, 1732)\t1\n",
            "  (1198, 1816)\t1\n",
            "  (1198, 1956)\t1\n",
            "  (1198, 5351)\t1\n",
            "  (1198, 8580)\t1\n",
            "  (1198, 9296)\t1\n",
            "  (1198, 10048)\t1\n",
            "  (1198, 10083)\t1\n"
          ]
        }
      ],
      "source": [
        "print(X_test)"
      ]
    },
    {
      "cell_type": "code",
      "execution_count": 21,
      "metadata": {
        "colab": {
          "base_uri": "https://localhost:8080/"
        },
        "id": "_jyGkR5th9yn",
        "outputId": "4ebfb862-ffbb-4611-b21c-181f69e1fcc9"
      },
      "outputs": [
        {
          "output_type": "stream",
          "name": "stdout",
          "text": [
            "[  1   1   1 ... 184   1   1]\n"
          ]
        }
      ],
      "source": [
        "print(y_train)"
      ]
    },
    {
      "cell_type": "code",
      "execution_count": 22,
      "metadata": {
        "colab": {
          "base_uri": "https://localhost:8080/"
        },
        "id": "WTaA-Ua0h_M6",
        "outputId": "869f22f3-3081-43cb-d851-0d4e7f8e76d4"
      },
      "outputs": [
        {
          "output_type": "stream",
          "name": "stdout",
          "text": [
            "[246   1   1 ...   1   1   1]\n"
          ]
        }
      ],
      "source": [
        "print(y_test)"
      ]
    },
    {
      "cell_type": "code",
      "execution_count": 23,
      "metadata": {
        "id": "sYAIIbeT3wl6"
      },
      "outputs": [],
      "source": [
        "num_classes = len(le.classes_)\n",
        "y_train = np.reshape(y_train, (-1,1))"
      ]
    },
    {
      "cell_type": "code",
      "execution_count": 24,
      "metadata": {
        "id": "qtHqsKalgD4y"
      },
      "outputs": [],
      "source": [
        "model = Sequential()\n",
        "model.add(Embedding(len(vectorizer.vocabulary_), 200, input_length=X_train.shape[1]))\n",
        "#model.add(Bidirectional(LSTM(128, return_sequences=True)))\n",
        "# Add 2 LSTM layers instead of 1\n",
        "model.add(LSTM(256, return_sequences=True))\n",
        "model.add(LSTM(256, kernel_regularizer='l2'))\n",
        "model.add(Dropout(0.8))\n",
        "model.add(Dense(64, activation='relu'))\n",
        "model.add(Dropout(0.8))\n",
        "model.add(Dense(num_classes, activation='softmax'))"
      ]
    },
    {
      "cell_type": "code",
      "execution_count": 25,
      "metadata": {
        "colab": {
          "base_uri": "https://localhost:8080/"
        },
        "id": "3G_IsnCFHmm4",
        "outputId": "02a29cbf-c64c-4703-9e23-0822608de9a0"
      },
      "outputs": [
        {
          "output_type": "stream",
          "name": "stdout",
          "text": [
            "(3833, 1)\n",
            "120/120 [==============================] - 53s 429ms/step\n",
            "(3833, 318)\n"
          ]
        }
      ],
      "source": [
        "print(y_train.shape)\n",
        "print(model.predict(X_train).shape)"
      ]
    },
    {
      "cell_type": "code",
      "execution_count": 26,
      "metadata": {
        "colab": {
          "base_uri": "https://localhost:8080/"
        },
        "id": "yl00VLvGif-h",
        "outputId": "645f1c80-a72d-4a8b-c723-3649c6c4ba44"
      },
      "outputs": [
        {
          "output_type": "stream",
          "name": "stdout",
          "text": [
            "Model: \"sequential\"\n",
            "_________________________________________________________________\n",
            " Layer (type)                Output Shape              Param #   \n",
            "=================================================================\n",
            " embedding (Embedding)       (None, 10412, 200)        2082400   \n",
            "                                                                 \n",
            " lstm (LSTM)                 (None, 10412, 256)        467968    \n",
            "                                                                 \n",
            " lstm_1 (LSTM)               (None, 256)               525312    \n",
            "                                                                 \n",
            " dropout (Dropout)           (None, 256)               0         \n",
            "                                                                 \n",
            " dense (Dense)               (None, 64)                16448     \n",
            "                                                                 \n",
            " dropout_1 (Dropout)         (None, 64)                0         \n",
            "                                                                 \n",
            " dense_1 (Dense)             (None, 318)               20670     \n",
            "                                                                 \n",
            "=================================================================\n",
            "Total params: 3112798 (11.87 MB)\n",
            "Trainable params: 3112798 (11.87 MB)\n",
            "Non-trainable params: 0 (0.00 Byte)\n",
            "_________________________________________________________________\n"
          ]
        }
      ],
      "source": [
        "model.summary()"
      ]
    },
    {
      "cell_type": "code",
      "execution_count": 27,
      "metadata": {
        "id": "8eBs2sbyZHkq"
      },
      "outputs": [],
      "source": [
        "y_train = y_train.reshape(-1, 1)"
      ]
    },
    {
      "cell_type": "code",
      "execution_count": 28,
      "metadata": {
        "id": "qNGtbNZGZKkA"
      },
      "outputs": [],
      "source": [
        "num_classes = len(np.unique(y_train))"
      ]
    },
    {
      "cell_type": "code",
      "execution_count": 29,
      "metadata": {
        "id": "DrHc9wJFZMdM"
      },
      "outputs": [],
      "source": [
        "y_train = np.resize(y_train, (num_classes,))"
      ]
    },
    {
      "cell_type": "code",
      "execution_count": 30,
      "metadata": {
        "id": "UNG1TU-TUnS5"
      },
      "outputs": [],
      "source": [
        "model.compile(loss='sparse_categorical_crossentropy',\n",
        "              optimizer = Adam(learning_rate=0.001), metrics=['accuracy'])"
      ]
    },
    {
      "cell_type": "code",
      "execution_count": 31,
      "metadata": {
        "id": "aPbnpkJcaotJ"
      },
      "outputs": [],
      "source": [
        "num_classes = model.layers[-1].units"
      ]
    },
    {
      "cell_type": "code",
      "execution_count": 32,
      "metadata": {
        "id": "HRWA9PQyZjzm"
      },
      "outputs": [],
      "source": [
        "y_train = np.resize(y_train, (X_train.shape[0],))"
      ]
    },
    {
      "cell_type": "code",
      "execution_count": 33,
      "metadata": {
        "colab": {
          "base_uri": "https://localhost:8080/"
        },
        "id": "7Dv15OdPZZDj",
        "outputId": "66b201ac-231a-43c3-c124-029d7fb8ea20"
      },
      "outputs": [
        {
          "output_type": "stream",
          "name": "stdout",
          "text": [
            "(3833, 10412)\n",
            "(3833,)\n"
          ]
        }
      ],
      "source": [
        "print(X_train.shape)\n",
        "print(y_train.shape)"
      ]
    },
    {
      "cell_type": "code",
      "execution_count": 34,
      "metadata": {
        "colab": {
          "base_uri": "https://localhost:8080/"
        },
        "id": "GUjg_eN47ylj",
        "outputId": "f7355e7a-7aa2-4a9f-d438-eebd345fc8b2"
      },
      "outputs": [
        {
          "output_type": "stream",
          "name": "stdout",
          "text": [
            "Epoch 1/60\n",
            "60/60 - 136s - loss: 4.5406 - accuracy: 0.6123 - val_loss: 1.3962 - val_accuracy: 0.8916 - 136s/epoch - 2s/step\n",
            "Epoch 2/60\n",
            "60/60 - 129s - loss: 1.9993 - accuracy: 0.8396 - val_loss: 1.2104 - val_accuracy: 0.8916 - 129s/epoch - 2s/step\n",
            "Epoch 3/60\n",
            "60/60 - 129s - loss: 1.6302 - accuracy: 0.8539 - val_loss: 1.1905 - val_accuracy: 0.8916 - 129s/epoch - 2s/step\n",
            "Epoch 4/60\n",
            "60/60 - 129s - loss: 1.4550 - accuracy: 0.8573 - val_loss: 1.2376 - val_accuracy: 0.8916 - 129s/epoch - 2s/step\n",
            "Epoch 5/60\n",
            "60/60 - 129s - loss: 1.3627 - accuracy: 0.8586 - val_loss: 1.3099 - val_accuracy: 0.8916 - 129s/epoch - 2s/step\n",
            "Epoch 6/60\n",
            "60/60 - 129s - loss: 1.3025 - accuracy: 0.8583 - val_loss: 1.3051 - val_accuracy: 0.8916 - 129s/epoch - 2s/step\n",
            "Epoch 7/60\n",
            "60/60 - 129s - loss: 1.2718 - accuracy: 0.8589 - val_loss: 1.3565 - val_accuracy: 0.8916 - 129s/epoch - 2s/step\n",
            "Epoch 8/60\n",
            "60/60 - 131s - loss: 1.2503 - accuracy: 0.8586 - val_loss: 1.3616 - val_accuracy: 0.8916 - 131s/epoch - 2s/step\n",
            "Epoch 9/60\n",
            "60/60 - 142s - loss: 1.2255 - accuracy: 0.8589 - val_loss: 1.4246 - val_accuracy: 0.8916 - 142s/epoch - 2s/step\n",
            "Epoch 10/60\n",
            "60/60 - 136s - loss: 1.2142 - accuracy: 0.8589 - val_loss: 1.4702 - val_accuracy: 0.8916 - 136s/epoch - 2s/step\n",
            "Epoch 11/60\n",
            "60/60 - 135s - loss: 1.2108 - accuracy: 0.8589 - val_loss: 1.5098 - val_accuracy: 0.8916 - 135s/epoch - 2s/step\n",
            "Epoch 12/60\n",
            "60/60 - 136s - loss: 1.1822 - accuracy: 0.8589 - val_loss: 1.4947 - val_accuracy: 0.8916 - 136s/epoch - 2s/step\n",
            "Epoch 13/60\n",
            "60/60 - 146s - loss: 1.1741 - accuracy: 0.8589 - val_loss: 1.5769 - val_accuracy: 0.8916 - 146s/epoch - 2s/step\n",
            "Epoch 14/60\n",
            "60/60 - 133s - loss: 1.1506 - accuracy: 0.8589 - val_loss: 1.6414 - val_accuracy: 0.8916 - 133s/epoch - 2s/step\n",
            "Epoch 15/60\n",
            "60/60 - 128s - loss: 1.1306 - accuracy: 0.8589 - val_loss: 1.6282 - val_accuracy: 0.8916 - 128s/epoch - 2s/step\n",
            "Epoch 16/60\n",
            "60/60 - 129s - loss: 1.1389 - accuracy: 0.8589 - val_loss: 1.6282 - val_accuracy: 0.8916 - 129s/epoch - 2s/step\n",
            "Epoch 17/60\n",
            "60/60 - 128s - loss: 1.1265 - accuracy: 0.8589 - val_loss: 1.6277 - val_accuracy: 0.8916 - 128s/epoch - 2s/step\n",
            "Epoch 18/60\n",
            "60/60 - 128s - loss: 1.1152 - accuracy: 0.8589 - val_loss: 1.5949 - val_accuracy: 0.8916 - 128s/epoch - 2s/step\n",
            "Epoch 19/60\n",
            "60/60 - 128s - loss: 1.1140 - accuracy: 0.8589 - val_loss: 1.6338 - val_accuracy: 0.8916 - 128s/epoch - 2s/step\n",
            "Epoch 20/60\n",
            "60/60 - 128s - loss: 1.0996 - accuracy: 0.8589 - val_loss: 1.6875 - val_accuracy: 0.8916 - 128s/epoch - 2s/step\n",
            "Epoch 21/60\n",
            "60/60 - 128s - loss: 1.0927 - accuracy: 0.8589 - val_loss: 1.6751 - val_accuracy: 0.8916 - 128s/epoch - 2s/step\n",
            "Epoch 22/60\n",
            "60/60 - 129s - loss: 1.0840 - accuracy: 0.8589 - val_loss: 1.7218 - val_accuracy: 0.8916 - 129s/epoch - 2s/step\n",
            "Epoch 23/60\n",
            "60/60 - 129s - loss: 1.0783 - accuracy: 0.8589 - val_loss: 1.6787 - val_accuracy: 0.8916 - 129s/epoch - 2s/step\n",
            "Epoch 24/60\n",
            "60/60 - 128s - loss: 1.0745 - accuracy: 0.8589 - val_loss: 1.7365 - val_accuracy: 0.8916 - 128s/epoch - 2s/step\n",
            "Epoch 25/60\n",
            "60/60 - 129s - loss: 1.0811 - accuracy: 0.8589 - val_loss: 1.7450 - val_accuracy: 0.8916 - 129s/epoch - 2s/step\n",
            "Epoch 26/60\n",
            "60/60 - 128s - loss: 1.0469 - accuracy: 0.8589 - val_loss: 1.7427 - val_accuracy: 0.8916 - 128s/epoch - 2s/step\n",
            "Epoch 27/60\n",
            "60/60 - 128s - loss: 1.0649 - accuracy: 0.8589 - val_loss: 1.7247 - val_accuracy: 0.8916 - 128s/epoch - 2s/step\n",
            "Epoch 28/60\n",
            "60/60 - 128s - loss: 1.0534 - accuracy: 0.8589 - val_loss: 1.7460 - val_accuracy: 0.8916 - 128s/epoch - 2s/step\n",
            "Epoch 29/60\n",
            "60/60 - 129s - loss: 1.0663 - accuracy: 0.8589 - val_loss: 1.7314 - val_accuracy: 0.8916 - 129s/epoch - 2s/step\n",
            "Epoch 30/60\n",
            "60/60 - 128s - loss: 1.0563 - accuracy: 0.8589 - val_loss: 1.7470 - val_accuracy: 0.8916 - 128s/epoch - 2s/step\n",
            "Epoch 31/60\n",
            "60/60 - 129s - loss: 1.0463 - accuracy: 0.8589 - val_loss: 1.7629 - val_accuracy: 0.8916 - 129s/epoch - 2s/step\n",
            "Epoch 32/60\n",
            "60/60 - 129s - loss: 1.0510 - accuracy: 0.8589 - val_loss: 1.7220 - val_accuracy: 0.8916 - 129s/epoch - 2s/step\n",
            "Epoch 33/60\n",
            "60/60 - 130s - loss: 1.0375 - accuracy: 0.8589 - val_loss: 1.7820 - val_accuracy: 0.8916 - 130s/epoch - 2s/step\n",
            "Epoch 34/60\n",
            "60/60 - 131s - loss: 1.0296 - accuracy: 0.8589 - val_loss: 1.7988 - val_accuracy: 0.8916 - 131s/epoch - 2s/step\n",
            "Epoch 35/60\n",
            "60/60 - 131s - loss: 1.0246 - accuracy: 0.8589 - val_loss: 1.8309 - val_accuracy: 0.8916 - 131s/epoch - 2s/step\n",
            "Epoch 36/60\n",
            "60/60 - 131s - loss: 1.4884 - accuracy: 0.8403 - val_loss: 1.7659 - val_accuracy: 0.8916 - 131s/epoch - 2s/step\n",
            "Epoch 37/60\n",
            "60/60 - 129s - loss: 1.2264 - accuracy: 0.8589 - val_loss: 1.7358 - val_accuracy: 0.8916 - 129s/epoch - 2s/step\n",
            "Epoch 38/60\n",
            "60/60 - 129s - loss: 1.0364 - accuracy: 0.8589 - val_loss: 1.7852 - val_accuracy: 0.8916 - 129s/epoch - 2s/step\n",
            "Epoch 39/60\n",
            "60/60 - 129s - loss: 1.0236 - accuracy: 0.8589 - val_loss: 1.8020 - val_accuracy: 0.8916 - 129s/epoch - 2s/step\n",
            "Epoch 40/60\n",
            "60/60 - 129s - loss: 1.0239 - accuracy: 0.8589 - val_loss: 1.8152 - val_accuracy: 0.8916 - 129s/epoch - 2s/step\n",
            "Epoch 41/60\n",
            "60/60 - 129s - loss: 1.0104 - accuracy: 0.8589 - val_loss: 1.7700 - val_accuracy: 0.8916 - 129s/epoch - 2s/step\n",
            "Epoch 42/60\n",
            "60/60 - 129s - loss: 1.0097 - accuracy: 0.8589 - val_loss: 1.7701 - val_accuracy: 0.8916 - 129s/epoch - 2s/step\n",
            "Epoch 43/60\n",
            "60/60 - 128s - loss: 1.0155 - accuracy: 0.8589 - val_loss: 1.8600 - val_accuracy: 0.8916 - 128s/epoch - 2s/step\n",
            "Epoch 44/60\n",
            "60/60 - 129s - loss: 1.0043 - accuracy: 0.8589 - val_loss: 1.8505 - val_accuracy: 0.8916 - 129s/epoch - 2s/step\n",
            "Epoch 45/60\n",
            "60/60 - 131s - loss: 1.0163 - accuracy: 0.8589 - val_loss: 1.9484 - val_accuracy: 0.8916 - 131s/epoch - 2s/step\n",
            "Epoch 46/60\n",
            "60/60 - 131s - loss: 1.0134 - accuracy: 0.8589 - val_loss: 1.8218 - val_accuracy: 0.8916 - 131s/epoch - 2s/step\n",
            "Epoch 47/60\n",
            "60/60 - 130s - loss: 1.0039 - accuracy: 0.8589 - val_loss: 1.7401 - val_accuracy: 0.8916 - 130s/epoch - 2s/step\n",
            "Epoch 48/60\n",
            "60/60 - 130s - loss: 1.0035 - accuracy: 0.8589 - val_loss: 1.7512 - val_accuracy: 0.8916 - 130s/epoch - 2s/step\n",
            "Epoch 49/60\n",
            "60/60 - 132s - loss: 0.9900 - accuracy: 0.8589 - val_loss: 1.7827 - val_accuracy: 0.8916 - 132s/epoch - 2s/step\n",
            "Epoch 50/60\n",
            "60/60 - 133s - loss: 1.0815 - accuracy: 0.8589 - val_loss: 1.8646 - val_accuracy: 0.8916 - 133s/epoch - 2s/step\n",
            "Epoch 51/60\n",
            "60/60 - 130s - loss: 0.9977 - accuracy: 0.8589 - val_loss: 1.9347 - val_accuracy: 0.8916 - 130s/epoch - 2s/step\n",
            "Epoch 52/60\n",
            "60/60 - 129s - loss: 0.9940 - accuracy: 0.8589 - val_loss: 1.8044 - val_accuracy: 0.8916 - 129s/epoch - 2s/step\n",
            "Epoch 53/60\n",
            "60/60 - 129s - loss: 0.9901 - accuracy: 0.8589 - val_loss: 1.8718 - val_accuracy: 0.8916 - 129s/epoch - 2s/step\n",
            "Epoch 54/60\n",
            "60/60 - 130s - loss: 1.0019 - accuracy: 0.8589 - val_loss: 1.8712 - val_accuracy: 0.8916 - 130s/epoch - 2s/step\n",
            "Epoch 55/60\n",
            "60/60 - 130s - loss: 0.9739 - accuracy: 0.8589 - val_loss: 1.7654 - val_accuracy: 0.8916 - 130s/epoch - 2s/step\n",
            "Epoch 56/60\n",
            "60/60 - 131s - loss: 0.9806 - accuracy: 0.8589 - val_loss: 1.8229 - val_accuracy: 0.8916 - 131s/epoch - 2s/step\n",
            "Epoch 57/60\n",
            "60/60 - 130s - loss: 0.9826 - accuracy: 0.8589 - val_loss: 1.7410 - val_accuracy: 0.8916 - 130s/epoch - 2s/step\n",
            "Epoch 58/60\n",
            "60/60 - 133s - loss: 0.9849 - accuracy: 0.8589 - val_loss: 1.6693 - val_accuracy: 0.8916 - 133s/epoch - 2s/step\n",
            "Epoch 59/60\n",
            "60/60 - 129s - loss: 1.0006 - accuracy: 0.8589 - val_loss: 1.8367 - val_accuracy: 0.8916 - 129s/epoch - 2s/step\n",
            "Epoch 60/60\n",
            "60/60 - 129s - loss: 0.9694 - accuracy: 0.8589 - val_loss: 1.8421 - val_accuracy: 0.8916 - 129s/epoch - 2s/step\n"
          ]
        }
      ],
      "source": [
        "hist = model.fit(X_train, y_train, epochs=60, validation_data=(X_val, y_val), batch_size = 64, verbose = 2)"
      ]
    },
    {
      "cell_type": "code",
      "execution_count": 35,
      "metadata": {
        "id": "Y9TLrC5I2m7r"
      },
      "outputs": [],
      "source": [
        "import matplotlib.pyplot as plt\n",
        "def plot(history):\n",
        "    plt.plot(history.history['accuracy'])\n",
        "    plt.plot(history.history['val_accuracy'])\n",
        "    plt.title('Model Accuracy')\n",
        "    plt.ylabel('Accuracy')\n",
        "    plt.xlabel('epochs')\n",
        "    plt.legend(['Train', 'Val'], loc='upper left')\n",
        "    plt.show()\n",
        "\n",
        "    # Plot loss\n",
        "    plt.plot(history.history['loss'])\n",
        "    plt.plot(history.history['val_loss'])\n",
        "    plt.title('Model Loss')\n",
        "    plt.ylabel('Loss')\n",
        "    plt.xlabel('Epoch')\n",
        "    plt.legend(['Train', 'Val'], loc='upper left')\n",
        "    plt.show()"
      ]
    },
    {
      "cell_type": "code",
      "execution_count": 36,
      "metadata": {
        "colab": {
          "base_uri": "https://localhost:8080/",
          "height": 927
        },
        "id": "5RoN5COzdzIN",
        "outputId": "1f524877-4582-4269-c82b-f960b29aa126"
      },
      "outputs": [
        {
          "output_type": "display_data",
          "data": {
            "text/plain": [
              "<Figure size 640x480 with 1 Axes>"
            ],
            "image/png": "[encoded data removed]"
          },
          "metadata": {}
        },
        {
          "output_type": "display_data",
          "data": {
            "text/plain": [
              "<Figure size 640x480 with 1 Axes>"
            ],
            "image/png": "[encoded data removed]"
          },
          "metadata": {}
        }
      ],
      "source": [
        "plot(hist)"
      ]
    },
    {
      "cell_type": "markdown",
      "metadata": {
        "id": "zeGIq2xUetLA"
      },
      "source": [
        "EVALUATE THE MODEL"
      ]
    },
    {
      "cell_type": "code",
      "execution_count": 37,
      "metadata": {
        "id": "1c-7sg49edl9"
      },
      "outputs": [],
      "source": [
        "from nltk.translate.bleu_score import sentence_bleu, SmoothingFunction\n",
        "import math\n",
        "\n",
        "#convert the X_test and y_test into actual sentences\n",
        "sentences = X_test.toarray()\n",
        "references = y_test\n",
        "\n",
        "# Take first sentence as example\n",
        "reference = references[0]\n",
        "candidate = sentences[0]\n",
        "\n",
        "# Convert to strings\n",
        "reference = [str(reference)]\n",
        "candidate = str(candidate)"
      ]
    },
    {
      "cell_type": "code",
      "execution_count": 38,
      "metadata": {
        "colab": {
          "base_uri": "https://localhost:8080/"
        },
        "id": "yimFzlZIexB5",
        "outputId": "72a900c7-8f2c-49e5-f153-2d4ef0b4610b"
      },
      "outputs": [
        {
          "output_type": "stream",
          "name": "stdout",
          "text": [
            "BLEU score is:  0\n",
            "Brevity Penalty is:  1\n",
            "BLEU score with Brevity Penalty is:  0\n"
          ]
        }
      ],
      "source": [
        "#calculate the BLEU score\n",
        "cc = SmoothingFunction()\n",
        "bleu = sentence_bleu(reference, candidate, smoothing_function = cc.method1)\n",
        "print(\"BLEU score is: \", bleu)\n",
        "\n",
        "\n",
        "#calculate the brevity penalty\n",
        "def brevity_penalty(candidate, reference):\n",
        "  c = len(candidate.split())\n",
        "  r = len(reference[0].split())\n",
        "  penalty = min(1, math.exp(1 - r/c))\n",
        "  return penalty\n",
        "\n",
        "bp = brevity_penalty(candidate, reference)\n",
        "print(\"Brevity Penalty is: \", bp)\n",
        "\n",
        "#adjust the bleu score with brevity penalty\n",
        "bleu_bp = bleu * bp\n",
        "print(\"BLEU score with Brevity Penalty is: \", bleu_bp)"
      ]
    },
    {
      "cell_type": "code",
      "execution_count": 39,
      "metadata": {
        "colab": {
          "base_uri": "https://localhost:8080/"
        },
        "id": "0Gf5b3kAjBTB",
        "outputId": "b1f54418-c44e-451e-cff2-f5ad207140c9"
      },
      "outputs": [
        {
          "output_type": "stream",
          "name": "stdout",
          "text": [
            "Done\n"
          ]
        },
        {
          "output_type": "stream",
          "name": "stderr",
          "text": [
            "/usr/local/lib/python3.10/dist-packages/keras/src/engine/training.py:3103: UserWarning: You are saving your model as an HDF5 file via `model.save()`. This file format is considered legacy. We recommend using instead the native Keras format, e.g. `model.save('my_model.keras')`.\n",
            "  saving_api.save_model(\n"
          ]
        }
      ],
      "source": [
        "model.save(\"chatbot_model.h5\")\n",
        "print('Done')"
      ]
    },
    {
      "cell_type": "markdown",
      "metadata": {
        "id": "uE86x9GGEOuJ"
      },
      "source": [
        "USER TESTING TRIALS"
      ]
    },
    {
      "cell_type": "code",
      "execution_count": 40,
      "metadata": {
        "id": "qQBuPfMVEOKx"
      },
      "outputs": [],
      "source": [
        "max_len = 20\n",
        "def preprocess(input_text):\n",
        "  # Tokenize the input\n",
        "  tokens = input_text.lower().split()\n",
        "\n",
        "  # Truncate long inputs\n",
        "  if len(tokens) >= max_len:\n",
        "    tokens = tokens[:max_len]\n",
        "\n",
        "  # Pad shorter inputs\n",
        "  if len(tokens) < max_len:\n",
        "    tokens = tokens + [\"\" for _ in range(max_len - len(tokens))]\n",
        "\n",
        "  return tokens"
      ]
    },
    {
      "cell_type": "code",
      "execution_count": 41,
      "metadata": {
        "id": "oBw5aD9fBcjp"
      },
      "outputs": [],
      "source": [
        "def get_input():\n",
        "  text = input(\"Enter text: \")\n",
        "  seq = preprocess(text)\n",
        "  return seq\n"
      ]
    },
    {
      "cell_type": "code",
      "execution_count": 42,
      "metadata": {
        "id": "Y9SP62kAFOxr"
      },
      "outputs": [],
      "source": [
        "from tensorflow.keras.models import load_model\n",
        "\n",
        "model = load_model(\"chatbot_model.h5\")"
      ]
    },
    {
      "cell_type": "code",
      "execution_count": 43,
      "metadata": {
        "id": "ESBNpeYtBsac"
      },
      "outputs": [],
      "source": [
        "# Get mappings\n",
        "word_index = vectorizer.vocabulary_\n",
        "index_to_word = {v:k for k, v in word_index.items()}\n",
        "\n",
        "# Decode predictions\n",
        "def decode(pred):\n",
        "    pred_word_indices = np.argmax(pred, axis=-1)\n",
        "    pred_words = [index_to_word[i] for i in pred_word_indices]\n",
        "    return \" \".join(pred_words)"
      ]
    },
    {
      "cell_type": "code",
      "source": [
        "while True:\n",
        "    test_input = get_input()\n",
        "\n",
        "    # Convert the input data to a numeric format\n",
        "    numeric_input = [float(x) if x.isdigit() else 0.0 for x in test_input]\n",
        "\n",
        "    # Ensure the input has the expected shape\n",
        "    expected_shape = (10412,)\n",
        "    padded_input = np.zeros(expected_shape)\n",
        "    padded_input[:len(numeric_input)] = numeric_input\n",
        "\n",
        "    # Reshape to add batch dimension\n",
        "    padded_input = padded_input[None, :]\n",
        "\n",
        "    pred = model.predict(padded_input)\n",
        "    prediction = decode(pred)\n",
        "\n",
        "    print(\"Prediction:\", prediction)\n"
      ],
      "metadata": {
        "colab": {
          "base_uri": "https://localhost:8080/",
          "height": 685
        },
        "id": "j7bngdVhI3LI",
        "outputId": "cf46c240-d7c0-4735-e53a-a81880cc847f"
      },
      "execution_count": 44,
      "outputs": [
        {
          "output_type": "stream",
          "name": "stdout",
          "text": [
            "Enter text: hello\n",
            "1/1 [==============================] - 1s 974ms/step\n",
            "Prediction: 10\n",
            "Enter text: i am sick\n",
            "1/1 [==============================] - 0s 278ms/step\n",
            "Prediction: 10\n",
            "Enter text: bye\n",
            "1/1 [==============================] - 0s 302ms/step\n",
            "Prediction: 10\n",
            "Enter text: die\n",
            "1/1 [==============================] - 0s 273ms/step\n",
            "Prediction: 10\n",
            "Enter text: end\n",
            "1/1 [==============================] - 0s 315ms/step\n",
            "Prediction: 10\n"
          ]
        },
        {
          "output_type": "error",
          "ename": "KeyboardInterrupt",
          "evalue": "ignored",
          "traceback": [
            "\u001b[0;31m---------------------------------------------------------------------------\u001b[0m",
            "\u001b[0;31mKeyboardInterrupt\u001b[0m                         Traceback (most recent call last)",
            "\u001b[0;32m<ipython-input-44-f4b0724e22c3>\u001b[0m in \u001b[0;36m<cell line: 1>\u001b[0;34m()\u001b[0m\n\u001b[1;32m      1\u001b[0m \u001b[0;32mwhile\u001b[0m \u001b[0;32mTrue\u001b[0m\u001b[0;34m:\u001b[0m\u001b[0;34m\u001b[0m\u001b[0;34m\u001b[0m\u001b[0m\n\u001b[0;32m----> 2\u001b[0;31m     \u001b[0mtest_input\u001b[0m \u001b[0;34m=\u001b[0m \u001b[0mget_input\u001b[0m\u001b[0;34m(\u001b[0m\u001b[0;34m)\u001b[0m\u001b[0;34m\u001b[0m\u001b[0;34m\u001b[0m\u001b[0m\n\u001b[0m\u001b[1;32m      3\u001b[0m \u001b[0;34m\u001b[0m\u001b[0m\n\u001b[1;32m      4\u001b[0m     \u001b[0;31m# Convert the input data to a numeric format\u001b[0m\u001b[0;34m\u001b[0m\u001b[0;34m\u001b[0m\u001b[0m\n\u001b[1;32m      5\u001b[0m     \u001b[0mnumeric_input\u001b[0m \u001b[0;34m=\u001b[0m \u001b[0;34m[\u001b[0m\u001b[0mfloat\u001b[0m\u001b[0;34m(\u001b[0m\u001b[0mx\u001b[0m\u001b[0;34m)\u001b[0m \u001b[0;32mif\u001b[0m \u001b[0mx\u001b[0m\u001b[0;34m.\u001b[0m\u001b[0misdigit\u001b[0m\u001b[0;34m(\u001b[0m\u001b[0;34m)\u001b[0m \u001b[0;32melse\u001b[0m \u001b[0;36m0.0\u001b[0m \u001b[0;32mfor\u001b[0m \u001b[0mx\u001b[0m \u001b[0;32min\u001b[0m \u001b[0mtest_input\u001b[0m\u001b[0;34m]\u001b[0m\u001b[0;34m\u001b[0m\u001b[0;34m\u001b[0m\u001b[0m\n",
            "\u001b[0;32m<ipython-input-41-2981b877fe67>\u001b[0m in \u001b[0;36mget_input\u001b[0;34m()\u001b[0m\n\u001b[1;32m      1\u001b[0m \u001b[0;32mdef\u001b[0m \u001b[0mget_input\u001b[0m\u001b[0;34m(\u001b[0m\u001b[0;34m)\u001b[0m\u001b[0;34m:\u001b[0m\u001b[0;34m\u001b[0m\u001b[0;34m\u001b[0m\u001b[0m\n\u001b[0;32m----> 2\u001b[0;31m   \u001b[0mtext\u001b[0m \u001b[0;34m=\u001b[0m \u001b[0minput\u001b[0m\u001b[0;34m(\u001b[0m\u001b[0;34m\"Enter text: \"\u001b[0m\u001b[0;34m)\u001b[0m\u001b[0;34m\u001b[0m\u001b[0;34m\u001b[0m\u001b[0m\n\u001b[0m\u001b[1;32m      3\u001b[0m   \u001b[0mseq\u001b[0m \u001b[0;34m=\u001b[0m \u001b[0mpreprocess\u001b[0m\u001b[0;34m(\u001b[0m\u001b[0mtext\u001b[0m\u001b[0;34m)\u001b[0m\u001b[0;34m\u001b[0m\u001b[0;34m\u001b[0m\u001b[0m\n\u001b[1;32m      4\u001b[0m   \u001b[0;32mreturn\u001b[0m \u001b[0mseq\u001b[0m\u001b[0;34m\u001b[0m\u001b[0;34m\u001b[0m\u001b[0m\n",
            "\u001b[0;32m/usr/local/lib/python3.10/dist-packages/ipykernel/kernelbase.py\u001b[0m in \u001b[0;36mraw_input\u001b[0;34m(self, prompt)\u001b[0m\n\u001b[1;32m    849\u001b[0m                 \u001b[0;34m\"raw_input was called, but this frontend does not support input requests.\"\u001b[0m\u001b[0;34m\u001b[0m\u001b[0;34m\u001b[0m\u001b[0m\n\u001b[1;32m    850\u001b[0m             )\n\u001b[0;32m--> 851\u001b[0;31m         return self._input_request(str(prompt),\n\u001b[0m\u001b[1;32m    852\u001b[0m             \u001b[0mself\u001b[0m\u001b[0;34m.\u001b[0m\u001b[0m_parent_ident\u001b[0m\u001b[0;34m,\u001b[0m\u001b[0;34m\u001b[0m\u001b[0;34m\u001b[0m\u001b[0m\n\u001b[1;32m    853\u001b[0m             \u001b[0mself\u001b[0m\u001b[0;34m.\u001b[0m\u001b[0m_parent_header\u001b[0m\u001b[0;34m,\u001b[0m\u001b[0;34m\u001b[0m\u001b[0;34m\u001b[0m\u001b[0m\n",
            "\u001b[0;32m/usr/local/lib/python3.10/dist-packages/ipykernel/kernelbase.py\u001b[0m in \u001b[0;36m_input_request\u001b[0;34m(self, prompt, ident, parent, password)\u001b[0m\n\u001b[1;32m    893\u001b[0m             \u001b[0;32mexcept\u001b[0m \u001b[0mKeyboardInterrupt\u001b[0m\u001b[0;34m:\u001b[0m\u001b[0;34m\u001b[0m\u001b[0;34m\u001b[0m\u001b[0m\n\u001b[1;32m    894\u001b[0m                 \u001b[0;31m# re-raise KeyboardInterrupt, to truncate traceback\u001b[0m\u001b[0;34m\u001b[0m\u001b[0;34m\u001b[0m\u001b[0m\n\u001b[0;32m--> 895\u001b[0;31m                 \u001b[0;32mraise\u001b[0m \u001b[0mKeyboardInterrupt\u001b[0m\u001b[0;34m(\u001b[0m\u001b[0;34m\"Interrupted by user\"\u001b[0m\u001b[0;34m)\u001b[0m \u001b[0;32mfrom\u001b[0m \u001b[0;32mNone\u001b[0m\u001b[0;34m\u001b[0m\u001b[0;34m\u001b[0m\u001b[0m\n\u001b[0m\u001b[1;32m    896\u001b[0m             \u001b[0;32mexcept\u001b[0m \u001b[0mException\u001b[0m \u001b[0;32mas\u001b[0m \u001b[0me\u001b[0m\u001b[0;34m:\u001b[0m\u001b[0;34m\u001b[0m\u001b[0;34m\u001b[0m\u001b[0m\n\u001b[1;32m    897\u001b[0m                 \u001b[0mself\u001b[0m\u001b[0;34m.\u001b[0m\u001b[0mlog\u001b[0m\u001b[0;34m.\u001b[0m\u001b[0mwarning\u001b[0m\u001b[0;34m(\u001b[0m\u001b[0;34m\"Invalid Message:\"\u001b[0m\u001b[0;34m,\u001b[0m \u001b[0mexc_info\u001b[0m\u001b[0;34m=\u001b[0m\u001b[0;32mTrue\u001b[0m\u001b[0;34m)\u001b[0m\u001b[0;34m\u001b[0m\u001b[0;34m\u001b[0m\u001b[0m\n",
            "\u001b[0;31mKeyboardInterrupt\u001b[0m: Interrupted by user"
          ]
        }
      ]
    }
  ],
  "metadata": {
    "accelerator": "GPU",
    "colab": {
      "provenance": [],
      "include_colab_link": true
    },
    "kernelspec": {
      "display_name": "Python 3",
      "name": "python3"
    },
    "language_info": {
      "name": "python"
    }
  },
  "nbformat": 4,
  "nbformat_minor": 0
}