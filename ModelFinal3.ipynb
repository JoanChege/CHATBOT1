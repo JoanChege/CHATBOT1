{
  "cells": [
    {
      "cell_type": "markdown",
      "metadata": {
        "id": "view-in-github",
        "colab_type": "text"
      },
      "source": [
        "<a href=\"https://colab.research.google.com/github/JoanChege/CHATBOT1/blob/main/ModelFinal3.ipynb\" target=\"_parent\"><img src=\"https://colab.research.google.com/assets/colab-badge.svg\" alt=\"Open In Colab\"/></a>"
      ]
    },
    {
      "cell_type": "code",
      "execution_count": 1,
      "metadata": {
        "id": "kQya6BK_dVfH",
        "colab": {
          "base_uri": "https://localhost:8080/"
        },
        "outputId": "820851f4-1b89-41f7-cc0d-94a6ba6ee2c6"
      },
      "outputs": [
        {
          "output_type": "stream",
          "name": "stdout",
          "text": [
            "Collecting pyspellchecker\n",
            "  Downloading pyspellchecker-0.7.3-py3-none-any.whl (6.5 MB)\n",
            "\u001b[2K     \u001b[90m━━━━━━━━━━━━━━━━━━━━━━━━━━━━━━━━━━━━━━━━\u001b[0m \u001b[32m6.5/6.5 MB\u001b[0m \u001b[31m22.3 MB/s\u001b[0m eta \u001b[36m0:00:00\u001b[0m\n",
            "\u001b[?25hInstalling collected packages: pyspellchecker\n",
            "Successfully installed pyspellchecker-0.7.3\n",
            "Collecting contractions\n",
            "  Downloading contractions-0.1.73-py2.py3-none-any.whl (8.7 kB)\n",
            "Collecting textsearch>=0.0.21 (from contractions)\n",
            "  Downloading textsearch-0.0.24-py2.py3-none-any.whl (7.6 kB)\n",
            "Collecting anyascii (from textsearch>=0.0.21->contractions)\n",
            "  Downloading anyascii-0.3.2-py3-none-any.whl (289 kB)\n",
            "\u001b[2K     \u001b[90m━━━━━━━━━━━━━━━━━━━━━━━━━━━━━━━━━━━━━━━━\u001b[0m \u001b[32m289.9/289.9 kB\u001b[0m \u001b[31m2.9 MB/s\u001b[0m eta \u001b[36m0:00:00\u001b[0m\n",
            "\u001b[?25hCollecting pyahocorasick (from textsearch>=0.0.21->contractions)\n",
            "  Downloading pyahocorasick-2.0.0-cp310-cp310-manylinux_2_5_x86_64.manylinux1_x86_64.manylinux_2_12_x86_64.manylinux2010_x86_64.whl (110 kB)\n",
            "\u001b[2K     \u001b[90m━━━━━━━━━━━━━━━━━━━━━━━━━━━━━━━━━━━━━━━━\u001b[0m \u001b[32m110.8/110.8 kB\u001b[0m \u001b[31m14.6 MB/s\u001b[0m eta \u001b[36m0:00:00\u001b[0m\n",
            "\u001b[?25hInstalling collected packages: pyahocorasick, anyascii, textsearch, contractions\n",
            "Successfully installed anyascii-0.3.2 contractions-0.1.73 pyahocorasick-2.0.0 textsearch-0.0.24\n",
            "Collecting symspellpy\n",
            "  Downloading symspellpy-6.7.7-py3-none-any.whl (2.6 MB)\n",
            "\u001b[2K     \u001b[90m━━━━━━━━━━━━━━━━━━━━━━━━━━━━━━━━━━━━━━━━\u001b[0m \u001b[32m2.6/2.6 MB\u001b[0m \u001b[31m10.1 MB/s\u001b[0m eta \u001b[36m0:00:00\u001b[0m\n",
            "\u001b[?25hCollecting editdistpy>=0.1.3 (from symspellpy)\n",
            "  Downloading editdistpy-0.1.3.tar.gz (57 kB)\n",
            "\u001b[2K     \u001b[90m━━━━━━━━━━━━━━━━━━━━━━━━━━━━━━━━━━━━━━━━\u001b[0m \u001b[32m57.2/57.2 kB\u001b[0m \u001b[31m7.5 MB/s\u001b[0m eta \u001b[36m0:00:00\u001b[0m\n",
            "\u001b[?25h  Installing build dependencies ... \u001b[?25l\u001b[?25hdone\n",
            "  Getting requirements to build wheel ... \u001b[?25l\u001b[?25hdone\n",
            "  Preparing metadata (pyproject.toml) ... \u001b[?25l\u001b[?25hdone\n",
            "Building wheels for collected packages: editdistpy\n",
            "  Building wheel for editdistpy (pyproject.toml) ... \u001b[?25l\u001b[?25hdone\n",
            "  Created wheel for editdistpy: filename=editdistpy-0.1.3-cp310-cp310-linux_x86_64.whl size=187457 sha256=9b4f8337301c9c360e412b2ebebdaa5deed71f81458a290b6ca6ae0d372a3f81\n",
            "  Stored in directory: /root/.cache/pip/wheels/88/6a/a6/a1283cc145323a1fb3d475bd158ee60b248ab1985230d266fc\n",
            "Successfully built editdistpy\n",
            "Installing collected packages: editdistpy, symspellpy\n",
            "Successfully installed editdistpy-0.1.3 symspellpy-6.7.7\n",
            "Requirement already satisfied: nltk in /usr/local/lib/python3.10/dist-packages (3.8.1)\n",
            "Requirement already satisfied: contractions in /usr/local/lib/python3.10/dist-packages (0.1.73)\n",
            "Collecting pyenchant\n",
            "  Downloading pyenchant-3.2.2-py3-none-any.whl (55 kB)\n",
            "\u001b[2K     \u001b[90m━━━━━━━━━━━━━━━━━━━━━━━━━━━━━━━━━━━━━━━━\u001b[0m \u001b[32m55.7/55.7 kB\u001b[0m \u001b[31m1.0 MB/s\u001b[0m eta \u001b[36m0:00:00\u001b[0m\n",
            "\u001b[?25hRequirement already satisfied: click in /usr/local/lib/python3.10/dist-packages (from nltk) (8.1.7)\n",
            "Requirement already satisfied: joblib in /usr/local/lib/python3.10/dist-packages (from nltk) (1.3.2)\n",
            "Requirement already satisfied: regex>=2021.8.3 in /usr/local/lib/python3.10/dist-packages (from nltk) (2023.6.3)\n",
            "Requirement already satisfied: tqdm in /usr/local/lib/python3.10/dist-packages (from nltk) (4.66.1)\n",
            "Requirement already satisfied: textsearch>=0.0.21 in /usr/local/lib/python3.10/dist-packages (from contractions) (0.0.24)\n",
            "Requirement already satisfied: anyascii in /usr/local/lib/python3.10/dist-packages (from textsearch>=0.0.21->contractions) (0.3.2)\n",
            "Requirement already satisfied: pyahocorasick in /usr/local/lib/python3.10/dist-packages (from textsearch>=0.0.21->contractions) (2.0.0)\n",
            "Installing collected packages: pyenchant\n",
            "Successfully installed pyenchant-3.2.2\n"
          ]
        },
        {
          "output_type": "stream",
          "name": "stderr",
          "text": [
            "[nltk_data] Downloading package stopwords to /root/nltk_data...\n",
            "[nltk_data]   Unzipping corpora/stopwords.zip.\n",
            "[nltk_data] Downloading package punkt to /root/nltk_data...\n",
            "[nltk_data]   Unzipping tokenizers/punkt.zip.\n",
            "[nltk_data] Downloading package wordnet to /root/nltk_data...\n"
          ]
        },
        {
          "output_type": "execute_result",
          "data": {
            "text/plain": [
              "True"
            ]
          },
          "metadata": {},
          "execution_count": 1
        }
      ],
      "source": [
        "!pip install pyspellchecker\n",
        "!pip install contractions\n",
        "!pip install symspellpy\n",
        "!pip install nltk contractions pyenchant\n",
        "\n",
        "import json\n",
        "import pickle\n",
        "import numpy as np\n",
        "import pandas as pd\n",
        "import contractions\n",
        "from contractions import contractions_dict\n",
        "import re\n",
        "from spellchecker import SpellChecker\n",
        "from symspellpy import SymSpell, Verbosity\n",
        "from wordcloud import STOPWORDS\n",
        "\n",
        "from sklearn.feature_extraction.text import CountVectorizer\n",
        "from sklearn.model_selection import train_test_split\n",
        "from sklearn.preprocessing import LabelEncoder\n",
        "from sklearn.utils import shuffle\n",
        "from sklearn.model_selection import train_test_split\n",
        "from sklearn.metrics import accuracy_score, precision_score, recall_score, f1_score\n",
        "\n",
        "import matplotlib.pyplot as plt\n",
        "\n",
        "import nltk\n",
        "from nltk.corpus import stopwords\n",
        "from nltk.stem import WordNetLemmatizer\n",
        "from nltk.tokenize import word_tokenize\n",
        "from nltk.translate.bleu_score import sentence_bleu, SmoothingFunction, corpus_bleu\n",
        "\n",
        "import tensorflow as tf\n",
        "from keras.models import Sequential\n",
        "from keras.layers import Embedding\n",
        "from keras.preprocessing.text import Tokenizer\n",
        "from keras.preprocessing.sequence import pad_sequences\n",
        "from keras.utils import to_categorical\n",
        "from keras.models import Sequential\n",
        "from keras.layers import Bidirectional, LSTM, Dense, Dropout\n",
        "from keras.regularizers import l2\n",
        "from keras.optimizers import Adam\n",
        "from keras.callbacks import EarlyStopping\n",
        "from keras.models import load_model\n",
        "from keras.preprocessing.text import tokenizer_from_json\n",
        "\n",
        "nltk.download('stopwords')\n",
        "nltk.download('punkt')\n",
        "nltk.download('wordnet')"
      ]
    },
    {
      "cell_type": "code",
      "execution_count": 2,
      "metadata": {
        "id": "ZINJUQ7bd7CH"
      },
      "outputs": [],
      "source": [
        "with open('/content/dataset3.json') as file:\n",
        "   intents = json.load(file)"
      ]
    },
    {
      "cell_type": "code",
      "source": [
        "# Instantiate spell checker\n",
        "spell = SpellChecker()\n",
        "\n",
        "# Instantiate lemmatizer\n",
        "lemmatizer = WordNetLemmatizer()\n",
        "\n",
        "words, documents = [], []\n",
        "\n",
        "# Extract tags\n",
        "tags = [intent['tag'] for intent in intents['intents']]\n",
        "tags = list(set(tags))\n",
        "tags = sorted(tags)\n",
        "\n",
        "for intent in intents['intents']:\n",
        "    for pattern in intent['patterns']:\n",
        "        # Preprocess text\n",
        "        pattern = re.sub(r'[^\\w\\s]', '', pattern)\n",
        "        pattern = contractions.fix(pattern)\n",
        "        pattern = pattern.lower()\n",
        "\n",
        "        # Tokenization\n",
        "        w_tokens = word_tokenize(pattern)\n",
        "\n",
        "        # Spell correction\n",
        "        corrected_words = [spell.correction(word) for word in w_tokens]\n",
        "\n",
        "        # Filter nones\n",
        "        corrected_words = [word for word in corrected_words if word]\n",
        "\n",
        "        # Lemmatization\n",
        "        lemmed = [lemmatizer.lemmatize(word) for word in corrected_words]\n",
        "\n",
        "        words.extend(lemmed)\n",
        "        documents.append((lemmed, intent['tag']))\n",
        "\n",
        "        #if intent['tag'] not in tags:\n",
        "            #tags.append(intent['tag'])\n",
        "\n",
        "# Remove duplicates\n",
        "words = list(set(words))\n",
        "\n",
        "# Sort and save the words and tags\n",
        "#words = sorted(words)\n",
        "#tags = sorted(tags)\n",
        "\n",
        "# Save to pickle files\n",
        "pickle.dump(words, open('words.pkl', 'wb'))\n",
        "pickle.dump(tags, open('tags.pkl', 'wb'))"
      ],
      "metadata": {
        "id": "TdL0hENAF6wQ"
      },
      "execution_count": 3,
      "outputs": []
    },
    {
      "cell_type": "code",
      "execution_count": 4,
      "metadata": {
        "colab": {
          "base_uri": "https://localhost:8080/"
        },
        "id": "lV9VRca_l61m",
        "outputId": "e06fc6d1-23fe-47e2-a1a4-0bf9e790bfb7"
      },
      "outputs": [
        {
          "output_type": "stream",
          "name": "stdout",
          "text": [
            "              Patterns      Tags\n",
            "0                 [hi]  greeting\n",
            "1                [hey]  greeting\n",
            "2  [is, anyone, there]  greeting\n",
            "3          [hi, there]  greeting\n",
            "4              [hello]  greeting\n"
          ]
        }
      ],
      "source": [
        "# Create DataFrame\n",
        "docs_x = [doc[0] for doc in documents]\n",
        "docs_y = [doc[1] for doc in documents]\n",
        "\n",
        "intents_df = pd.DataFrame()\n",
        "intents_df['Patterns'] = docs_x\n",
        "intents_df['Tags'] = docs_y\n",
        "\n",
        "print(intents_df.head())"
      ]
    },
    {
      "cell_type": "code",
      "execution_count": 5,
      "metadata": {
        "id": "T72BQiHpfXHh"
      },
      "outputs": [],
      "source": [
        "# Create train data\n",
        "train_data = []\n",
        "\n",
        "for document in documents:\n",
        "\n",
        "    # Bag of words for each document\n",
        "    bag = []\n",
        "\n",
        "    word_patterns = document[0]\n",
        "    for word in words:\n",
        "        if word in word_patterns:\n",
        "            bag.append(1)\n",
        "        else:\n",
        "            bag.append(0)\n",
        "\n",
        "    # Output row\n",
        "    output_row = [0] * len(tags)\n",
        "\n",
        "    # Set 1 for associated tag\n",
        "    index = tags.index(document[1])\n",
        "    output_row[index] = 1\n",
        "\n",
        "    # Add to data\n",
        "    train_data.append([bag, output_row])"
      ]
    },
    {
      "cell_type": "code",
      "execution_count": 6,
      "metadata": {
        "id": "QUITNplhlIfv"
      },
      "outputs": [],
      "source": [
        "# Create DataFrame\n",
        "X = [data[0] for data in train_data]\n",
        "y = [data[1] for data in train_data]\n",
        "df = pd.DataFrame({'Patterns': X, 'Tags': y})"
      ]
    },
    {
      "cell_type": "code",
      "execution_count": 7,
      "metadata": {
        "colab": {
          "base_uri": "https://localhost:8080/",
          "height": 423
        },
        "id": "Nm1O1m-QlKIi",
        "outputId": "f676647f-d89b-4050-e773-24615629154d"
      },
      "outputs": [
        {
          "output_type": "execute_result",
          "data": {
            "text/plain": [
              "                                               Patterns  \\\n",
              "0     [0, 0, 0, 0, 0, 0, 0, 0, 0, 0, 0, 0, 0, 0, 0, ...   \n",
              "1     [0, 0, 0, 0, 0, 0, 0, 0, 0, 0, 0, 0, 0, 0, 0, ...   \n",
              "2     [0, 0, 0, 0, 0, 0, 0, 0, 0, 0, 0, 0, 0, 0, 0, ...   \n",
              "3     [0, 0, 0, 0, 0, 0, 0, 0, 0, 0, 0, 0, 0, 0, 0, ...   \n",
              "4     [0, 0, 0, 0, 0, 0, 0, 0, 0, 0, 0, 0, 0, 0, 0, ...   \n",
              "...                                                 ...   \n",
              "5986  [0, 0, 0, 0, 0, 0, 0, 0, 0, 0, 0, 0, 0, 0, 0, ...   \n",
              "5987  [0, 0, 0, 0, 0, 0, 0, 0, 0, 0, 0, 0, 0, 0, 0, ...   \n",
              "5988  [0, 0, 0, 0, 0, 0, 0, 0, 0, 0, 0, 0, 0, 0, 0, ...   \n",
              "5989  [0, 0, 0, 0, 0, 0, 0, 0, 0, 0, 0, 0, 0, 0, 0, ...   \n",
              "5990  [0, 0, 0, 0, 0, 0, 0, 0, 0, 0, 0, 0, 0, 0, 0, ...   \n",
              "\n",
              "                                                   Tags  \n",
              "0     [0, 0, 0, 0, 0, 0, 0, 0, 0, 0, 0, 0, 0, 0, 0, ...  \n",
              "1     [0, 0, 0, 0, 0, 0, 0, 0, 0, 0, 0, 0, 0, 0, 0, ...  \n",
              "2     [0, 0, 0, 0, 0, 0, 0, 0, 0, 0, 0, 0, 0, 0, 0, ...  \n",
              "3     [0, 0, 0, 0, 0, 0, 0, 0, 0, 0, 0, 0, 0, 0, 0, ...  \n",
              "4     [0, 0, 0, 0, 0, 0, 0, 0, 0, 0, 0, 0, 0, 0, 0, ...  \n",
              "...                                                 ...  \n",
              "5986  [0, 1, 0, 0, 0, 0, 0, 0, 0, 0, 0, 0, 0, 0, 0, ...  \n",
              "5987  [0, 1, 0, 0, 0, 0, 0, 0, 0, 0, 0, 0, 0, 0, 0, ...  \n",
              "5988  [0, 1, 0, 0, 0, 0, 0, 0, 0, 0, 0, 0, 0, 0, 0, ...  \n",
              "5989  [0, 1, 0, 0, 0, 0, 0, 0, 0, 0, 0, 0, 0, 0, 0, ...  \n",
              "5990  [0, 1, 0, 0, 0, 0, 0, 0, 0, 0, 0, 0, 0, 0, 0, ...  \n",
              "\n",
              "[5991 rows x 2 columns]"
            ],
            "text/html": [
              "\n",
              "  <div id=\"df-cb8348e1-56bb-4a3b-a1fc-af8c998c21e1\" class=\"colab-df-container\">\n",
              "    <div>\n",
              "<style scoped>\n",
              "    .dataframe tbody tr th:only-of-type {\n",
              "        vertical-align: middle;\n",
              "    }\n",
              "\n",
              "    .dataframe tbody tr th {\n",
              "        vertical-align: top;\n",
              "    }\n",
              "\n",
              "    .dataframe thead th {\n",
              "        text-align: right;\n",
              "    }\n",
              "</style>\n",
              "<table border=\"1\" class=\"dataframe\">\n",
              "  <thead>\n",
              "    <tr style=\"text-align: right;\">\n",
              "      <th></th>\n",
              "      <th>Patterns</th>\n",
              "      <th>Tags</th>\n",
              "    </tr>\n",
              "  </thead>\n",
              "  <tbody>\n",
              "    <tr>\n",
              "      <th>0</th>\n",
              "      <td>[0, 0, 0, 0, 0, 0, 0, 0, 0, 0, 0, 0, 0, 0, 0, ...</td>\n",
              "      <td>[0, 0, 0, 0, 0, 0, 0, 0, 0, 0, 0, 0, 0, 0, 0, ...</td>\n",
              "    </tr>\n",
              "    <tr>\n",
              "      <th>1</th>\n",
              "      <td>[0, 0, 0, 0, 0, 0, 0, 0, 0, 0, 0, 0, 0, 0, 0, ...</td>\n",
              "      <td>[0, 0, 0, 0, 0, 0, 0, 0, 0, 0, 0, 0, 0, 0, 0, ...</td>\n",
              "    </tr>\n",
              "    <tr>\n",
              "      <th>2</th>\n",
              "      <td>[0, 0, 0, 0, 0, 0, 0, 0, 0, 0, 0, 0, 0, 0, 0, ...</td>\n",
              "      <td>[0, 0, 0, 0, 0, 0, 0, 0, 0, 0, 0, 0, 0, 0, 0, ...</td>\n",
              "    </tr>\n",
              "    <tr>\n",
              "      <th>3</th>\n",
              "      <td>[0, 0, 0, 0, 0, 0, 0, 0, 0, 0, 0, 0, 0, 0, 0, ...</td>\n",
              "      <td>[0, 0, 0, 0, 0, 0, 0, 0, 0, 0, 0, 0, 0, 0, 0, ...</td>\n",
              "    </tr>\n",
              "    <tr>\n",
              "      <th>4</th>\n",
              "      <td>[0, 0, 0, 0, 0, 0, 0, 0, 0, 0, 0, 0, 0, 0, 0, ...</td>\n",
              "      <td>[0, 0, 0, 0, 0, 0, 0, 0, 0, 0, 0, 0, 0, 0, 0, ...</td>\n",
              "    </tr>\n",
              "    <tr>\n",
              "      <th>...</th>\n",
              "      <td>...</td>\n",
              "      <td>...</td>\n",
              "    </tr>\n",
              "    <tr>\n",
              "      <th>5986</th>\n",
              "      <td>[0, 0, 0, 0, 0, 0, 0, 0, 0, 0, 0, 0, 0, 0, 0, ...</td>\n",
              "      <td>[0, 1, 0, 0, 0, 0, 0, 0, 0, 0, 0, 0, 0, 0, 0, ...</td>\n",
              "    </tr>\n",
              "    <tr>\n",
              "      <th>5987</th>\n",
              "      <td>[0, 0, 0, 0, 0, 0, 0, 0, 0, 0, 0, 0, 0, 0, 0, ...</td>\n",
              "      <td>[0, 1, 0, 0, 0, 0, 0, 0, 0, 0, 0, 0, 0, 0, 0, ...</td>\n",
              "    </tr>\n",
              "    <tr>\n",
              "      <th>5988</th>\n",
              "      <td>[0, 0, 0, 0, 0, 0, 0, 0, 0, 0, 0, 0, 0, 0, 0, ...</td>\n",
              "      <td>[0, 1, 0, 0, 0, 0, 0, 0, 0, 0, 0, 0, 0, 0, 0, ...</td>\n",
              "    </tr>\n",
              "    <tr>\n",
              "      <th>5989</th>\n",
              "      <td>[0, 0, 0, 0, 0, 0, 0, 0, 0, 0, 0, 0, 0, 0, 0, ...</td>\n",
              "      <td>[0, 1, 0, 0, 0, 0, 0, 0, 0, 0, 0, 0, 0, 0, 0, ...</td>\n",
              "    </tr>\n",
              "    <tr>\n",
              "      <th>5990</th>\n",
              "      <td>[0, 0, 0, 0, 0, 0, 0, 0, 0, 0, 0, 0, 0, 0, 0, ...</td>\n",
              "      <td>[0, 1, 0, 0, 0, 0, 0, 0, 0, 0, 0, 0, 0, 0, 0, ...</td>\n",
              "    </tr>\n",
              "  </tbody>\n",
              "</table>\n",
              "<p>5991 rows × 2 columns</p>\n",
              "</div>\n",
              "    <div class=\"colab-df-buttons\">\n",
              "\n",
              "  <div class=\"colab-df-container\">\n",
              "    <button class=\"colab-df-convert\" onclick=\"convertToInteractive('df-cb8348e1-56bb-4a3b-a1fc-af8c998c21e1')\"\n",
              "            title=\"Convert this dataframe to an interactive table.\"\n",
              "            style=\"display:none;\">\n",
              "\n",
              "  <svg xmlns=\"http://www.w3.org/2000/svg\" height=\"24px\" viewBox=\"0 -960 960 960\">\n",
              "    <path d=\"M120-120v-720h720v720H120Zm60-500h600v-160H180v160Zm220 220h160v-160H400v160Zm0 220h160v-160H400v160ZM180-400h160v-160H180v160Zm440 0h160v-160H620v160ZM180-180h160v-160H180v160Zm440 0h160v-160H620v160Z\"/>\n",
              "  </svg>\n",
              "    </button>\n",
              "\n",
              "  <style>\n",
              "    .colab-df-container {\n",
              "      display:flex;\n",
              "      gap: 12px;\n",
              "    }\n",
              "\n",
              "    .colab-df-convert {\n",
              "      background-color: #E8F0FE;\n",
              "      border: none;\n",
              "      border-radius: 50%;\n",
              "      cursor: pointer;\n",
              "      display: none;\n",
              "      fill: #1967D2;\n",
              "      height: 32px;\n",
              "      padding: 0 0 0 0;\n",
              "      width: 32px;\n",
              "    }\n",
              "\n",
              "    .colab-df-convert:hover {\n",
              "      background-color: #E2EBFA;\n",
              "      box-shadow: 0px 1px 2px rgba(60, 64, 67, 0.3), 0px 1px 3px 1px rgba(60, 64, 67, 0.15);\n",
              "      fill: #174EA6;\n",
              "    }\n",
              "\n",
              "    .colab-df-buttons div {\n",
              "      margin-bottom: 4px;\n",
              "    }\n",
              "\n",
              "    [theme=dark] .colab-df-convert {\n",
              "      background-color: #3B4455;\n",
              "      fill: #D2E3FC;\n",
              "    }\n",
              "\n",
              "    [theme=dark] .colab-df-convert:hover {\n",
              "      background-color: #434B5C;\n",
              "      box-shadow: 0px 1px 3px 1px rgba(0, 0, 0, 0.15);\n",
              "      filter: drop-shadow(0px 1px 2px rgba(0, 0, 0, 0.3));\n",
              "      fill: #FFFFFF;\n",
              "    }\n",
              "  </style>\n",
              "\n",
              "    <script>\n",
              "      const buttonEl =\n",
              "        document.querySelector('#df-cb8348e1-56bb-4a3b-a1fc-af8c998c21e1 button.colab-df-convert');\n",
              "      buttonEl.style.display =\n",
              "        google.colab.kernel.accessAllowed ? 'block' : 'none';\n",
              "\n",
              "      async function convertToInteractive(key) {\n",
              "        const element = document.querySelector('#df-cb8348e1-56bb-4a3b-a1fc-af8c998c21e1');\n",
              "        const dataTable =\n",
              "          await google.colab.kernel.invokeFunction('convertToInteractive',\n",
              "                                                    [key], {});\n",
              "        if (!dataTable) return;\n",
              "\n",
              "        const docLinkHtml = 'Like what you see? Visit the ' +\n",
              "          '<a target=\"_blank\" href=https://colab.research.google.com/notebooks/data_table.ipynb>data table notebook</a>'\n",
              "          + ' to learn more about interactive tables.';\n",
              "        element.innerHTML = '';\n",
              "        dataTable['output_type'] = 'display_data';\n",
              "        await google.colab.output.renderOutput(dataTable, element);\n",
              "        const docLink = document.createElement('div');\n",
              "        docLink.innerHTML = docLinkHtml;\n",
              "        element.appendChild(docLink);\n",
              "      }\n",
              "    </script>\n",
              "  </div>\n",
              "\n",
              "\n",
              "<div id=\"df-f1ae792e-37b2-41c3-85a1-ef7d9c8a3f60\">\n",
              "  <button class=\"colab-df-quickchart\" onclick=\"quickchart('df-f1ae792e-37b2-41c3-85a1-ef7d9c8a3f60')\"\n",
              "            title=\"Suggest charts\"\n",
              "            style=\"display:none;\">\n",
              "\n",
              "<svg xmlns=\"http://www.w3.org/2000/svg\" height=\"24px\"viewBox=\"0 0 24 24\"\n",
              "     width=\"24px\">\n",
              "    <g>\n",
              "        <path d=\"M19 3H5c-1.1 0-2 .9-2 2v14c0 1.1.9 2 2 2h14c1.1 0 2-.9 2-2V5c0-1.1-.9-2-2-2zM9 17H7v-7h2v7zm4 0h-2V7h2v10zm4 0h-2v-4h2v4z\"/>\n",
              "    </g>\n",
              "</svg>\n",
              "  </button>\n",
              "\n",
              "<style>\n",
              "  .colab-df-quickchart {\n",
              "      --bg-color: #E8F0FE;\n",
              "      --fill-color: #1967D2;\n",
              "      --hover-bg-color: #E2EBFA;\n",
              "      --hover-fill-color: #174EA6;\n",
              "      --disabled-fill-color: #AAA;\n",
              "      --disabled-bg-color: #DDD;\n",
              "  }\n",
              "\n",
              "  [theme=dark] .colab-df-quickchart {\n",
              "      --bg-color: #3B4455;\n",
              "      --fill-color: #D2E3FC;\n",
              "      --hover-bg-color: #434B5C;\n",
              "      --hover-fill-color: #FFFFFF;\n",
              "      --disabled-bg-color: #3B4455;\n",
              "      --disabled-fill-color: #666;\n",
              "  }\n",
              "\n",
              "  .colab-df-quickchart {\n",
              "    background-color: var(--bg-color);\n",
              "    border: none;\n",
              "    border-radius: 50%;\n",
              "    cursor: pointer;\n",
              "    display: none;\n",
              "    fill: var(--fill-color);\n",
              "    height: 32px;\n",
              "    padding: 0;\n",
              "    width: 32px;\n",
              "  }\n",
              "\n",
              "  .colab-df-quickchart:hover {\n",
              "    background-color: var(--hover-bg-color);\n",
              "    box-shadow: 0 1px 2px rgba(60, 64, 67, 0.3), 0 1px 3px 1px rgba(60, 64, 67, 0.15);\n",
              "    fill: var(--button-hover-fill-color);\n",
              "  }\n",
              "\n",
              "  .colab-df-quickchart-complete:disabled,\n",
              "  .colab-df-quickchart-complete:disabled:hover {\n",
              "    background-color: var(--disabled-bg-color);\n",
              "    fill: var(--disabled-fill-color);\n",
              "    box-shadow: none;\n",
              "  }\n",
              "\n",
              "  .colab-df-spinner {\n",
              "    border: 2px solid var(--fill-color);\n",
              "    border-color: transparent;\n",
              "    border-bottom-color: var(--fill-color);\n",
              "    animation:\n",
              "      spin 1s steps(1) infinite;\n",
              "  }\n",
              "\n",
              "  @keyframes spin {\n",
              "    0% {\n",
              "      border-color: transparent;\n",
              "      border-bottom-color: var(--fill-color);\n",
              "      border-left-color: var(--fill-color);\n",
              "    }\n",
              "    20% {\n",
              "      border-color: transparent;\n",
              "      border-left-color: var(--fill-color);\n",
              "      border-top-color: var(--fill-color);\n",
              "    }\n",
              "    30% {\n",
              "      border-color: transparent;\n",
              "      border-left-color: var(--fill-color);\n",
              "      border-top-color: var(--fill-color);\n",
              "      border-right-color: var(--fill-color);\n",
              "    }\n",
              "    40% {\n",
              "      border-color: transparent;\n",
              "      border-right-color: var(--fill-color);\n",
              "      border-top-color: var(--fill-color);\n",
              "    }\n",
              "    60% {\n",
              "      border-color: transparent;\n",
              "      border-right-color: var(--fill-color);\n",
              "    }\n",
              "    80% {\n",
              "      border-color: transparent;\n",
              "      border-right-color: var(--fill-color);\n",
              "      border-bottom-color: var(--fill-color);\n",
              "    }\n",
              "    90% {\n",
              "      border-color: transparent;\n",
              "      border-bottom-color: var(--fill-color);\n",
              "    }\n",
              "  }\n",
              "</style>\n",
              "\n",
              "  <script>\n",
              "    async function quickchart(key) {\n",
              "      const quickchartButtonEl =\n",
              "        document.querySelector('#' + key + ' button');\n",
              "      quickchartButtonEl.disabled = true;  // To prevent multiple clicks.\n",
              "      quickchartButtonEl.classList.add('colab-df-spinner');\n",
              "      try {\n",
              "        const charts = await google.colab.kernel.invokeFunction(\n",
              "            'suggestCharts', [key], {});\n",
              "      } catch (error) {\n",
              "        console.error('Error during call to suggestCharts:', error);\n",
              "      }\n",
              "      quickchartButtonEl.classList.remove('colab-df-spinner');\n",
              "      quickchartButtonEl.classList.add('colab-df-quickchart-complete');\n",
              "    }\n",
              "    (() => {\n",
              "      let quickchartButtonEl =\n",
              "        document.querySelector('#df-f1ae792e-37b2-41c3-85a1-ef7d9c8a3f60 button');\n",
              "      quickchartButtonEl.style.display =\n",
              "        google.colab.kernel.accessAllowed ? 'block' : 'none';\n",
              "    })();\n",
              "  </script>\n",
              "</div>\n",
              "\n",
              "  <div id=\"id_a230f27f-750e-49ee-9ac5-602f91e344f9\">\n",
              "    <style>\n",
              "      .colab-df-generate {\n",
              "        background-color: #E8F0FE;\n",
              "        border: none;\n",
              "        border-radius: 50%;\n",
              "        cursor: pointer;\n",
              "        display: none;\n",
              "        fill: #1967D2;\n",
              "        height: 32px;\n",
              "        padding: 0 0 0 0;\n",
              "        width: 32px;\n",
              "      }\n",
              "\n",
              "      .colab-df-generate:hover {\n",
              "        background-color: #E2EBFA;\n",
              "        box-shadow: 0px 1px 2px rgba(60, 64, 67, 0.3), 0px 1px 3px 1px rgba(60, 64, 67, 0.15);\n",
              "        fill: #174EA6;\n",
              "      }\n",
              "\n",
              "      [theme=dark] .colab-df-generate {\n",
              "        background-color: #3B4455;\n",
              "        fill: #D2E3FC;\n",
              "      }\n",
              "\n",
              "      [theme=dark] .colab-df-generate:hover {\n",
              "        background-color: #434B5C;\n",
              "        box-shadow: 0px 1px 3px 1px rgba(0, 0, 0, 0.15);\n",
              "        filter: drop-shadow(0px 1px 2px rgba(0, 0, 0, 0.3));\n",
              "        fill: #FFFFFF;\n",
              "      }\n",
              "    </style>\n",
              "    <button class=\"colab-df-generate\" onclick=\"generateWithVariable('df')\"\n",
              "            title=\"Generate code using this dataframe.\"\n",
              "            style=\"display:none;\">\n",
              "\n",
              "  <svg xmlns=\"http://www.w3.org/2000/svg\" height=\"24px\"viewBox=\"0 0 24 24\"\n",
              "       width=\"24px\">\n",
              "    <path d=\"M7,19H8.4L18.45,9,17,7.55,7,17.6ZM5,21V16.75L18.45,3.32a2,2,0,0,1,2.83,0l1.4,1.43a1.91,1.91,0,0,1,.58,1.4,1.91,1.91,0,0,1-.58,1.4L9.25,21ZM18.45,9,17,7.55Zm-12,3A5.31,5.31,0,0,0,4.9,8.1,5.31,5.31,0,0,0,1,6.5,5.31,5.31,0,0,0,4.9,4.9,5.31,5.31,0,0,0,6.5,1,5.31,5.31,0,0,0,8.1,4.9,5.31,5.31,0,0,0,12,6.5,5.46,5.46,0,0,0,6.5,12Z\"/>\n",
              "  </svg>\n",
              "    </button>\n",
              "    <script>\n",
              "      (() => {\n",
              "      const buttonEl =\n",
              "        document.querySelector('#id_a230f27f-750e-49ee-9ac5-602f91e344f9 button.colab-df-generate');\n",
              "      buttonEl.style.display =\n",
              "        google.colab.kernel.accessAllowed ? 'block' : 'none';\n",
              "\n",
              "      buttonEl.onclick = () => {\n",
              "        google.colab.notebook.generateWithVariable('df');\n",
              "      }\n",
              "      })();\n",
              "    </script>\n",
              "  </div>\n",
              "\n",
              "    </div>\n",
              "  </div>\n"
            ]
          },
          "metadata": {},
          "execution_count": 7
        }
      ],
      "source": [
        "df"
      ]
    },
    {
      "cell_type": "code",
      "execution_count": 8,
      "metadata": {
        "colab": {
          "base_uri": "https://localhost:8080/"
        },
        "id": "903tWoDPrkjd",
        "outputId": "25a842b5-ee33-402e-ae32-bfbb11a78ffb"
      },
      "outputs": [
        {
          "output_type": "stream",
          "name": "stdout",
          "text": [
            "Shape of X: (5991, 9674)\n",
            "Shape of y: (5991, 318)\n"
          ]
        }
      ],
      "source": [
        "# Assuming you have already created the DataFrame\n",
        "X = df['Patterns'].tolist()\n",
        "y = df['Tags'].tolist()\n",
        "\n",
        "# Check the shape of X and y\n",
        "print(\"Shape of X:\", np.array(X).shape)\n",
        "print(\"Shape of y:\", np.array(y).shape)"
      ]
    },
    {
      "cell_type": "code",
      "execution_count": 9,
      "metadata": {
        "id": "IodHOXYwfo2U"
      },
      "outputs": [],
      "source": [
        "# Dataset splitting into train, validate, and test\n",
        "np.random.shuffle(train_data)\n",
        "train_index = int(len(train_data) * 0.8)\n",
        "val_index = int(len(train_data) * 0.9)\n",
        "\n",
        "train_x = [data[0] for data in train_data[:train_index]]\n",
        "train_y = [data[1] for data in train_data[:train_index]]\n",
        "\n",
        "val_x = [data[0] for data in train_data[train_index:val_index]]\n",
        "val_y = [data[1] for data in train_data[train_index:val_index]]\n",
        "\n",
        "test_x = [data[0] for data in train_data[val_index:]]\n",
        "test_y = [data[1] for data in train_data[val_index:]]"
      ]
    },
    {
      "cell_type": "code",
      "source": [
        "train_x = np.array(train_x)\n",
        "val_x = np.array(val_x)\n",
        "test_x = np.array(test_x)\n",
        "\n",
        "print(train_x.size)\n",
        "print(val_x.size)\n",
        "print(test_x.size)\n"
      ],
      "metadata": {
        "colab": {
          "base_uri": "https://localhost:8080/"
        },
        "id": "qou3PvRevwcg",
        "outputId": "8bdbf60f-ab88-424a-a7ca-884b5a80802d"
      },
      "execution_count": 10,
      "outputs": [
        {
          "output_type": "stream",
          "name": "stdout",
          "text": [
            "46357808\n",
            "5794726\n",
            "5804400\n"
          ]
        }
      ]
    },
    {
      "cell_type": "code",
      "source": [
        "# Add an axis to represent the sequence length\n",
        "train_x = np.expand_dims(train_x, axis=1)\n",
        "train_y = np.array(train_y)\n",
        "\n",
        "# Similarly, add an axis for val_x and test_x\n",
        "val_x = np.expand_dims(val_x, axis=1)\n",
        "val_y = np.array(val_y)\n",
        "\n",
        "test_x = np.expand_dims(test_x, axis=1)\n",
        "test_y = np.array(test_y)\n",
        "\n",
        "# Remove unnecessary singleton dimensions from train_x\n",
        "train_x = np.squeeze(train_x)\n",
        "train_y = np.array(train_y)\n",
        "\n",
        "# Remove unnecessary singleton dimensions from val_x\n",
        "val_x = np.squeeze(val_x)\n",
        "val_y = np.array(val_y)\n",
        "\n",
        "# Remove unnecessary singleton dimensions from test_x\n",
        "test_x = np.squeeze(test_x)\n",
        "test_y = np.array(test_y)\n"
      ],
      "metadata": {
        "id": "_sANILrz5ebD"
      },
      "execution_count": 13,
      "outputs": []
    },
    {
      "cell_type": "code",
      "execution_count": 14,
      "metadata": {
        "colab": {
          "base_uri": "https://localhost:8080/"
        },
        "id": "HOoK4AYp9MLt",
        "outputId": "2c0502bb-ac2c-45e9-fae7-4c2a254e3518"
      },
      "outputs": [
        {
          "output_type": "stream",
          "name": "stdout",
          "text": [
            "Shape of train_x: (4792, 9674)\n",
            "Shape of train_y: (4792, 318)\n",
            "Shape of val_x: (599, 9674)\n",
            "Shape of val_y: (599, 318)\n",
            "Shape of test_x: (600, 9674)\n",
            "Shape of test_y: (600, 318)\n"
          ]
        }
      ],
      "source": [
        "# Verify shapes\n",
        "print(\"Shape of train_x:\", train_x.shape)\n",
        "print(\"Shape of train_y:\", train_y.shape)\n",
        "print(\"Shape of val_x:\", val_x.shape)\n",
        "print(\"Shape of val_y:\", val_y.shape)\n",
        "print(\"Shape of test_x:\", test_x.shape)\n",
        "print(\"Shape of test_y:\", test_y.shape)"
      ]
    },
    {
      "cell_type": "code",
      "execution_count": 15,
      "metadata": {
        "id": "z-gVD8zMlkIE"
      },
      "outputs": [],
      "source": [
        "vocab_size = len(words)\n",
        "max_sequence_length = max([len(x) for x in train_x])\n",
        "num_classes = len(tags)"
      ]
    },
    {
      "cell_type": "code",
      "source": [
        "# Define the model\n",
        "model = Sequential()\n",
        "# Embedding layer\n",
        "model.add(Embedding(input_dim=vocab_size, output_dim=100, input_length=max_sequence_length))\n",
        "model.add(LSTM(units=256, activation='tanh', kernel_regularizer=l2(0.01), return_sequences=True))\n",
        "model.add(Dropout(0.5))\n",
        "model.add(LSTM(units=128, activation='tanh', kernel_regularizer=l2(0.01), return_sequences=False))\n",
        "model.add(Dropout(0.5))\n",
        "model.add(Dense(64, activation='relu', kernel_regularizer=l2(0.01)))\n",
        "model.add(Dropout(0.5))\n",
        "model.add(Dense(num_classes, activation='softmax'))"
      ],
      "metadata": {
        "id": "rFwcpSkustJC"
      },
      "execution_count": 18,
      "outputs": []
    },
    {
      "cell_type": "code",
      "execution_count": 19,
      "metadata": {
        "colab": {
          "base_uri": "https://localhost:8080/"
        },
        "id": "KIYV-t1jgTKM",
        "outputId": "8330c703-8e12-476a-912f-0e123e7555fa"
      },
      "outputs": [
        {
          "output_type": "stream",
          "name": "stdout",
          "text": [
            "Model: \"sequential_1\"\n",
            "_________________________________________________________________\n",
            " Layer (type)                Output Shape              Param #   \n",
            "=================================================================\n",
            " embedding_1 (Embedding)     (None, 9674, 100)         967400    \n",
            "                                                                 \n",
            " lstm_2 (LSTM)               (None, 9674, 256)         365568    \n",
            "                                                                 \n",
            " dropout_3 (Dropout)         (None, 9674, 256)         0         \n",
            "                                                                 \n",
            " lstm_3 (LSTM)               (None, 128)               197120    \n",
            "                                                                 \n",
            " dropout_4 (Dropout)         (None, 128)               0         \n",
            "                                                                 \n",
            " dense_2 (Dense)             (None, 64)                8256      \n",
            "                                                                 \n",
            " dropout_5 (Dropout)         (None, 64)                0         \n",
            "                                                                 \n",
            " dense_3 (Dense)             (None, 318)               20670     \n",
            "                                                                 \n",
            "=================================================================\n",
            "Total params: 1559014 (5.95 MB)\n",
            "Trainable params: 1559014 (5.95 MB)\n",
            "Non-trainable params: 0 (0.00 Byte)\n",
            "_________________________________________________________________\n"
          ]
        }
      ],
      "source": [
        "model.summary()"
      ]
    },
    {
      "cell_type": "code",
      "execution_count": 26,
      "metadata": {
        "id": "0t1IeAv7f1Mg"
      },
      "outputs": [],
      "source": [
        "# List of learning rates to experiment with\n",
        "learning_rates = [0.1, 0.01, 0.001, 0.0001]\n",
        "\n",
        "\n",
        "for lr in learning_rates:\n",
        "    # Create optimizer with the current learning rate\n",
        "    opt = Adam(learning_rate=lr)\n",
        "\n",
        "    # Compile the model with the current optimizer\n",
        "    model.compile(loss='categorical_crossentropy', optimizer=opt, metrics=['accuracy'])"
      ]
    },
    {
      "cell_type": "code",
      "execution_count": 27,
      "metadata": {
        "id": "t863QCF_f5-e"
      },
      "outputs": [],
      "source": [
        "# Training with early stopping callback\n",
        "early_stop = EarlyStopping(monitor='val_loss', mode='min', verbose=1, patience=3)"
      ]
    },
    {
      "cell_type": "code",
      "execution_count": 28,
      "metadata": {
        "id": "QDNSHVPuf-dl",
        "colab": {
          "base_uri": "https://localhost:8080/"
        },
        "outputId": "f9481fc8-3542-4aa8-ef50-788bb376a438"
      },
      "outputs": [
        {
          "output_type": "stream",
          "name": "stdout",
          "text": [
            "Epoch 1/50\n",
            "75/75 [==============================] - 94s 1s/step - loss: 7.5962 - accuracy: 0.8170 - val_loss: 5.5525 - val_accuracy: 0.8982\n",
            "Epoch 2/50\n",
            "75/75 [==============================] - 89s 1s/step - loss: 5.3658 - accuracy: 0.8923 - val_loss: 4.5079 - val_accuracy: 0.8982\n",
            "Epoch 3/50\n",
            "75/75 [==============================] - 90s 1s/step - loss: 4.4563 - accuracy: 0.8940 - val_loss: 3.8444 - val_accuracy: 0.8982\n",
            "Epoch 4/50\n",
            "75/75 [==============================] - 90s 1s/step - loss: 3.7808 - accuracy: 0.8944 - val_loss: 3.3108 - val_accuracy: 0.8982\n",
            "Epoch 5/50\n",
            "75/75 [==============================] - 90s 1s/step - loss: 3.2757 - accuracy: 0.8944 - val_loss: 2.8876 - val_accuracy: 0.8982\n",
            "Epoch 6/50\n",
            "75/75 [==============================] - 90s 1s/step - loss: 2.8578 - accuracy: 0.8942 - val_loss: 2.5609 - val_accuracy: 0.8982\n",
            "Epoch 7/50\n",
            "75/75 [==============================] - 90s 1s/step - loss: 2.5665 - accuracy: 0.8944 - val_loss: 2.2894 - val_accuracy: 0.8982\n",
            "Epoch 8/50\n",
            "75/75 [==============================] - 90s 1s/step - loss: 2.3349 - accuracy: 0.8942 - val_loss: 2.1032 - val_accuracy: 0.8982\n",
            "Epoch 9/50\n",
            "75/75 [==============================] - 90s 1s/step - loss: 2.1276 - accuracy: 0.8944 - val_loss: 1.9605 - val_accuracy: 0.8982\n",
            "Epoch 10/50\n",
            "75/75 [==============================] - 90s 1s/step - loss: 1.9840 - accuracy: 0.8944 - val_loss: 1.7930 - val_accuracy: 0.8982\n",
            "Epoch 11/50\n",
            "75/75 [==============================] - 90s 1s/step - loss: 1.8633 - accuracy: 0.8944 - val_loss: 1.7364 - val_accuracy: 0.8982\n",
            "Epoch 12/50\n",
            "75/75 [==============================] - 90s 1s/step - loss: 1.7666 - accuracy: 0.8944 - val_loss: 1.6384 - val_accuracy: 0.8982\n",
            "Epoch 13/50\n",
            "75/75 [==============================] - 89s 1s/step - loss: 1.6659 - accuracy: 0.8944 - val_loss: 1.5839 - val_accuracy: 0.8982\n",
            "Epoch 14/50\n",
            "75/75 [==============================] - 89s 1s/step - loss: 1.6043 - accuracy: 0.8944 - val_loss: 1.5131 - val_accuracy: 0.8982\n",
            "Epoch 15/50\n",
            "75/75 [==============================] - 90s 1s/step - loss: 1.5555 - accuracy: 0.8944 - val_loss: 1.4674 - val_accuracy: 0.8982\n",
            "Epoch 16/50\n",
            "75/75 [==============================] - 90s 1s/step - loss: 1.5085 - accuracy: 0.8944 - val_loss: 1.4190 - val_accuracy: 0.8982\n",
            "Epoch 17/50\n",
            "75/75 [==============================] - 90s 1s/step - loss: 1.4701 - accuracy: 0.8944 - val_loss: 1.4045 - val_accuracy: 0.8982\n",
            "Epoch 18/50\n",
            "75/75 [==============================] - 90s 1s/step - loss: 1.4192 - accuracy: 0.8944 - val_loss: 1.3525 - val_accuracy: 0.8982\n",
            "Epoch 19/50\n",
            "75/75 [==============================] - 89s 1s/step - loss: 1.4037 - accuracy: 0.8944 - val_loss: 1.3325 - val_accuracy: 0.8982\n",
            "Epoch 20/50\n",
            "75/75 [==============================] - 90s 1s/step - loss: 1.3703 - accuracy: 0.8944 - val_loss: 1.3086 - val_accuracy: 0.8982\n",
            "Epoch 21/50\n",
            "75/75 [==============================] - 90s 1s/step - loss: 1.3465 - accuracy: 0.8944 - val_loss: 1.2904 - val_accuracy: 0.8982\n",
            "Epoch 22/50\n",
            "75/75 [==============================] - 89s 1s/step - loss: 1.3275 - accuracy: 0.8944 - val_loss: 1.2866 - val_accuracy: 0.8982\n",
            "Epoch 23/50\n",
            "75/75 [==============================] - 89s 1s/step - loss: 1.3085 - accuracy: 0.8944 - val_loss: 1.2760 - val_accuracy: 0.8982\n",
            "Epoch 24/50\n",
            "75/75 [==============================] - 90s 1s/step - loss: 1.2894 - accuracy: 0.8944 - val_loss: 1.2317 - val_accuracy: 0.8982\n",
            "Epoch 25/50\n",
            "75/75 [==============================] - 90s 1s/step - loss: 1.2752 - accuracy: 0.8944 - val_loss: 1.2451 - val_accuracy: 0.8982\n",
            "Epoch 26/50\n",
            "75/75 [==============================] - 90s 1s/step - loss: 1.2520 - accuracy: 0.8944 - val_loss: 1.2385 - val_accuracy: 0.8982\n",
            "Epoch 27/50\n",
            "75/75 [==============================] - 90s 1s/step - loss: 1.2403 - accuracy: 0.8944 - val_loss: 1.2179 - val_accuracy: 0.8982\n",
            "Epoch 28/50\n",
            "75/75 [==============================] - 90s 1s/step - loss: 1.2368 - accuracy: 0.8944 - val_loss: 1.2046 - val_accuracy: 0.8982\n",
            "Epoch 29/50\n",
            "75/75 [==============================] - 93s 1s/step - loss: 1.2162 - accuracy: 0.8944 - val_loss: 1.2112 - val_accuracy: 0.8982\n",
            "Epoch 30/50\n",
            "75/75 [==============================] - 92s 1s/step - loss: 1.1931 - accuracy: 0.8944 - val_loss: 1.2023 - val_accuracy: 0.8982\n",
            "Epoch 31/50\n",
            "75/75 [==============================] - 90s 1s/step - loss: 1.1815 - accuracy: 0.8944 - val_loss: 1.1858 - val_accuracy: 0.8982\n",
            "Epoch 32/50\n",
            "75/75 [==============================] - 90s 1s/step - loss: 1.1786 - accuracy: 0.8944 - val_loss: 1.1663 - val_accuracy: 0.8982\n",
            "Epoch 33/50\n",
            "75/75 [==============================] - 90s 1s/step - loss: 1.1727 - accuracy: 0.8944 - val_loss: 1.1705 - val_accuracy: 0.8982\n",
            "Epoch 34/50\n",
            "75/75 [==============================] - 90s 1s/step - loss: 1.1483 - accuracy: 0.8944 - val_loss: 1.1691 - val_accuracy: 0.8982\n",
            "Epoch 35/50\n",
            "75/75 [==============================] - 90s 1s/step - loss: 1.1356 - accuracy: 0.8944 - val_loss: 1.1417 - val_accuracy: 0.8982\n",
            "Epoch 36/50\n",
            "75/75 [==============================] - 89s 1s/step - loss: 1.1355 - accuracy: 0.8944 - val_loss: 1.1580 - val_accuracy: 0.8982\n",
            "Epoch 37/50\n",
            "75/75 [==============================] - 90s 1s/step - loss: 1.1224 - accuracy: 0.8944 - val_loss: 1.1482 - val_accuracy: 0.8982\n",
            "Epoch 38/50\n",
            "75/75 [==============================] - 90s 1s/step - loss: 1.1277 - accuracy: 0.8944 - val_loss: 1.1547 - val_accuracy: 0.8982\n",
            "Epoch 38: early stopping\n"
          ]
        }
      ],
      "source": [
        "model_hist = model.fit(train_x, train_y,\n",
        "          epochs=50,\n",
        "          batch_size=64,\n",
        "          validation_data=(val_x, val_y),\n",
        "          callbacks=[early_stop])"
      ]
    },
    {
      "cell_type": "code",
      "execution_count": 29,
      "metadata": {
        "id": "l6rTs9XEh6xH",
        "colab": {
          "base_uri": "https://localhost:8080/"
        },
        "outputId": "549ab35d-231d-4f7c-a654-53d8afb1d066"
      },
      "outputs": [
        {
          "output_type": "stream",
          "name": "stdout",
          "text": [
            "Done\n"
          ]
        },
        {
          "output_type": "stream",
          "name": "stderr",
          "text": [
            "/usr/local/lib/python3.10/dist-packages/keras/src/engine/training.py:3103: UserWarning: You are saving your model as an HDF5 file via `model.save()`. This file format is considered legacy. We recommend using instead the native Keras format, e.g. `model.save('my_model.keras')`.\n",
            "  saving_api.save_model(\n"
          ]
        }
      ],
      "source": [
        "model.save(\"chatbot_model.h5\")\n",
        "print('Done')"
      ]
    },
    {
      "cell_type": "code",
      "execution_count": 30,
      "metadata": {
        "id": "wkntHhaVvgFO",
        "colab": {
          "base_uri": "https://localhost:8080/",
          "height": 927
        },
        "outputId": "7596f6c7-cd3a-4e4a-b79b-de2674adda2a"
      },
      "outputs": [
        {
          "output_type": "display_data",
          "data": {
            "text/plain": [
              "<Figure size 640x480 with 1 Axes>"
            ],
            "image/png": "[encoded data removed]"
          },
          "metadata": {}
        },
        {
          "output_type": "display_data",
          "data": {
            "text/plain": [
              "<Figure size 640x480 with 1 Axes>"
            ],
            "image/png": "[encoded data removed]"
          },
          "metadata": {}
        }
      ],
      "source": [
        "def plot(history):\n",
        "    #Plot accuracy\n",
        "    plt.plot(history.history['accuracy'])\n",
        "    plt.plot(history.history['val_accuracy'])\n",
        "    plt.title('Model Accuracy')\n",
        "    plt.ylabel('Accuracy')\n",
        "    plt.xlabel('epochs')\n",
        "    plt.legend(['Train', 'Val'], loc='upper left')\n",
        "    plt.show()\n",
        "\n",
        "    # Plot loss\n",
        "    plt.plot(history.history['loss'])\n",
        "    plt.plot(history.history['val_loss'])\n",
        "    plt.title('Model Loss')\n",
        "    plt.ylabel('Loss')\n",
        "    plt.xlabel('Epoch')\n",
        "    plt.legend(['Train', 'Val'], loc='upper left')\n",
        "    plt.show()\n",
        "\n",
        "plot(model_hist)"
      ]
    },
    {
      "cell_type": "code",
      "source": [
        "# Evaluate the model on test data\n",
        "test_loss, test_accuracy = model.evaluate(test_x, test_y)\n",
        "\n",
        "# Print results\n",
        "print(f\"Learning Rate: {lr}\")\n",
        "print(f\"Test Loss: {test_loss}\")\n",
        "print(f\"Test Accuracy: {test_accuracy}\")\n",
        "print(\"\\n\")"
      ],
      "metadata": {
        "colab": {
          "base_uri": "https://localhost:8080/"
        },
        "id": "B7o6uQBV_Z9e",
        "outputId": "e2b864a8-307e-49cf-87fe-841b600a4b8d"
      },
      "execution_count": 31,
      "outputs": [
        {
          "output_type": "stream",
          "name": "stdout",
          "text": [
            "19/19 [==============================] - 6s 288ms/step - loss: 1.2071 - accuracy: 0.8950\n",
            "Learning Rate: 0.0001\n",
            "Test Loss: 1.2070599794387817\n",
            "Test Accuracy: 0.8949999809265137\n",
            "\n",
            "\n"
          ]
        }
      ]
    },
    {
      "cell_type": "code",
      "execution_count": 32,
      "metadata": {
        "id": "0g71CvOS7z0_",
        "colab": {
          "base_uri": "https://localhost:8080/"
        },
        "outputId": "4f2ccc7b-9050-4746-a972-5e1225a1ac25"
      },
      "outputs": [
        {
          "output_type": "stream",
          "name": "stdout",
          "text": [
            "19/19 [==============================] - 6s 282ms/step\n",
            "Accuracy: 0.8981636060100167\n",
            "Precision: 0.9085342571508997\n",
            "Recall: 0.8981636060100167\n",
            "F1 Score: 0.8499771680446596\n"
          ]
        }
      ],
      "source": [
        "#Evaluate the model on validation data using accuracy, precision, recall and F1score\n",
        "predictions = model.predict(val_x)\n",
        "predicted_labels = np.argmax(predictions, axis=1)\n",
        "\n",
        "# Assuming val_y is a multilabel-indicator array\n",
        "val_y_single_label = np.argmax(val_y, axis=1)\n",
        "\n",
        "\n",
        "# Calculate accuracy, precision, recall, and f1 score\n",
        "accuracy = accuracy_score(val_y_single_label, predicted_labels)\n",
        "precision = precision_score(val_y_single_label, predicted_labels, average='weighted', zero_division=1)\n",
        "recall = recall_score(val_y_single_label, predicted_labels, average='weighted')\n",
        "f1 = f1_score(val_y_single_label, predicted_labels, average='weighted')\n",
        "\n",
        "# Print the results\n",
        "print(\"Accuracy:\", accuracy)\n",
        "print(\"Precision:\", precision)\n",
        "print(\"Recall:\", recall)\n",
        "print(\"F1 Score:\", f1)\n"
      ]
    },
    {
      "cell_type": "code",
      "source": [
        "#find input model shape\n",
        "# Load your model\n",
        "model = load_model('chatbot_model.h5')\n",
        "\n",
        "# Get the input shape of the model\n",
        "input_shape = model.layers[0].input_shape\n",
        "print(\"Model Input Shape:\", input_shape)"
      ],
      "metadata": {
        "colab": {
          "base_uri": "https://localhost:8080/"
        },
        "id": "jcwrZglKHG2A",
        "outputId": "5eb32b74-dbe1-4a40-cce0-4aa2c84cac59"
      },
      "execution_count": 33,
      "outputs": [
        {
          "output_type": "stream",
          "name": "stdout",
          "text": [
            "Model Input Shape: (None, 9674)\n"
          ]
        }
      ]
    },
    {
      "cell_type": "code",
      "source": [
        "with open('tags.pkl', 'rb') as f:\n",
        "    tags = pickle.load(f)\n",
        "\n",
        "print(len(tags))\n",
        "print(tags[:5]) # print first 5 tags"
      ],
      "metadata": {
        "colab": {
          "base_uri": "https://localhost:8080/"
        },
        "id": "V_8Oc9VBSGkI",
        "outputId": "b964f15b-3bd8-4f8c-e517-7229986694ef"
      },
      "execution_count": 34,
      "outputs": [
        {
          "output_type": "stream",
          "name": "stdout",
          "text": [
            "318\n",
            "['', ' ', ' brain', ' depressed', ' no']\n"
          ]
        }
      ]
    },
    {
      "cell_type": "code",
      "source": [
        "# Load the pre-trained model\n",
        "model = load_model('chatbot_model.h5')\n",
        "\n",
        "#tags = [\n",
        "   # 'depressed',\n",
        "    #'greeting',\n",
        "    #'sad',]\n",
        "\n",
        "\n",
        "with open('tags.pkl', 'rb') as f:\n",
        "    tags = pickle.load(f)\n",
        "\n",
        "\n",
        "# Assuming the model input shape is (None, 9674), adjust the input accordingly\n",
        "input_text = input(\"You: \")\n",
        "\n",
        "# Preprocess input\n",
        "input_words = nltk.word_tokenize(input_text)\n",
        "input_words = [lemmatizer.lemmatize(word.lower()) for word in input_words]\n",
        "\n",
        "# Create bag of words representation\n",
        "bag_of_words = []\n",
        "\n",
        "for word in words:\n",
        "    if word in input_words:\n",
        "        bag_of_words.append(1)\n",
        "    else:\n",
        "        bag_of_words.append(0)\n",
        "\n",
        "# Ensure the input shape matches the model's input shape\n",
        "input_arr = np.expand_dims(bag_of_words, axis=0)\n",
        "\n",
        "print(\"Input shape:\", input_arr.shape)\n",
        "\n",
        "# Make prediction\n",
        "prediction = model.predict(input_arr)[0]\n",
        "\n",
        "# Check the shapes\n",
        "print(\"Prediction shape:\", prediction.shape)\n",
        "print(\"Number of classes in the model:\", prediction.shape[0])\n",
        "print(\"Tags length:\", len(tags))\n",
        "\n",
        "# Ensure that the number of classes in the model matches the length of the tags list\n",
        "if prediction.shape[0] == len(tags) and prediction.shape[0] > 0:\n",
        "    predicted_tag = tags[np.argmax(prediction)]\n",
        "    confidence = max(prediction)\n",
        "    print(\"Predicted tag:\", predicted_tag)\n",
        "    print(\"Confidence:\", confidence)\n",
        "else:\n",
        "    print(\"Number of classes in the model doesn't match the length of the tags list.\")\n"
      ],
      "metadata": {
        "colab": {
          "base_uri": "https://localhost:8080/"
        },
        "id": "D2e_MjJzRf2a",
        "outputId": "ea722d13-3160-445d-f32a-7b959512142e"
      },
      "execution_count": 35,
      "outputs": [
        {
          "output_type": "stream",
          "name": "stdout",
          "text": [
            "You: hello\n",
            "Input shape: (1, 9674)\n",
            "1/1 [==============================] - 1s 895ms/step\n",
            "Prediction shape: (318,)\n",
            "Number of classes in the model: 318\n",
            "Tags length: 318\n",
            "Predicted tag:  \n",
            "Confidence: 0.9454184\n"
          ]
        }
      ]
    },
    {
      "cell_type": "code",
      "source": [
        "# Load resources\n",
        "lemmatizer = WordNetLemmatizer()\n",
        "model = load_model('chatbot_model.h5')\n",
        "with open('tags.pkl', 'rb') as f:\n",
        "    tags = pickle.load(f)\n",
        "\n",
        "with open('words.pkl', 'rb') as f:\n",
        "   all_words = pickle.load(f)\n",
        "\n",
        "# Preprocessing functions\n",
        "def preprocess(input_text):\n",
        "    input_words = nltk.word_tokenize(input_text)\n",
        "    input_words = [lemmatizer.lemmatize(word.lower()) for word in input_words]\n",
        "    return input_words\n",
        "\n",
        "def bag_of_words(input_words):\n",
        "\n",
        "    bag = [0] * len(all_words)\n",
        "    # all_words would be the full vocabulary\n",
        "\n",
        "    for word in input_words:\n",
        "        if word in all_words:\n",
        "            bag[all_words.index(word)] += 1\n",
        "\n",
        "    return np.array(bag)\n",
        "\n",
        "# Prediction function\n",
        "def predict_class(input_text):\n",
        "\n",
        "    # Preprocess input text\n",
        "    input_words = preprocess(input_text)\n",
        "\n",
        "    # Bag of words\n",
        "    input_arr = bag_of_words(input_words)\n",
        "\n",
        "    # Add batch dimension\n",
        "    input_arr = np.expand_dims(input_arr, axis=0)\n",
        "\n",
        "    # Make prediction\n",
        "    prediction = model.predict(input_arr)[0]\n",
        "\n",
        "    # Decode prediction\n",
        "    predicted_tag = tags[np.argmax(prediction)]\n",
        "    confidence = max(prediction)\n",
        "\n",
        "    print(\"Predicted tag:\", predicted_tag)\n",
        "    print(\"Confidence:\", confidence)\n",
        "\n",
        "\n",
        "# Test input\n",
        "input_text = input(\"You: \")\n",
        "predict_class(input_text)"
      ],
      "metadata": {
        "colab": {
          "base_uri": "https://localhost:8080/"
        },
        "id": "TFQrWYMZPs4D",
        "outputId": "177255aa-7b98-4edf-e5e6-3840b31ed11f"
      },
      "execution_count": 38,
      "outputs": [
        {
          "name": "stdout",
          "output_type": "stream",
          "text": [
            "You: i am sad\n"
          ]
        },
        {
          "output_type": "stream",
          "name": "stderr",
          "text": [
            "WARNING:tensorflow:5 out of the last 23 calls to <function Model.make_predict_function.<locals>.predict_function at 0x7b05a6c3eef0> triggered tf.function retracing. Tracing is expensive and the excessive number of tracings could be due to (1) creating @tf.function repeatedly in a loop, (2) passing tensors with different shapes, (3) passing Python objects instead of tensors. For (1), please define your @tf.function outside of the loop. For (2), @tf.function has reduce_retracing=True option that can avoid unnecessary retracing. For (3), please refer to https://www.tensorflow.org/guide/function#controlling_retracing and https://www.tensorflow.org/api_docs/python/tf/function for  more details.\n"
          ]
        },
        {
          "output_type": "stream",
          "name": "stdout",
          "text": [
            "1/1 [==============================] - 1s 857ms/step\n",
            "Predicted tag:  \n",
            "Confidence: 0.9454184\n"
          ]
        }
      ]
    }
  ],
  "metadata": {
    "accelerator": "GPU",
    "colab": {
      "provenance": [],
      "include_colab_link": true
    },
    "kernelspec": {
      "display_name": "Python 3",
      "name": "python3"
    },
    "language_info": {
      "name": "python"
    }
  },
  "nbformat": 4,
  "nbformat_minor": 0
}